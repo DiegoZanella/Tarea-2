{
 "cells": [
  {
   "cell_type": "code",
   "execution_count": null,
   "id": "7f9deb76",
   "metadata": {},
   "outputs": [],
   "source": [
    "using LinearAlgebra\n",
    "using Plots, ImplicitEquations\n",
    "\n",
    "include(\"Cholesky.jl\")\n",
    "include(\"Algoritmo LU.jl\")"
   ]
  },
  {
   "cell_type": "markdown",
   "id": "ed95cad6",
   "metadata": {},
   "source": [
    "# Problema 10\n",
    "\n",
    "Los siguientes datos representan las tasas de mortalidad (por cien mil) para las personas de edad 20-45, en Inglaterra\n",
    "durante el siglo XX :\n",
    "\n",
    "\\begin{array}{cccc}\n",
    "20-26 & 27-33 & 34-40 & 41-45 \\\\ \n",
    "431 & 499 & 746 & 956 \\\\ \n",
    "409 & 526 & 760 & 1014 \\\\ \n",
    "429 & 563 & 778 & 1076 \\\\ \n",
    "422 & 587 & 828 & 1134 \\\\ \n",
    "530 & 595 & 846 & 1024 \\\\ \n",
    "505 & 647 & 836 &  \\\\ \n",
    "459 & 669 & 916 & \n",
    "\\end{array}\n",
    "\n",
    "# a)\n",
    "\n",
    "Usando ecuaciones normales, ajusta una línea a los daots y grafícala junto con los datos. ¿Crees que los datos están bien representados por una línea recta?"
   ]
  },
  {
   "cell_type": "code",
   "execution_count": 13,
   "id": "d57f6b4c",
   "metadata": {},
   "outputs": [
    {
     "data": {
      "text/plain": [
       "26-element Vector{Int64}:\n",
       "  431\n",
       "  409\n",
       "  429\n",
       "  422\n",
       "  530\n",
       "  505\n",
       "  459\n",
       "  499\n",
       "  526\n",
       "  563\n",
       "  587\n",
       "  595\n",
       "  647\n",
       "  669\n",
       "  746\n",
       "  760\n",
       "  778\n",
       "  828\n",
       "  846\n",
       "  836\n",
       "  916\n",
       "  956\n",
       " 1014\n",
       " 1076\n",
       " 1134\n",
       " 1024"
      ]
     },
     "execution_count": 13,
     "metadata": {},
     "output_type": "execute_result"
    }
   ],
   "source": [
    "# Vector de edades\n",
    "E = LinRange(20,45,26)\n",
    "#Vector de mortandad por edad\n",
    "Mort = [431;409;429;422;530;505;459; 499; 526; 563; 587; 595; 647; 669; 746;\n",
    "    760; 778; 828; 846; 836; 916; 956;  1014; 1076; 1134; 1024]"
   ]
  },
  {
   "cell_type": "markdown",
   "id": "8d2f42a6",
   "metadata": {},
   "source": [
    "Buscamos parámetros $a,b \\in \\mathbb{R}$ tales que\n",
    "    \\begin{align}\n",
    "        M_i = a+bE_i\n",
    "    \\end{align}\n",
    "para cada observación $(E_i,M_i)$ (esto es, suponemos que hay una relación lineal entre la edad de una persona y su riesgo de muerte). Entonces\n",
    "    \\begin{align}\n",
    "        \\begin{pmatrix}\n",
    "            M_1 \\\\ M_2 \\\\ \\vdots \\\\ M_{26}\n",
    "        \\end{pmatrix} = \\begin{pmatrix}\n",
    "            1 & E_1 \\\\\n",
    "            1 & E_2 \\\\\n",
    "            \\vdots & \\vdots \\\\\n",
    "            1 & E_{26} \n",
    "        \\end{pmatrix} \\begin{pmatrix}\n",
    "            a \\\\\n",
    "            b\n",
    "        \\end{pmatrix}        \n",
    "    \\end{align}\n",
    "Por lo tanto, la matriz de diseño es\n",
    "    \\begin{align}\n",
    "        A = \\begin{pmatrix}\n",
    "            1 & E_1 \\\\\n",
    "            1 & E_2 \\\\\n",
    "            \\vdots & \\vdots \\\\\n",
    "            1 & E_{26} \n",
    "        \\end{pmatrix}\n",
    "    \\end{align}\n",
    "y el problema a resolver es $A \\beta  = M$, donde $\\beta = \\begin{pmatrix} a \\\\b \\end{pmatrix}$. Las ecuaciones normales de este problema son\n",
    "    \\begin{align}\n",
    "        A^T A \\beta = A^T M\n",
    "    \\end{align}"
   ]
  },
  {
   "cell_type": "code",
   "execution_count": 11,
   "id": "b8b4e7f5",
   "metadata": {},
   "outputs": [
    {
     "ename": "LoadError",
     "evalue": "UndefVarError: SolFwd not defined",
     "output_type": "error",
     "traceback": [
      "UndefVarError: SolFwd not defined",
      "",
      "Stacktrace:",
      " [1] top-level scope",
      "   @ In[11]:10",
      " [2] eval",
      "   @ ./boot.jl:360 [inlined]",
      " [3] include_string(mapexpr::typeof(REPL.softscope), mod::Module, code::String, filename::String)",
      "   @ Base ./loading.jl:1116"
     ]
    }
   ],
   "source": [
    "m = length(E)\n",
    "# Matriz de diseño\n",
    "A = ones(m,2)\n",
    "A[:,2] = E\n",
    "\n",
    "# Encontramos la factorización de Cholesky de A^T*A: A^T*A = L*L^T\n",
    "(L,LT) = FacChol(A'*A)\n",
    "\n",
    "# Resolvemos el sistema Lw = A^T M por sustitución hacia adelante\n",
    "w0 = SolFwd(L,A'*M)\n",
    "\n",
    "# Resolvemos el sistema L^t beta = w0"
   ]
  },
  {
   "cell_type": "code",
   "execution_count": 9,
   "id": "7a6ddb08",
   "metadata": {},
   "outputs": [
    {
     "data": {
      "text/plain": [
       "2×2 adjoint(::Matrix{Float64}) with eltype Float64:\n",
       " 5.09902  165.718\n",
       " 0.0       38.2426"
      ]
     },
     "execution_count": 9,
     "metadata": {},
     "output_type": "execute_result"
    }
   ],
   "source": [
    "LT"
   ]
  },
  {
   "cell_type": "code",
   "execution_count": 19,
   "id": "76addafd",
   "metadata": {},
   "outputs": [],
   "source": [
    "M = nothing\n"
   ]
  },
  {
   "cell_type": "code",
   "execution_count": null,
   "id": "622bafd9",
   "metadata": {},
   "outputs": [],
   "source": []
  }
 ],
 "metadata": {
  "kernelspec": {
   "display_name": "Julia 1.6.2",
   "language": "julia",
   "name": "julia-1.6"
  },
  "language_info": {
   "file_extension": ".jl",
   "mimetype": "application/julia",
   "name": "julia",
   "version": "1.6.3"
  }
 },
 "nbformat": 4,
 "nbformat_minor": 5
}
