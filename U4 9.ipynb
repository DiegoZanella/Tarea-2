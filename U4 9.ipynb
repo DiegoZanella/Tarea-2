{
 "cells": [
  {
   "cell_type": "code",
   "execution_count": 1,
   "id": "f6f0634a",
   "metadata": {},
   "outputs": [
    {
     "data": {
      "text/plain": [
       "LUPP (generic function with 1 method)"
      ]
     },
     "execution_count": 1,
     "metadata": {},
     "output_type": "execute_result"
    }
   ],
   "source": [
    "using LinearAlgebra\n",
    "using Plots\n",
    "\n",
    "include(\"Cholesky.jl\")\n",
    "include(\"Algoritmo LU.jl\")"
   ]
  },
  {
   "cell_type": "markdown",
   "id": "bd523ee7",
   "metadata": {},
   "source": [
    "# Problema 9\n",
    "\n",
    "En un trabajo relacionado con el estudio de la eficiencia de la utilización de la energía por las larvas de la polilla modesta (Pachysphinx modesta), L. Schroeder [Schrl] utilizó los siguientes datos para determinar una relación entre $W$, el peso de las larvas vivas en gramos, y $R$, el consumo de oxígeno de las larvas en mililitros/hora. Por razones biológicas, se supone que entre $W$ y $R$ existe una relación de la forma $R = b W^a$.\n",
    "\n",
    "\n",
    "\n",
    "\\begin{array}{|c|c|c|c|c|c|c|c|} \n",
    "W & R & W & R & W & R & W & R  \\\\ \n",
    "0.017 & 0.154 & 0.211 & 0.366 & 3.040 & 3.590 & 0.233 & 0.537 \\\\ \n",
    "0.087 & 0.296 & 0.999 & 0.771 & 4.290 & 3.600 & 0.783 & 1.470 \\\\ \n",
    "0.174 & 0.363 & 3.020 & 2.010 & 5.300 & 3.880 & 1.350 & 2.480 \\\\ \n",
    "1.110 & 0.531 & 4.280 & 3.280 & 0.020 & 0.180 & 1.690 & 1.440 \\\\ \n",
    "1.740 & 2.230 & 4.580 & 2.960 & 0.119 & 0.299 & 2.750 & 1.840 \\\\ \n",
    "4.090 & 3.580 & 4.680 & 5.100 & 0.210 & 0.428 & 4.830 & 4.660 \\\\ \n",
    "5.450 & 3.520 & 0.020 & 0.181 & 1.320 & 1.150 & 5.530 & 6.940 \\\\ \n",
    "5.960 & 2.400 & 0.085 & 0.260 & 3.340 & 2.830 &  &  \\\\ \n",
    "0.025 & 0.23 & 0.171 & 0.334 & 5.480 & 4.150 &  &  \\\\ \n",
    "0.111 & 0.257 & 1.290 & 0.870 & 0.025 & 0.234 &  & \n",
    "\\end{array}\n"
   ]
  },
  {
   "cell_type": "markdown",
   "id": "6ba5ac37",
   "metadata": {},
   "source": [
    "# a)\n",
    "Encuentre el polinomio logarítmico lineal de mínimos cuadrados\n",
    "\\begin{align}\n",
    "\\ln R = \\ln b + a \\ln W\n",
    "\\end{align}\n",
    "utilizando el método de rotaciones de Givens."
   ]
  },
  {
   "cell_type": "markdown",
   "id": "038f23d7",
   "metadata": {},
   "source": [
    "Buscamos que\n",
    "    \\begin{align}\n",
    "        \\ln R_i & = \\ln b + a \\ln W_i \\\\\n",
    "        & = \\begin{pmatrix}\n",
    "         1 & \\ln W_i\n",
    "        \\end{pmatrix} \\begin{pmatrix}\n",
    "        \\ln b \\\\ a\n",
    "        \\end{pmatrix}\n",
    "    \\end{align}\n",
    "    \n",
    "Por lo tanto, la matriz de diseño será la matriz de $37 \\times 2$\n",
    "    \\begin{align}\n",
    "        A = \\begin{pmatrix} \n",
    "            1 & \\ln W_1 \\\\\n",
    "            1 & \\ln W_2 \\\\\n",
    "            \\vdots \\\\\n",
    "            1 & \\ln W_{37}\n",
    "        \\end{pmatrix}\n",
    "    \\end{align}\n",
    "y buscamos resolver el problema \n",
    "    \\begin{align}\n",
    "        A \\beta = \\ln R,\n",
    "    \\end{align}\n",
    "donde\n",
    "    \\begin{align}\n",
    "        \\beta = \\begin{pmatrix}\n",
    "            \\ln b \\\\\n",
    "            a\n",
    "        \\end{pmatrix}\n",
    "     \\end{align}\n",
    "y\n",
    "    \\begin{align}\n",
    "        \\ln R = \\begin{pmatrix}\n",
    "            \\ln R_1 \\\\\n",
    "            \\ln R_2 \\\\\n",
    "            \\vdots \\\\\n",
    "            \\ln R_{37}\n",
    "           \\end{pmatrix}\n",
    "     \\end{align}"
   ]
  },
  {
   "cell_type": "code",
   "execution_count": 1,
   "id": "f24a8961",
   "metadata": {},
   "outputs": [
    {
     "ename": "LoadError",
     "evalue": "UndefVarError: I not defined",
     "output_type": "error",
     "traceback": [
      "UndefVarError: I not defined",
      "",
      "Stacktrace:",
      " [1] QRGivens(A::Matrix{Float64})",
      "   @ Main ./In[1]:41",
      " [2] top-level scope",
      "   @ In[1]:56",
      " [3] eval",
      "   @ ./boot.jl:360 [inlined]",
      " [4] include_string(mapexpr::typeof(REPL.softscope), mod::Module, code::String, filename::String)",
      "   @ Base ./loading.jl:1116"
     ]
    }
   ],
   "source": [
    "# Vectores de datos\n",
    "# Peso de las larvas\n",
    "W = [0.017; 0.087; 0.174; 1.110; 1.740; 4.090; 5.450; 5.960; 0.025; \n",
    "     0.111; 0.211; 3.040; 0.233; 0.999; 4.290; 0.783; 3.020; 5.300;\n",
    "     1.350; 4.280; 0.020; 1.690; 4.580; 0.119; 2.750; 4.680; 0.210;\n",
    "     4.830; 0.020; 1.320; 5.530; 0.085; 3.340; 0.171; 5.480; 1.290;\n",
    "     0.025]\n",
    "# Consumo de oxígeno en mililitros/hora\n",
    "R = [0.154; 0.366; 3.590; 0.537; 0.296; 0.771; 3.600; 1.470; 0.363; 2.010; \n",
    "    3.880; 2.480; 0.531; 3.280; 0.180; 1.440; 2.230; 2.960; 0.299; 1.840;\n",
    "    3.580; 5.100; 0.428; 4.660; 3.520; 0.181; 1.150; 6.940; 2.400; 0.260;\n",
    "    2.830;  0.23; 0.334; 4.150; 0.257; 0.870; 0.234]\n",
    "\n",
    "m = length(W)\n",
    "\n",
    "# Matriz de diseño\n",
    "A = ones(m,2)\n",
    "A[:,2] = log.(W)\n",
    "\n",
    "#ln R\n",
    "Rlog = log.(R)\n",
    "\n",
    "#Ahora necesitamos calcular la factorización QR de A mediante rotaciones de Givens.\n",
    "\n",
    "# Esta función toma un vector x de nxn y dos índices i,j \\leq n\n",
    "# Regresa una matriz de rotación G tal que y = Gx tiene su j-ésima \n",
    "# entrada es igual a 0\n",
    "function Givens(i,j,x)\n",
    "    n = length(x)\n",
    "    G = Matrix(1.0*I,n,n) \n",
    "    G[i,i] = x[i]/(sqrt(x[i]^2+x[j]^2))\n",
    "    G[j,j] = G[i,i]\n",
    "    G[j,i] = -x[j]/(sqrt(x[i]^2+x[j]^2))\n",
    "    G[i,j] = -G[j,i]\n",
    "    return(G)\n",
    "end\n",
    "\n",
    "# Esta función calcula la factorización QR de una matriz A mediante rotaciones de Givens\n",
    "function QRGivens(A)\n",
    "    (m,n) = size(A) \n",
    "    Q = Matrix(1.0*I,m,m)\n",
    "    B = A\n",
    "    for j = 1:n-1\n",
    "        for i = m:-1:j+1\n",
    "            x = B[:,j]\n",
    "            T = Givens(j,i,x)  ### Estamos parados en la j-ésima columna y queremos hacer cero la i-ésima entrada (ver comentario de fnción Givens)\n",
    "            B = T*B\n",
    "            Q = T*Q\n",
    "        end\n",
    "    end\n",
    "    Q = Q'\n",
    "    R = B\n",
    "    return(Q,R)\n",
    "end\n",
    "\n",
    "(Q, RComplete) = QRGivens(A)\n",
    "\n",
    "\n",
    "# Ya que tenemos la factorización QR, la usamos para resolver el sistema de ecuaciones\n",
    "# R* beta = Q^T ln(R)\n",
    "\n"
   ]
  },
  {
   "cell_type": "markdown",
   "id": "51620faf",
   "metadata": {},
   "source": [
    "Ya tenemos la factorización QR de A. Ahora tenemos que resolver el sistema \n",
    "    \\begin{align}\n",
    "        \\hat{R} \\beta = Q^T \\ln R\n",
    "    \\end{align}\n",
    "mediante sustitución hacia atrás"
   ]
  },
  {
   "cell_type": "code",
   "execution_count": 2,
   "id": "c84979e2",
   "metadata": {},
   "outputs": [
    {
     "ename": "LoadError",
     "evalue": "UndefVarError: RComplete not defined",
     "output_type": "error",
     "traceback": [
      "UndefVarError: RComplete not defined",
      "",
      "Stacktrace:",
      " [1] top-level scope",
      "   @ In[2]:1",
      " [2] eval",
      "   @ ./boot.jl:360 [inlined]",
      " [3] include_string(mapexpr::typeof(REPL.softscope), mod::Module, code::String, filename::String)",
      "   @ Base ./loading.jl:1116"
     ]
    }
   ],
   "source": [
    "beta = SolBwd(RComplete[1:2,1:2],(Q'*Rlog)[1:2,1])\n",
    "\n",
    "lnb = beta[1]\n",
    "a = beta[2]\n",
    "b = exp(lnb)\n",
    "\n",
    "println(a)\n",
    "println(lnb)\n",
    "println(b)"
   ]
  },
  {
   "cell_type": "markdown",
   "id": "3610f37d",
   "metadata": {},
   "source": [
    "De esta manera, \n",
    "    \\begin{align}\n",
    "        a & = 0.5072524246351425 \\\\\n",
    "        \\ln b & = 0.2335109470838186 \\\\\n",
    "        b & = 1.2630266542738828\n",
    "    \\end{align}\n",
    "Por lo tanto,\n",
    "    \\begin{align}\n",
    "        R & = bW^a \\\\\n",
    "        & = e^{0.2335109470838186} W^{0.5072524246351425}\n",
    "    \\end{align}"
   ]
  },
  {
   "cell_type": "markdown",
   "id": "c961cddf",
   "metadata": {},
   "source": [
    "# b)\n",
    "\n",
    "Calcule el error asociado a la aproxmación en la parte (a)"
   ]
  },
  {
   "cell_type": "code",
   "execution_count": 3,
   "id": "2b88364c",
   "metadata": {},
   "outputs": [
    {
     "ename": "LoadError",
     "evalue": "UndefVarError: a not defined",
     "output_type": "error",
     "traceback": [
      "UndefVarError: a not defined",
      "",
      "Stacktrace:",
      " [1] top-level scope",
      "   @ ./In[3]:4",
      " [2] eval",
      "   @ ./boot.jl:360 [inlined]",
      " [3] include_string(mapexpr::typeof(REPL.softscope), mod::Module, code::String, filename::String)",
      "   @ Base ./loading.jl:1116"
     ]
    }
   ],
   "source": [
    "E = 0\n",
    "\n",
    "for i = 1:37\n",
    "    E = E + (R[i] - b*(W[i]^a) )^2\n",
    "end\n",
    "\n",
    "println(E)"
   ]
  },
  {
   "cell_type": "markdown",
   "id": "d75019d2",
   "metadata": {},
   "source": [
    "# c)\n",
    "\n",
    "Modifique la ecuación logarítmica de mínimos cuadrados de la parte (a), agregando el término cuadrático $c (\\ln W_i)^2$, y después determine el polinomio logarítmico de mínimos cuadrados usando de nuevo el método de rotaciones de Givens. Calcule el error asociado a la aproximación."
   ]
  },
  {
   "cell_type": "markdown",
   "id": "dd6f80fc",
   "metadata": {},
   "source": [
    "El polinomio logarítmico es de la forma\n",
    "    \\begin{align}\n",
    "        \\ln R = \\ln b_2 + a_2 \\ln W + c_2 (\\ln W)^2.\n",
    "    \\end{align}\n",
    "    \n",
    "Ahora la matriz de diseño será de la forma\n",
    "    \\begin{align}\n",
    "         A = \\begin{pmatrix} \n",
    "            1 & \\ln W_1 & (\\ln W_1 )^2 \\\\\n",
    "            1 & \\ln W_2 & (\\ln W_2 )^2 \\\\\n",
    "            \\vdots \\\\\n",
    "            1 & \\ln W_{37} & (\\ln W_{37} )^2\n",
    "        \\end{pmatrix}\n",
    "    \\end{align}\n",
    "y buscamos resolver el problema \n",
    "    \\begin{align}\n",
    "        A \\gamma = \\ln R,\n",
    "    \\end{align}\n",
    "donde\n",
    "    \\begin{align}\n",
    "        \\gamma = \\begin{pmatrix}\n",
    "            \\ln b_2 \\\\\n",
    "            a_2 \\\\\n",
    "            c_2\n",
    "        \\end{pmatrix}\n",
    "     \\end{align}\n",
    "y\n",
    "    \\begin{align}\n",
    "        \\ln R = \\begin{pmatrix}\n",
    "            \\ln R_1 \\\\\n",
    "            \\ln R_2 \\\\\n",
    "            \\vdots \\\\\n",
    "            \\ln R_{37}\n",
    "           \\end{pmatrix}\n",
    "     \\end{align}"
   ]
  },
  {
   "cell_type": "code",
   "execution_count": 5,
   "id": "b5aadb01",
   "metadata": {},
   "outputs": [
    {
     "data": {
      "text/plain": [
       "([0.16439898730535726 -0.31678855141882806 … -0.16537264602577986 0.7048342842273488; 0.16439898730535726 -0.17799578662310012 … 0.8263967341365583 -0.12568710444616113; … ; 0.16439898730535735 0.051228451694382705 … 0.41409061453456675 0.0034913084568378105; 0.16439898730535726 -0.28400400232694906 … -0.31758436302016674 -0.6978516673136732], [6.082762530298219 -2.116715711899544 23.486277588634294; -6.519923962158026e-17 11.763543848999129 -21.959329885917384; … ; -9.301402406748514e-17 -1.7259041855875274e-16 -4.560404511318388; 1.4146550772786476e-17 -1.6525082561288963e-17 1.82839511089448])"
      ]
     },
     "execution_count": 5,
     "metadata": {},
     "output_type": "execute_result"
    }
   ],
   "source": [
    "# Matriz de diseño\n",
    "A2 = ones(m,3)\n",
    "A2[:,2] = log.(W)\n",
    "A2[:,3] = (log.(W)).*(log.(W))\n",
    "\n",
    "#ln R\n",
    "Rlog = log.(R)\n",
    "\n",
    "#Ahora necesitamos calcular la factorización QR de A mediante rotaciones de Givens.\n",
    "\n",
    "# Esta función toma un vector x de nxn y dos índices i,j \\leq n\n",
    "# Regresa una matriz de rotación G tal que y = Gx tiene su j-ésima \n",
    "# entrada es igual a 0\n",
    "function Givens(i,j,x)\n",
    "    n = length(x)\n",
    "    G = Matrix(1.0*I,n,n) \n",
    "    G[i,i] = x[i]/(sqrt(x[i]^2+x[j]^2))\n",
    "    G[j,j] = G[i,i]\n",
    "    G[j,i] = -x[j]/(sqrt(x[i]^2+x[j]^2))\n",
    "    G[i,j] = -G[j,i]\n",
    "    return(G)\n",
    "end\n",
    "\n",
    "# Esta función calcula la factorización QR de una matriz A mediante rotaciones de Givens\n",
    "function QRGivens(A)\n",
    "    (m,n) = size(A) \n",
    "    Q = Matrix(1.0*I,m,m)\n",
    "    B = A\n",
    "    for j = 1:n-1\n",
    "        for i = m:-1:j+1\n",
    "            x = B[:,j]\n",
    "            T = Givens(j,i,x)  ### Estamos parados en la j-ésima columna y queremos hacer cero la i-ésima entrada (ver comentario de fnción Givens)\n",
    "            B = T*B\n",
    "            Q = T*Q\n",
    "        end\n",
    "    end\n",
    "    Q = Q'\n",
    "    R = B\n",
    "    return(Q,R)\n",
    "end\n",
    "\n",
    "(Q2, R2Complete) = QRGivens(A2)"
   ]
  },
  {
   "cell_type": "code",
   "execution_count": 6,
   "id": "e2b9c906",
   "metadata": {},
   "outputs": [
    {
     "name": "stdout",
     "output_type": "stream",
     "text": [
      "-0.6312731855589997\n",
      "1.2406940191527989\n",
      "3.4580125591043056\n",
      "-0.363462897311612\n"
     ]
    }
   ],
   "source": [
    "beta2 = SolBwd(R2Complete[1:3,1:3],(Q2'*Rlog)[1:3,1])\n",
    "lnb2 = beta2[1]\n",
    "a2 = beta2[2]\n",
    "c2 = beta2[3]\n",
    "\n",
    "b2 = exp(lnb2)\n",
    "\n",
    "println(a2)\n",
    "println(lnb2)\n",
    "println(b2)\n",
    "println(c2)"
   ]
  },
  {
   "cell_type": "markdown",
   "id": "2a62789c",
   "metadata": {},
   "source": [
    "De esta manera,\n",
    "    \\begin{align}\n",
    "        a_2 & = -0.6312731855589997 \\\\\n",
    "        b_2 & = 3.4580125591043056 \\\\\n",
    "        c_2 & = -0.363462897311612\n",
    "    \\end{align}\n",
    "y el modelo es \n",
    "    \\begin{align}\n",
    "        R = b W^a \\exp ( c (\\ln W)^2)\n",
    "    \\end{align}"
   ]
  },
  {
   "cell_type": "code",
   "execution_count": 23,
   "id": "8105755c",
   "metadata": {},
   "outputs": [
    {
     "name": "stdout",
     "output_type": "stream",
     "text": [
      "163.1474067643412\n"
     ]
    }
   ],
   "source": [
    "Equad = 0\n",
    "for i = 1:37\n",
    "   Equad = Equad + ( R[i] - b2*(W[i]^a2)*exp(c2*(log(W[i])^2)))^2\n",
    "end\n",
    "println(Equad)"
   ]
  },
  {
   "cell_type": "markdown",
   "id": "1a36752a",
   "metadata": {},
   "source": [
    "# d)\n",
    "\n",
    "Agregue ahora un término cúbico a la ecuación logarítmica y determine el polinomio logarítmico de mínimos cuadrados con rotaciones de Givens. Calcule también el error y concluya."
   ]
  },
  {
   "cell_type": "markdown",
   "id": "474597a7",
   "metadata": {},
   "source": [
    "El polinomio logarítmico ahora es de la forma\n",
    "    \\begin{align}\n",
    "        \\ln R = \\ln b_3 + a_3 \\ln W + c_3 (\\ln W)^2 + d_3 (\\ln W)^3.\n",
    "    \\end{align}\n",
    "    \n",
    "Ahora la matriz de diseño será de la forma\n",
    "    \\begin{align}\n",
    "         A = \\begin{pmatrix} \n",
    "            1 & \\ln W_1 & (\\ln W_1 )^2 & (\\ln W_1)^3\\\\\n",
    "            1 & \\ln W_2 & (\\ln W_2 )^2 & (\\ln W_2)^3 \\\\\n",
    "            \\vdots & \\vdots & \\vdots & \\vdots \\\\\n",
    "            1 & \\ln W_{37} & (\\ln W_{37} )^2 & (\\ln W_{37})^3\n",
    "        \\end{pmatrix}\n",
    "    \\end{align}\n",
    "y buscamos resolver el problema \n",
    "    \\begin{align}\n",
    "        A \\delta = \\ln R,\n",
    "    \\end{align}\n",
    "donde\n",
    "    \\begin{align}\n",
    "        \\delta = \\begin{pmatrix}\n",
    "            \\ln b_3 \\\\\n",
    "            a_3 \\\\\n",
    "            c_3 \\\\\n",
    "            d_3\n",
    "        \\end{pmatrix}\n",
    "     \\end{align}\n",
    "y\n",
    "    \\begin{align}\n",
    "        \\ln R = \\begin{pmatrix}\n",
    "            \\ln R_1 \\\\\n",
    "            \\ln R_2 \\\\\n",
    "            \\vdots \\\\\n",
    "            \\ln R_{37}\n",
    "           \\end{pmatrix}\n",
    "     \\end{align}"
   ]
  },
  {
   "cell_type": "code",
   "execution_count": 24,
   "id": "c6c92c10",
   "metadata": {},
   "outputs": [
    {
     "name": "stdout",
     "output_type": "stream",
     "text": [
      "130.8219199816802\n"
     ]
    }
   ],
   "source": [
    "# Matriz de diseño\n",
    "A3 = ones(m,4)\n",
    "A3[:,2] = log.(W)\n",
    "A3[:,3] = (log.(W)).*(log.(W))\n",
    "A3[:,4] = (log.(W)).^3\n",
    "#ln R\n",
    "Rlog = log.(R)\n",
    "\n",
    "#Ahora necesitamos calcular la factorización QR de A mediante rotaciones de Givens.\n",
    "\n",
    "# Esta función toma un vector x de nxn y dos índices i,j \\leq n\n",
    "# Regresa una matriz de rotación G tal que y = Gx tiene su j-ésima \n",
    "# entrada es igual a 0\n",
    "function Givens(i,j,x)\n",
    "    n = length(x)\n",
    "    G = Matrix(1.0*I,n,n) \n",
    "    G[i,i] = x[i]/(sqrt(x[i]^2+x[j]^2))\n",
    "    G[j,j] = G[i,i]\n",
    "    G[j,i] = -x[j]/(sqrt(x[i]^2+x[j]^2))\n",
    "    G[i,j] = -G[j,i]\n",
    "    return(G)\n",
    "end\n",
    "\n",
    "# Esta función calcula la factorización QR de una matriz A mediante rotaciones de Givens\n",
    "function QRGivens(A)\n",
    "    (m,n) = size(A) \n",
    "    Q = Matrix(1.0*I,m,m)\n",
    "    B = A\n",
    "    for j = 1:n-1\n",
    "        for i = m:-1:j+1\n",
    "            x = B[:,j]\n",
    "            T = Givens(j,i,x)  ### Estamos parados en la j-ésima columna y queremos hacer cero la i-ésima entrada (ver comentario de fnción Givens)\n",
    "            B = T*B\n",
    "            Q = T*Q\n",
    "        end\n",
    "    end\n",
    "    Q = Q'\n",
    "    R = B\n",
    "    return(Q,R)\n",
    "end\n",
    "\n",
    "(Q3, R3Complete) = QRGivens(A3)\n",
    "\n",
    "#Ahora podemos encontrar delta como la solución del sistema triangular superior R \\delta = Q^T*\\ln R\n",
    "delta = SolBwd(R3Complete[1:4,1:4],((Q3)'*Rlog)[1:4,1] )\n",
    "\n",
    "lnb3 = delta[1] \n",
    "b3 = exp(lnb3)\n",
    "a3 = delta[2] \n",
    "c3 = delta[3] \n",
    "d3 = delta[4]\n",
    "\n",
    "Ecubic = 0\n",
    "for i = 1:37\n",
    "   Ecubic = Ecubic + ( R[i] - b3*(W[i]^a3)*exp(c3*(log(W[i])^2))*exp(d3*(log(W[i])^3)))^2\n",
    "end\n",
    "println(Ecubic)"
   ]
  },
  {
   "cell_type": "code",
   "execution_count": 25,
   "id": "7580f444",
   "metadata": {},
   "outputs": [
    {
     "name": "stdout",
     "output_type": "stream",
     "text": [
      "148.40532603675385\n",
      "163.1474067643412\n",
      "130.8219199816802\n"
     ]
    }
   ],
   "source": [
    "    println(E)\n",
    "    println(Equad)\n",
    "    println(Ecubic)"
   ]
  },
  {
   "cell_type": "markdown",
   "id": "10cb71b8",
   "metadata": {},
   "source": [
    "# Conclusión:\n",
    "\n",
    "El modelo con término cúbico obtiene la mejor aproximación"
   ]
  },
  {
   "cell_type": "code",
   "execution_count": null,
   "id": "80d04c22",
   "metadata": {},
   "outputs": [],
   "source": []
  }
 ],
 "metadata": {
  "kernelspec": {
   "display_name": "Julia 1.6.2",
   "language": "julia",
   "name": "julia-1.6"
  },
  "language_info": {
   "file_extension": ".jl",
   "mimetype": "application/julia",
   "name": "julia",
   "version": "1.6.3"
  }
 },
 "nbformat": 4,
 "nbformat_minor": 5
}
