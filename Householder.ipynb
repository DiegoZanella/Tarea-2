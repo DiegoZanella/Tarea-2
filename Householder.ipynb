{
 "cells": [
  {
   "cell_type": "markdown",
   "id": "364a0422",
   "metadata": {},
   "source": [
    "# Householder\n",
    "\n",
    "En este notebook desarrollamos el método de Householder para encontrar la factorización $QR$ de una matriz."
   ]
  },
  {
   "cell_type": "code",
   "execution_count": 1,
   "id": "e030ea32",
   "metadata": {},
   "outputs": [],
   "source": [
    "using LinearAlgebra"
   ]
  },
  {
   "cell_type": "code",
   "execution_count": 2,
   "id": "c842cd1f",
   "metadata": {},
   "outputs": [
    {
     "data": {
      "text/plain": [
       "QRHouseholder (generic function with 1 method)"
      ]
     },
     "execution_count": 2,
     "metadata": {},
     "output_type": "execute_result"
    }
   ],
   "source": [
    "#Esta función toma como argumento una matriz A y regresa la matriz de Householder H tal que\n",
    "# HA es una matriz cuya primera columna tiene puros ceros debajo de la diagonal\n",
    "function Householder(A)\n",
    "    (n,m)=size(A)\n",
    "\n",
    "    x = A[:,1]\n",
    "\n",
    "    e1 = zeros(n)\n",
    "    e1[1] = 1\n",
    "\n",
    "    v = x+sign(A[1,1])*norm(x)*e1\n",
    "    v = v/norm(v)\n",
    "\n",
    "    H = I -2*v*v'\n",
    "end\n",
    "\n",
    "#Esta función toma como argumento una matriz A de mxn. Regresa una tupla (Q,R) donde Q es una matriz ortogonal y\n",
    "# R es una matriz triangular superior tales que QR = A.\n",
    "function QRHouseholder(A)\n",
    "    (m,n) = size(A)\n",
    "    Q = Matrix(1.0*I,m,n)\n",
    "    R = A\n",
    "\n",
    "    for i = 1:n\n",
    "        HTild = Householder(R[i:n,i:n] )\n",
    "    \n",
    "        H = Matrix(1.0*I,m,n)\n",
    "        H[i:m,i:n] = HTild\n",
    "    \n",
    "        R = H*R\n",
    "        Q = H*Q\n",
    "    end\n",
    "    Q = Q'\n",
    "    return(Q,R)\n",
    "end\n",
    "\n"
   ]
  }
 ],
 "metadata": {
  "kernelspec": {
   "display_name": "Julia 1.6.2",
   "language": "julia",
   "name": "julia-1.6"
  },
  "language_info": {
   "file_extension": ".jl",
   "mimetype": "application/julia",
   "name": "julia",
   "version": "1.6.3"
  }
 },
 "nbformat": 4,
 "nbformat_minor": 5
}
