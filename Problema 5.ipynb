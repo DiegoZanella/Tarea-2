{
 "cells": [
  {
   "cell_type": "code",
   "execution_count": 1,
   "id": "47004879",
   "metadata": {},
   "outputs": [],
   "source": [
    "using LinearAlgebra"
   ]
  },
  {
   "cell_type": "code",
   "execution_count": null,
   "id": "221d9714",
   "metadata": {},
   "outputs": [],
   "source": []
  },
  {
   "cell_type": "markdown",
   "id": "e0ad3034",
   "metadata": {},
   "source": [
    "# Problema 5\n",
    "\n",
    "Considere los siguientes datos, obtenidos de un experimento a intervalos de un segundo, con la primera observación en el tiempo $t = 1.0$:\n",
    "\n",
    "t: 1 - 9                \n",
    "5.0291 \n",
    "6.5009 \n",
    "5.3666  \n",
    "4.1272 \n",
    "4.2948 \n",
    "6.1261 \n",
    "12.5140\n",
    "10.0502\n",
    "9.1614\n",
    "\n",
    "t: 10 -18 \n",
    "7.5677 \n",
    "7.2920\n",
    "10.0357\n",
    "11.0708\n",
    "13.4045\n",
    "12.8415\n",
    "11.9666 \n",
    "11.0765\n",
    "11.7774 \n",
    "\n",
    "t: 19 - 25  \n",
    "14.5701\n",
    "17.0440 \n",
    "17.0398 \n",
    "15.9069 \n",
    "15.4850\n",
    "15.5112\n",
    "17.6572\n",
    "\n"
   ]
  },
  {
   "cell_type": "code",
   "execution_count": 17,
   "id": "7cf2c416",
   "metadata": {},
   "outputs": [
    {
     "data": {
      "text/plain": [
       "25-element Vector{Float64}:\n",
       "  5.0291\n",
       "  6.5009\n",
       "  5.3666\n",
       "  4.1272\n",
       "  4.2948\n",
       "  6.1261\n",
       " 12.514\n",
       " 10.0502\n",
       "  9.1614\n",
       "  7.5677\n",
       "  7.292\n",
       " 10.0357\n",
       " 11.0708\n",
       " 13.4045\n",
       " 12.8415\n",
       " 11.9666\n",
       " 11.0765\n",
       " 11.7774\n",
       " 14.5701\n",
       " 17.044\n",
       " 17.0398\n",
       " 15.9069\n",
       " 15.485\n",
       " 15.5112\n",
       " 17.6572"
      ]
     },
     "execution_count": 17,
     "metadata": {},
     "output_type": "execute_result"
    }
   ],
   "source": [
    "t = [collect(1:25)]\n",
    "y = [ 5.0291; 6.5009; 5.3666; 4.1272 ; 4.2948; 6.1261; 12.5140; 10.0502;\n",
    "9.1614; 7.5677; 7.2920; 10.0357; 11.0708; 13.4045; 12.8415; 11.9666;\n",
    "11.0765; 11.7774; 14.5701; 17.0440; 17.0398; 15.9069; 15.4850; 15.5112;\n",
    "17.6572 ]\n",
    "\n"
   ]
  },
  {
   "cell_type": "markdown",
   "id": "5fe72b01",
   "metadata": {},
   "source": [
    "1. Utilizando las ecuaciones normales, ajuste los datos por una línea recta $y(t) = \\beta_1 + \\beta_2 t$ y grafique los residuales $y(t_k)-y_k$. Observe que uno de los datos tiene un residual mucho mayor que el resto. Sospechamos que no encaja con el resto de los datos, es decir, es un valor atípico."
   ]
  },
  {
   "cell_type": "code",
   "execution_count": null,
   "id": "e7a8d345",
   "metadata": {},
   "outputs": [],
   "source": []
  }
 ],
 "metadata": {
  "kernelspec": {
   "display_name": "Julia 1.6.2",
   "language": "julia",
   "name": "julia-1.6"
  },
  "language_info": {
   "file_extension": ".jl",
   "mimetype": "application/julia",
   "name": "julia",
   "version": "1.6.3"
  }
 },
 "nbformat": 4,
 "nbformat_minor": 5
}
