{
 "cells": [
  {
   "cell_type": "code",
   "execution_count": 103,
   "id": "d18ad135",
   "metadata": {},
   "outputs": [
    {
     "data": {
      "text/plain": [
       "LUPP (generic function with 1 method)"
      ]
     },
     "execution_count": 103,
     "metadata": {},
     "output_type": "execute_result"
    }
   ],
   "source": [
    "using LinearAlgebra\n",
    "\n",
    "\n",
    "include(\"Algoritmo LU.jl\")"
   ]
  },
  {
   "cell_type": "markdown",
   "id": "0cce1683",
   "metadata": {},
   "source": [
    "# Método de Newon para cálculo de valores y vectores propios.\n",
    "\n",
    "Resuelva el ejercicio 5.29 de la página 254 del libro Scientific computing, an introdutory survey de M. Heath.\n"
   ]
  },
  {
   "cell_type": "markdown",
   "id": "dea12fd5",
   "metadata": {},
   "source": [
    "Tomamos una matriz $A$ de $n \\times n$. Definimos la función $f \\colon \\mathbb{R}^{n+1} \\to \\mathbb{R}^{n+1}$ como\n",
    "    \\begin{align}\n",
    "        f(x,\\lambda) = \\begin{bmatrix} Ax - \\lambda x \\\\ x^T x-1 \\end{bmatrix}\n",
    "    \\end{align}\n",
    "Entonces el método de Newton para resolver la ecuación $f(x,\\lambda)=0$ toma la forma\n",
    "    \\begin{align}\n",
    "        \\begin{bmatrix} \n",
    "            x_{k+1} \\\\\n",
    "            \\lambda_{k+1}\n",
    "        \\end{bmatrix}\n",
    "        = \\begin{bmatrix}\n",
    "            x_k \\\\ \\lambda_k\n",
    "        \\end{bmatrix} + \\begin{bmatrix}\n",
    "            s_k \\\\ \\delta_k\n",
    "        \\end{bmatrix},\n",
    "    \\end{align}\n",
    "donde $\\begin{bmatrix} s_k & \\delta_k \\end{bmatrix}^T$ es la solución del sistema de ecuaciones\n",
    "    \\begin{align}\n",
    "        \\begin{bmatrix}\n",
    "            A - \\lambda_k I & -x_k \\\\\n",
    "            2 x_k^T & 0\n",
    "        \\end{bmatrix}\n",
    "        \\begin{bmatrix}\n",
    "            s_k \\\\ \\delta_k\n",
    "        \\end{bmatrix}\n",
    "        & = - \\begin{bmatrix}\n",
    "            Ax_k - \\lambda_k x_k \\\\\n",
    "            x_k^T x_k -1\n",
    "        \\end{bmatrix}\n",
    "    \\end{align}"
   ]
  },
  {
   "cell_type": "code",
   "execution_count": 363,
   "id": "87a85c4b",
   "metadata": {},
   "outputs": [
    {
     "name": "stdout",
     "output_type": "stream",
     "text": [
      "3\n"
     ]
    }
   ],
   "source": [
    "# Implementación del método de Newton\n",
    "\n",
    "# Usaremos el método de Householder para calcular la factorización QR del jacobiano\n",
    "\n",
    "#Esta función toma como argumento una matriz A y regresa la matriz de Householder H tal que\n",
    "# HA es una matriz cuya primera columna tiene puros ceros debajo de la diagonal\n",
    "function Householder(A)\n",
    "    x = A[:,1]\n",
    "\n",
    "    e1 = zeros(size(A)[1])\n",
    "    e1[1] = 1.0\n",
    "\n",
    "    v = x+sign(A[1,1])*norm(x)*e1\n",
    "    v = v/norm(v)\n",
    "\n",
    "    H = I -2*v*v'\n",
    "end\n",
    "\n",
    "#Esta función toma como argumento una matriz A de mxn. Regresa una tupla (Q,R) donde Q es una matriz ortogonal y\n",
    "# R es una matriz triangular superior tales que QR = A.\n",
    "function QRHouseholder(A)\n",
    "    (m,n) = size(A)\n",
    "    Q = Matrix(1.0*I,size(A)[1],size(A)[1])\n",
    "    R = A\n",
    "\n",
    "    for i = 1:size(A)[2]\n",
    "        HTild = Householder(R[i:size(A)[1],i:size(A)[2]] )\n",
    "    \n",
    "        H = Matrix(1.0*I,size(A)[1],size(A)[1])\n",
    "        H[i:size(A)[1],i:size(A)[1]] = HTild\n",
    "    \n",
    "        R = H*R\n",
    "        Q = H*Q\n",
    "    end\n",
    "    Q = Q'\n",
    "    return(Q,R)\n",
    "end\n",
    "\n",
    "# Tomamos como input una matriz A de nxn\n",
    "\n",
    "\n",
    "\n",
    "# Definimos la función f. x debe ser un vector de nx1 y y debe ser un número real\n",
    "function f(x,y)\n",
    "    n = length(x)\n",
    "    B = zeros(n+1)\n",
    "    B[1:n] = A*x-y*x\n",
    "    B[n+1] = x'*x - 1\n",
    "    return(B)\n",
    "end\n",
    "\n",
    "\n",
    "A = [1 0 0; 0 5 0; 0 0 9]\n",
    "(n,m) = size(A)\n",
    "\n",
    "# Aproximación inicial\n",
    "x0 = [1; -1; 1]\n",
    "x0 = x0/norm(x0)\n",
    "\n",
    "lambda0 = (x0)'*A*(x0)\n",
    "\n",
    "# Máximo de iteraciones\n",
    "nit = 1000\n",
    "\n",
    "# Tolerancia. El algortimo se detiene cuando norm( f( x_k, lambda_k) < tol\n",
    "tol = 10.0^(-16)\n",
    "\n",
    "xk = x0\n",
    "lambdak = lambda0\n",
    "\n",
    "C = zeros(n+1,n+1)\n",
    "c = zeros(n+1)\n",
    "\n",
    "for i = 1:nit\n",
    "    if norm( f(xk,lambdak) ) <= tol\n",
    "        println(i)\n",
    "        break\n",
    "    else\n",
    "        # Consideramos el siguiente sistema de ecuacions C [sk;deltak] = c\n",
    "        C[1:n,1:n] = A-lambdak*I\n",
    "        C[1:n,n+1] = -(xk)\n",
    "        C[n+1,1:n] = 2*(xk)'\n",
    "    \n",
    "        c[1:n] = -(A*xk - lambdak*xk )\n",
    "        c[n+1] = -( ( (xk)'*xk )-1 )\n",
    "    \n",
    "        #Calculamos la factorización QR de C\n",
    "        (Q,R) = QRHouseholder(C)\n",
    "    \n",
    "        #Resolvemos el sistema de (n+1) x (n+1):  R [s, delta] = Q'*c por sustitución hacia atrás\n",
    "        SDelta = SolBwd(R, Q'*c)\n",
    "    \n",
    "        xk = xk + SDelta[1:n]\n",
    "        # Normalizamos a xk\n",
    "        xk = xk/norm(xk)\n",
    "        lambdak = lambdak + SDelta[n+1]\n",
    "    end        \n",
    "end\n"
   ]
  },
  {
   "cell_type": "code",
   "execution_count": 269,
   "id": "696fdea9",
   "metadata": {},
   "outputs": [
    {
     "data": {
      "text/plain": [
       "3-element Vector{Int64}:\n",
       "  1\n",
       " -1\n",
       "  1"
      ]
     },
     "execution_count": 269,
     "metadata": {},
     "output_type": "execute_result"
    }
   ],
   "source": [
    "# Implementación del método de la potencia\n",
    "\n",
    "# Tomamos como input una matriz A de nxn y una aproximación inicial no nula\n",
    "A = [1 0 0; 0 5 0; 0 0 9]\n",
    "x0 = [1; -1; 1]\n",
    "\n"
   ]
  },
  {
   "cell_type": "code",
   "execution_count": 362,
   "id": "fda0dff6",
   "metadata": {},
   "outputs": [
    {
     "name": "stdout",
     "output_type": "stream",
     "text": [
      "67"
     ]
    }
   ],
   "source": [
    "# Implementación del método de la potencia normalizada \n",
    "\n",
    "# Tomamos como input una matriz A de nxn y una aproximación inicial no nula\n",
    "A = [1 0 0; 0 5 0; 0 0 9]\n",
    "x0 = [1; -1; 1]\n",
    "x0 = x0/norm(x0)\n",
    "# Máximo número de iteraciones y tolerancia\n",
    "nit = 1000000\n",
    "tol = 10.0^(-16)\n",
    "xk = x0\n",
    "lambdak = 0\n",
    "\n",
    "for i = 1:nit\n",
    "    if norm((A-lambdak*I)*xk)<= tol\n",
    "        print(i)\n",
    "        break\n",
    "    else\n",
    "        # Este índice es para encontrar la aproximación actual de lambda. Se define\n",
    "        # k0 de esta forma para evitar tomar una entrada de xk igual a 0 (o muy cercana a 0)\n",
    "        k0 = findfirst(a -> a == maximum( abs.(xk) ), abs.(xk))\n",
    "        lambdak = (A*xk)[k0]/xk[k0]\n",
    "        xk = A*xk  \n",
    "        xk = xk/norm(xk)\n",
    "    end\n",
    "end\n"
   ]
  },
  {
   "cell_type": "code",
   "execution_count": 360,
   "id": "37b1d2d9",
   "metadata": {},
   "outputs": [
    {
     "data": {
      "text/plain": [
       "9.0"
      ]
     },
     "execution_count": 360,
     "metadata": {},
     "output_type": "execute_result"
    }
   ],
   "source": [
    "lambdak\n"
   ]
  },
  {
   "cell_type": "code",
   "execution_count": 352,
   "id": "579556fa",
   "metadata": {},
   "outputs": [
    {
     "data": {
      "text/plain": [
       "1.0"
      ]
     },
     "execution_count": 352,
     "metadata": {},
     "output_type": "execute_result"
    }
   ],
   "source": [
    "lambda = ((A*xk)[1])/(xk[1])"
   ]
  },
  {
   "cell_type": "code",
   "execution_count": 337,
   "id": "280e8a51",
   "metadata": {},
   "outputs": [
    {
     "data": {
      "text/plain": [
       "3×3 Matrix{Int64}:\n",
       " 1  0  0\n",
       " 0  5  0\n",
       " 0  0  9"
      ]
     },
     "execution_count": 337,
     "metadata": {},
     "output_type": "execute_result"
    }
   ],
   "source": [
    "A"
   ]
  },
  {
   "cell_type": "code",
   "execution_count": 350,
   "id": "44fa932f",
   "metadata": {},
   "outputs": [
    {
     "data": {
      "text/plain": [
       "3-element Vector{Float64}:\n",
       "  1.0471149905198215e-63\n",
       " -1.4191054344546608e-17\n",
       "  1.0"
      ]
     },
     "execution_count": 350,
     "metadata": {},
     "output_type": "execute_result"
    }
   ],
   "source": [
    "xk"
   ]
  },
  {
   "cell_type": "code",
   "execution_count": 351,
   "id": "9407b9d1",
   "metadata": {},
   "outputs": [
    {
     "data": {
      "text/plain": [
       "3-element Vector{Float64}:\n",
       "  1.0471149905198215e-63\n",
       " -7.095527172273304e-17\n",
       "  9.0"
      ]
     },
     "execution_count": 351,
     "metadata": {},
     "output_type": "execute_result"
    }
   ],
   "source": [
    "A*xk"
   ]
  },
  {
   "cell_type": "code",
   "execution_count": 246,
   "id": "50272ef7",
   "metadata": {},
   "outputs": [
    {
     "data": {
      "text/plain": [
       "3-element Vector{Float64}:\n",
       "  5.127900497022836e-16\n",
       " -5.0\n",
       " -4.615110447320552e-15"
      ]
     },
     "execution_count": 246,
     "metadata": {},
     "output_type": "execute_result"
    }
   ],
   "source": [
    "A*xk\n"
   ]
  },
  {
   "cell_type": "code",
   "execution_count": 247,
   "id": "f6912b71",
   "metadata": {},
   "outputs": [
    {
     "data": {
      "text/plain": [
       "3-element Vector{Float64}:\n",
       "  2.5639502485114157e-15\n",
       " -4.999999999999996\n",
       " -2.5639502485114157e-15"
      ]
     },
     "execution_count": 247,
     "metadata": {},
     "output_type": "execute_result"
    }
   ],
   "source": [
    "lambdak*xk\n"
   ]
  },
  {
   "cell_type": "code",
   "execution_count": null,
   "id": "7d411bab",
   "metadata": {},
   "outputs": [],
   "source": []
  }
 ],
 "metadata": {
  "kernelspec": {
   "display_name": "Julia 1.6.2",
   "language": "julia",
   "name": "julia-1.6"
  },
  "language_info": {
   "file_extension": ".jl",
   "mimetype": "application/julia",
   "name": "julia",
   "version": "1.6.3"
  }
 },
 "nbformat": 4,
 "nbformat_minor": 5
}
