{
 "cells": [
  {
   "cell_type": "code",
   "execution_count": 1,
   "id": "2bf52628",
   "metadata": {},
   "outputs": [],
   "source": [
    "using LinearAlgebra"
   ]
  },
  {
   "cell_type": "markdown",
   "id": "69ce8d66",
   "metadata": {},
   "source": [
    "# Unidad 4\n",
    "# Problema 7 \n",
    "\n",
    "Para matrices que son de rango deficiente es natural observar una pérdida de ortogonalidad en la matriz $Q$ de la factorización $QR$. Po ejemplo, para la matriz\n",
    "\\begin{align}\n",
    "    A = \\begin{pmatrix}\n",
    "        1 & 1 & 1 \\\\\n",
    "        1 & 1 & 1 \\\\\n",
    "        1 & 1 & 1 \n",
    "    \\end{pmatrix}\n",
    "\\end{align}\n",
    "\n",
    "Un experimento interesante consiste en perturbar ligeramente la matriz de tal forma que\n",
    "\\begin{align}\n",
    "    A = \\begin{pmatrix}\n",
    "        1 & 1 & 1+\\epsilon \\\\\n",
    "        1+\\epsilon & 1 & 1 \\\\\n",
    "        1 & 1+\\epsilon & 1 \n",
    "    \\end{pmatrix}\n",
    "\\end{align}\n",
    "con $\\epsilon$ pequeño. Tomando esta matriz perturbada, realice lo siguiente para valores de $\\epsilon = 10^{-n}$ con $n = 0,1, \\dots ,15$."
   ]
  },
  {
   "cell_type": "markdown",
   "id": "4d3f6a0b",
   "metadata": {},
   "source": [
    "# a)\n",
    "La factorización $QR$ de la matriz por el méotodo de Gram-Schmidt y verifique la ortogonalidad de la matriz $Q$ resultante calculando la norma $|| Q^T Q -I||$."
   ]
  },
  {
   "cell_type": "code",
   "execution_count": 2,
   "id": "a5bf7af1",
   "metadata": {},
   "outputs": [
    {
     "ename": "LoadError",
     "evalue": "UndefVarError: Q not defined",
     "output_type": "error",
     "traceback": [
      "UndefVarError: Q not defined",
      "",
      "Stacktrace:",
      " [1] top-level scope",
      "   @ ./In[2]:19",
      " [2] eval",
      "   @ ./boot.jl:360 [inlined]",
      " [3] include_string(mapexpr::typeof(REPL.softscope), mod::Module, code::String, filename::String)",
      "   @ Base ./loading.jl:1116"
     ]
    }
   ],
   "source": [
    "# Aquí vamos a guardar los resultados del cálculo\n",
    "NormasGS = zeros(16)\n",
    "\n",
    "for n = 0:15\n",
    "    # Matriz perturbada\n",
    "    epsilon = 10.0^(-n)\n",
    "    A = [1 1 1+epsilon; 1+epsilon 1 1; 1 1+epsilon 1]\n",
    "    \n",
    "    # Vamos a encontrar la factorización QR mediante el método de\n",
    "    # Gram-Schmidt\n",
    "\n",
    "    #Aquí vamos hay ir guardando los vectores q y las v\n",
    "    QMatrix =  Matrix(1.0*I,3,3)\n",
    "    VMatrix = Matrix(1.0*I,3,3)\n",
    "    \n",
    "    VMatrix[:,1] = A[:,1]\n",
    "    QMatrix[:,1] = VMatrix[:,1]/norm(VMatrix[:,1])\n",
    "\n",
    "    VMatrix[:,2] = A[:,2]-(QMatrix[:,1]'*A[:,2])*Q[:,1]\n",
    "    QMatrix[:,2] = VMatrix[:,2]/(norm(VMatrix))\n",
    "\n",
    "    VMatrix[:,3] = A[:,3]-(QMatrix[:,1]'*A[:,3])*Q[:,1]-(QMatrix[:,2]'*A[:,3])*Q[:,2]\n",
    "    QMatrix[:,3] = VMatrix[:,3]/norm(VMatrix[:,3])\n",
    "    \n",
    "    NormasGS[n+1] = norm(QMatrix'*QMatrix-I)\n",
    "end"
   ]
  },
  {
   "cell_type": "markdown",
   "id": "8e2e36b8",
   "metadata": {},
   "source": [
    "# b)\n",
    "\n",
    "El mismo proceso pero mediante el método de reflexiones de Householder."
   ]
  },
  {
   "cell_type": "code",
   "execution_count": 3,
   "id": "4f0099d4",
   "metadata": {},
   "outputs": [],
   "source": [
    "#Esta función toma como argumento una matriz A y regresa la matriz de Householder H tal que\n",
    "# HA es una matriz cuya primera columna tiene puros ceros debajo de la diagonal\n",
    "function Householder(A)\n",
    "    (m,n)=size(A)\n",
    "\n",
    "    x = A[:,1]\n",
    "\n",
    "    e1 = zeros(m)\n",
    "    e1[1] = 1.0\n",
    "\n",
    "    v = x+sign(A[1,1])*norm(x)*e1\n",
    "    v = v/norm(v)\n",
    "\n",
    "    H = I -2*v*v'\n",
    "end\n",
    "\n",
    "#Esta función toma como argumento una matriz A de mxn. Regresa una tupla (Q,R) donde Q es una matriz ortogonal y\n",
    "# R es una matriz triangular superior tales que QR = A.\n",
    "function QRHouseholder(A)\n",
    "    (m,n) = size(A)\n",
    "    Q = Matrix(1.0*I,m,m)\n",
    "    R = A\n",
    "\n",
    "    for i = 1:n\n",
    "        HTild = Householder(R[i:m,i:n] )\n",
    "    \n",
    "        H = Matrix(1.0*I,m,m)\n",
    "        H[i:m,i:m] = HTild\n",
    "    \n",
    "        R = H*R\n",
    "        Q = H*Q\n",
    "    end\n",
    "    Q = Q'\n",
    "    return(Q,R)\n",
    "end\n",
    "\n",
    "\n",
    "#Aquí vamos a guardar los resultados del cálculo:\n",
    "NormasHouse = zeros(16)\n",
    "\n",
    "for n = 0:15\n",
    "    # Matriz perturbada\n",
    "    epsilon = 10.0^(-n)\n",
    "    A = [1 1 1+epsilon; 1+epsilon 1 1; 1 1+epsilon 1]\n",
    "    \n",
    "    #Factorización QR de A\n",
    "    (Q,R) = QRHouseholder(A)\n",
    "    \n",
    "    NormasHouse[n+1] = norm(Q'*Q-I)\n",
    "end"
   ]
  },
  {
   "cell_type": "markdown",
   "id": "06de1102",
   "metadata": {},
   "source": [
    "# c)\n",
    "El mismo proceso pero mediante el método de rotaciones de Givens."
   ]
  },
  {
   "cell_type": "markdown",
   "id": "3a70c1ea",
   "metadata": {},
   "source": [
    "Elabore una tabla donde ilustre y pueda comparar los resultados. ¿Qué puede concluir acerca de los métodos de factorización $QR$ para matrices cercanas a una de rango deficiente?, ¿cuál preserva mejor la ortogonalidad?\n"
   ]
  },
  {
   "cell_type": "code",
   "execution_count": 4,
   "id": "9da959af",
   "metadata": {},
   "outputs": [],
   "source": [
    "# Esta función toma un vector x de nxn y dos índices i,j \\leq n\n",
    "# Regresa una matriz de rotación G tal que y = Gx tiene su j-ésima \n",
    "# entrada es igual a 0\n",
    "function Givens(i,j,x)\n",
    "    n = length(x)\n",
    "    G = Matrix(1.0*I,n,n) \n",
    "    G[i,i] = x[i]/(sqrt(x[i]^2+x[j]^2))\n",
    "    G[j,j] = G[i,i]\n",
    "    G[j,i] = -x[j]/(sqrt(x[i]^2+x[j]^2))\n",
    "    G[i,j] = -G[j,i]\n",
    "    return(G)\n",
    "end\n",
    "\n",
    "# Esta función calcula la factorización QR de una matriz A mediante rotaciones de Givens\n",
    "function QRGivens(A)\n",
    "    (m,n) = size(A) \n",
    "    Q = Matrix(1.0*I,m,m)\n",
    "    B = A\n",
    "    for j = 1:n-1\n",
    "        for i = m:-1:j+1\n",
    "            x = B[:,j]\n",
    "            T = Givens(j,i,x)  ### Estamos parados en la j-ésima columna y queremos hacer cero la i-ésima entrada (ver comentario de fnción Givens)\n",
    "            B = T*B\n",
    "            Q = T*Q\n",
    "        end\n",
    "    end\n",
    "    Q = Q'\n",
    "    R = B\n",
    "    return(Q,R)\n",
    "end\n",
    "\n",
    "#Aquí vamos a guardar los resultados del cálculo\n",
    "NormasGivens = zeros(16)\n",
    "\n",
    "for n = 0:15\n",
    "    # Matriz perturbada\n",
    "    epsilon = 10.0^(-n)\n",
    "    A = [1 1 1+epsilon; 1+epsilon 1 1; 1 1+epsilon 1]\n",
    "    \n",
    "    #Factorización QR de A mediante Givens\n",
    "    (Q,R) = QRGivens(A)\n",
    "    \n",
    "    NormasGivens[n+1] = norm(Q'*Q-I)\n",
    "end\n"
   ]
  },
  {
   "cell_type": "code",
   "execution_count": 5,
   "id": "9a982870",
   "metadata": {},
   "outputs": [
    {
     "data": {
      "text/plain": [
       "16-element Vector{Float64}:\n",
       " 0.0\n",
       " 0.0\n",
       " 0.0\n",
       " 0.0\n",
       " 0.0\n",
       " 0.0\n",
       " 0.0\n",
       " 0.0\n",
       " 0.0\n",
       " 0.0\n",
       " 0.0\n",
       " 0.0\n",
       " 0.0\n",
       " 0.0\n",
       " 0.0\n",
       " 0.0"
      ]
     },
     "execution_count": 5,
     "metadata": {},
     "output_type": "execute_result"
    }
   ],
   "source": [
    "NormasGS"
   ]
  },
  {
   "cell_type": "code",
   "execution_count": 6,
   "id": "02516849",
   "metadata": {},
   "outputs": [
    {
     "data": {
      "text/plain": [
       "16-element Vector{Float64}:\n",
       " 2.7476618026966064e-16\n",
       " 9.297082117745284e-16\n",
       " 1.5700924586837752e-16\n",
       " 5.564975606931872e-16\n",
       " 5.338891568193822e-16\n",
       " 5.978733960281817e-16\n",
       " 2.9634845277824204e-16\n",
       " 8.785856370954422e-16\n",
       " 5.382005793715205e-16\n",
       " 6.181460191301304e-16\n",
       " 7.162874682589104e-16\n",
       " 5.661048867003676e-16\n",
       " 7.938288718631387e-16\n",
       " 7.977012308035777e-16\n",
       " 2.8576114088871287e-16\n",
       " 5.715222817774257e-16"
      ]
     },
     "execution_count": 6,
     "metadata": {},
     "output_type": "execute_result"
    }
   ],
   "source": [
    "NormasHouse\n"
   ]
  },
  {
   "cell_type": "code",
   "execution_count": 7,
   "id": "b4a53aac",
   "metadata": {},
   "outputs": [
    {
     "data": {
      "text/plain": [
       "16-element Vector{Float64}:\n",
       " 2.5514002453611344e-16\n",
       " 4.2998752849492583e-16\n",
       " 3.8459253727671276e-16\n",
       " 3.6821932062951477e-16\n",
       " 2.254873622441467e-16\n",
       " 4.577566798522237e-16\n",
       " 4.1725779438208954e-16\n",
       " 3.6821932062951477e-16\n",
       " 3.597533769998862e-16\n",
       " 3.3537189618722464e-16\n",
       " 2.603703785810335e-16\n",
       " 1.7554167342883506e-16\n",
       " 3.040470972244059e-16\n",
       " 2.9634845277824204e-16\n",
       " 3.260541871072589e-16\n",
       " 2.8576114088871287e-16"
      ]
     },
     "execution_count": 7,
     "metadata": {},
     "output_type": "execute_result"
    }
   ],
   "source": [
    "NormasGivens"
   ]
  },
  {
   "cell_type": "markdown",
   "id": "54d0233f",
   "metadata": {},
   "source": [
    "# Falta crear el código para la tabla"
   ]
  },
  {
   "cell_type": "code",
   "execution_count": null,
   "id": "45acb0d1",
   "metadata": {},
   "outputs": [],
   "source": []
  }
 ],
 "metadata": {
  "kernelspec": {
   "display_name": "Julia 1.6.2",
   "language": "julia",
   "name": "julia-1.6"
  },
  "language_info": {
   "file_extension": ".jl",
   "mimetype": "application/julia",
   "name": "julia",
   "version": "1.6.3"
  }
 },
 "nbformat": 4,
 "nbformat_minor": 5
}
