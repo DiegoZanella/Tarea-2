{
 "cells": [
  {
   "cell_type": "code",
   "execution_count": 1,
   "id": "e67a4355",
   "metadata": {},
   "outputs": [
    {
     "data": {
      "text/plain": [
       "LUPP (generic function with 1 method)"
      ]
     },
     "execution_count": 1,
     "metadata": {},
     "output_type": "execute_result"
    }
   ],
   "source": [
    "using LinearAlgebra\n",
    "using Plots\n",
    "\n",
    "include(\"Cholesky.jl\")\n",
    "include(\"Algoritmo LU.jl\")"
   ]
  },
  {
   "cell_type": "markdown",
   "id": "revised-homeless",
   "metadata": {},
   "source": [
    "# ANÁLISIS NUMÉRICO\n",
    "# TAREA 2\n",
    "# Diego López Zanella\n"
   ]
  },
  {
   "cell_type": "markdown",
   "id": "pacific-victoria",
   "metadata": {},
   "source": [
    "# PROBLEMA 1\n",
    "\n"
   ]
  },
  {
   "cell_type": "markdown",
   "id": "62b0390b",
   "metadata": {},
   "source": [
    "Dados los siguientes vectores:\n",
    "$$\\alpha = \\begin{pmatrix} 4 \\\\ 3  \\end{pmatrix}, \\;\\; \\beta = \\begin{pmatrix} 2 \\\\ 1 \\\\ 2  \\end{pmatrix}$$\n",
    "\n",
    "encuentre la matriz de rotación $G$ y el reflector de Householder $F$ tales que \n",
    "\n",
    "$$G \\alpha = \\begin{pmatrix} 5 \\\\ 0  \\end{pmatrix}, \\;\\; F \\beta = \\begin{pmatrix} -3 \\\\ 0 \\\\ 0  \\end{pmatrix}$$\n"
   ]
  },
  {
   "cell_type": "code",
   "execution_count": 2,
   "id": "c68bca8d",
   "metadata": {},
   "outputs": [
    {
     "data": {
      "text/plain": [
       "2×2 Matrix{Float64}:\n",
       " 0.8   0.6\n",
       " 0.6  -0.8"
      ]
     },
     "execution_count": 2,
     "metadata": {},
     "output_type": "execute_result"
    }
   ],
   "source": [
    "#Problema 2\n",
    "\n",
    "A = [4 10; 3 0]\n",
    "x = [4;3];\n",
    "v = norm(x).*[1;0]-x\n",
    "H = I-2* ( (v*v')./(v'*v) )\n",
    "H*A\n",
    "H"
   ]
  },
  {
   "cell_type": "markdown",
   "id": "09ae9949",
   "metadata": {},
   "source": [
    "# Problema 3"
   ]
  },
  {
   "cell_type": "markdown",
   "id": "e0decefb",
   "metadata": {},
   "source": [
    "El siguiente problema consiste en determinar la curva de crecimiento de una población de bacterias. Los datos a utilizar son: el número de individuos de una especia particular de bacterias $(y_i)$ en el tiempo $(t_i)$.\n",
    "\n",
    "\\begin{align}\n",
    "        t & = [0,4,7.5,25,31,48.75,52,58.5,72.7,78,95,96,108,112,133,136.75,143,156.5,166.7,181] \\\\\n",
    "        y & = [8,6,6,7,8,10,13,18,33,38,76,78,164,175,280,300,320,405,385,450].\n",
    "    \\end{align}"
   ]
  },
  {
   "cell_type": "markdown",
   "id": "822d24c6",
   "metadata": {},
   "source": [
    "# Recordatorio de qué son las ecuaciones normales\n",
    "\n",
    "Tenemos como datos el vector $t$ y el vector $y$. Buscamos un vector de parámetros $c = (c_0, \\dots , c_n)$ tal que si\n",
    "    \\begin{align}\n",
    "        \\phi (t) = c_0 +c_1 t+c_2t^2 + \\cdots + c_n t^n\n",
    "    \\end{align}\n",
    "entonces $\\phi(t_i)=y_i$; es decir,\n",
    "    \\begin{align}\n",
    "        A c = y\n",
    "    \\end{align}\n",
    "donde $A$ es la matriz de diseño $A = \\left( t_i^j \\right)_{ij}$. Es posible que $y$ no esté en el rango de $A$, por lo que el problema podría no tener solución. Por tanto, buscamos una solución aproximada mediante el método de mínimos cuadrados. Se demuestra que el vector de parámetros $c$ que minimiza la distancia\n",
    "    \\begin{align}\n",
    "        \\left| \\left| Ac - y \\right| \\right|\n",
    "     \\end{align}\n",
    "es solución del sistema de ecuaciones normales:\n",
    "    \\begin{align}\n",
    "        A^T A c = A^T y.\n",
    "    \\end{align}\n",
    "Cuando la matriz $A$ tiene rango completo, $A^T A $ es una matriz definida positiva, por lo que podemos calcular su factorización de Cholesky: $A^T A = L L^T$. Por lo tanto, las ecuaciones normales se pueden resolver de la siguiente forma:\n",
    "\n",
    "1 Encontramos una solución $w_0$ a la ecuación $Lw  = A^Ty$. Como $L$ es triangular inferior, podemos resolver este sistema mediante sustitución hacia adelante.\n",
    "\n",
    "2 Encontramos una solución $c_0$ a la ecuación $L^T c = w_0$. Como $L^T$ es triangular superior, este sistema lo resolvemos mediante sustitución hacia adelante.\n",
    "\n",
    "De esta forma,\n",
    "    \\begin{align}\n",
    "        A^T A c_0 & = L L^T c_0 \\\\\n",
    "        & = L w_0 \\\\\n",
    "        & = A^T y.\n",
    "    \\end{align}\n",
    "    \n",
    " Una vez encontrado el vector de parámetros $c_0$, ya podemos proponer el siguiente modelo para las observaciones $(t_i,y_i)$:\n",
    "     \\begin{align}\n",
    "         \\phi(t) = c^T \\begin{pmatrix} 1 \\\\ t \\\\ \\vdots \\\\ t^n\n",
    "         \\end{pmatrix}\n",
    "     \\end{align}"
   ]
  },
  {
   "cell_type": "markdown",
   "id": "00fc505e",
   "metadata": {},
   "source": [
    "1 Realice un programa que calcule el polinomio de ajuste de grado $n$ (con $n$ dada por el usuario) mediante el método de Ecuaciones normales."
   ]
  },
  {
   "cell_type": "code",
   "execution_count": 3,
   "id": "e4c33730",
   "metadata": {},
   "outputs": [],
   "source": [
    "#Datos dados. y_i es el número de individuos en el tiempo t_i.\n",
    "t = [0 ; 4; 7.5; 25; 31; 48.75; 52 ; 58.5; 72.7; 78; 95; 96; 108; 112; 133; 136.75; 143; 156.5; 166.7;181];\n",
    "y = [8; 6; 6; 7; 8; 10; 13; 18; 33; 38; 76; 78; 164; 175; 280; 300; 320; 405; 385; 450];"
   ]
  },
  {
   "cell_type": "code",
   "execution_count": 4,
   "id": "492fa4d1",
   "metadata": {},
   "outputs": [
    {
     "data": {
      "text/plain": [
       "PolyModel (generic function with 1 method)"
      ]
     },
     "execution_count": 4,
     "metadata": {},
     "output_type": "execute_result"
    }
   ],
   "source": [
    "#Esta función toma como argumentos un vector de parámetros c = (c_0,c_1,..., c_{n-1})^T y regresa la función polinomial\n",
    "# Poly(t) = c_0 + c_1 t+c_2 t^2+ ... + c_{n} t^n\n",
    "#function Poly(c,n,t)\n",
    "#    y = zeros(n+1)\n",
    "#    for i = 0:n\n",
    "#       y[i+1] = t^i \n",
    "#    end\n",
    "#    return c'*y\n",
    "#end\n",
    "\n",
    "#### Esta función toma como argumentos un número natural n,\n",
    "# un vector de tiempos t y un vector de población y (el elemento y_i es la cantidad de individuos en le tiempo t_i).\n",
    "# PolyModel(n,t,y) arroja una función Modeln(t) polinómica de grado n que aproxima a las observaciones (t_i,y_i),\n",
    "# es decir, Modeln(t_i) se parece a y_i\n",
    "function PolyModel(n,t,y)\n",
    "    #Número de observaciones\n",
    "    m = length(t) \n",
    "    \n",
    "    #Calculamos la matriz de diseño A. Esta es una matriz de  mx(n+1). La entrada A_{ij} = t_i^{j-1}\n",
    "    A = zeros(m,n+1);\n",
    "    for i = 1:m\n",
    "        for j = 1:n+1\n",
    "            A[i,j] = t[i]^(j-1)\n",
    "        end\n",
    "    end\n",
    "    \n",
    "    \n",
    "    #Buscamos la factorización de Cholesky de A^T A\n",
    "    (L,U) = FacChol(A'*A)\n",
    "\n",
    "    # Encontramos una solución w_0 a la ecuación lineal  Lw = A^Ty mediante la función SolFwd \n",
    "    #   (porque L es triangular inferior).\n",
    "    w0 = SolFwd(L,A'*y)\n",
    "\n",
    "    # Encontramos una solución c_0 a la ecuación lineal L^Tc = w_0 mediante la función SolBwd\n",
    "    # (porque L^T es triangular superior).\n",
    "    c0 = SolBwd(L',w0)\n",
    "    \n",
    "    #Aquí construimos la función polinomial PolyMod(x) = c0^T * (1,x, ... , x^n)^T\n",
    "    function PolyFun(x)\n",
    "        y = zeros(n+1)\n",
    "        for i = 1:n+1\n",
    "            y[i] = x^(i-1)\n",
    "        end\n",
    "        return c0'*y\n",
    "    end\n",
    "    \n",
    "    return(PolyFun)\n",
    "end"
   ]
  },
  {
   "cell_type": "code",
   "execution_count": 5,
   "id": "0c235afc",
   "metadata": {},
   "outputs": [
    {
     "data": {
      "text/plain": [
       "1.9208751879069884e76"
      ]
     },
     "execution_count": 5,
     "metadata": {},
     "output_type": "execute_result"
    }
   ],
   "source": [
    "n = 21\n",
    "#Número de observaciones\n",
    "    m = length(t) \n",
    "    \n",
    "    #Calculamos la matriz de diseño A. Esta es una matriz de  mx(n+1). La entrada A_{ij} = t_i^{j-1}\n",
    "    A = zeros(m,n+1);\n",
    "    for i = 1:m\n",
    "        for j = 1:n+1\n",
    "            A[i,j] = t[i]^(j-1)\n",
    "        end\n",
    "    end\n",
    "    \n",
    "cond(A'*A)"
   ]
  },
  {
   "cell_type": "markdown",
   "id": "58cf7f89",
   "metadata": {},
   "source": [
    "Lo siguiente es una prueba."
   ]
  },
  {
   "cell_type": "code",
   "execution_count": 6,
   "id": "de9f7cdc",
   "metadata": {},
   "outputs": [
    {
     "data": {
      "text/plain": [
       "(::var\"#PolyFun#3\"{Int64, Vector{Float64}}) (generic function with 1 method)"
      ]
     },
     "execution_count": 6,
     "metadata": {},
     "output_type": "execute_result"
    }
   ],
   "source": [
    "t2 = [ 1; 2; 3; 4]\n",
    "y2 = t2.*t2\n",
    "\n",
    "f = PolyModel(2,t2,y2)"
   ]
  },
  {
   "cell_type": "markdown",
   "id": "51ad8526",
   "metadata": {},
   "source": [
    "Usando la función PolyModel definida arriba, obtenemos un modelo \n",
    "$g = PolyModel(n,t,y)$. Ahora vamos a plotear $(t_i,y_i)$ y $(t_i,g(t_i) )$ para observar qué tan bien ajusta los datos la función $g$."
   ]
  },
  {
   "cell_type": "code",
   "execution_count": 54,
   "id": "6e7c5341",
   "metadata": {},
   "outputs": [
    {
     "data": {
      "image/svg+xml": [
       "<?xml version=\"1.0\" encoding=\"utf-8\"?>\n",
       "<svg xmlns=\"http://www.w3.org/2000/svg\" xmlns:xlink=\"http://www.w3.org/1999/xlink\" width=\"600\" height=\"400\" viewBox=\"0 0 2400 1600\">\n",
       "<defs>\n",
       "  <clipPath id=\"clip350\">\n",
       "    <rect x=\"0\" y=\"0\" width=\"2400\" height=\"1600\"/>\n",
       "  </clipPath>\n",
       "</defs>\n",
       "<path clip-path=\"url(#clip350)\" d=\"\n",
       "M0 1600 L2400 1600 L2400 0 L0 0  Z\n",
       "  \" fill=\"#ffffff\" fill-rule=\"evenodd\" fill-opacity=\"1\"/>\n",
       "<defs>\n",
       "  <clipPath id=\"clip351\">\n",
       "    <rect x=\"480\" y=\"0\" width=\"1681\" height=\"1600\"/>\n",
       "  </clipPath>\n",
       "</defs>\n",
       "<path clip-path=\"url(#clip350)\" d=\"\n",
       "M239.19 1486.45 L2352.76 1486.45 L2352.76 123.472 L239.19 123.472  Z\n",
       "  \" fill=\"#ffffff\" fill-rule=\"evenodd\" fill-opacity=\"1\"/>\n",
       "<defs>\n",
       "  <clipPath id=\"clip352\">\n",
       "    <rect x=\"239\" y=\"123\" width=\"2115\" height=\"1364\"/>\n",
       "  </clipPath>\n",
       "</defs>\n",
       "<polyline clip-path=\"url(#clip352)\" style=\"stroke:#000000; stroke-linecap:butt; stroke-linejoin:round; stroke-width:2; stroke-opacity:0.1; fill:none\" points=\"\n",
       "  299.008,1486.45 299.008,123.472 \n",
       "  \"/>\n",
       "<polyline clip-path=\"url(#clip352)\" style=\"stroke:#000000; stroke-linecap:butt; stroke-linejoin:round; stroke-width:2; stroke-opacity:0.1; fill:none\" points=\"\n",
       "  849.818,1486.45 849.818,123.472 \n",
       "  \"/>\n",
       "<polyline clip-path=\"url(#clip352)\" style=\"stroke:#000000; stroke-linecap:butt; stroke-linejoin:round; stroke-width:2; stroke-opacity:0.1; fill:none\" points=\"\n",
       "  1400.63,1486.45 1400.63,123.472 \n",
       "  \"/>\n",
       "<polyline clip-path=\"url(#clip352)\" style=\"stroke:#000000; stroke-linecap:butt; stroke-linejoin:round; stroke-width:2; stroke-opacity:0.1; fill:none\" points=\"\n",
       "  1951.44,1486.45 1951.44,123.472 \n",
       "  \"/>\n",
       "<polyline clip-path=\"url(#clip350)\" style=\"stroke:#000000; stroke-linecap:butt; stroke-linejoin:round; stroke-width:4; stroke-opacity:1; fill:none\" points=\"\n",
       "  239.19,1486.45 2352.76,1486.45 \n",
       "  \"/>\n",
       "<polyline clip-path=\"url(#clip350)\" style=\"stroke:#000000; stroke-linecap:butt; stroke-linejoin:round; stroke-width:4; stroke-opacity:1; fill:none\" points=\"\n",
       "  299.008,1486.45 299.008,1467.55 \n",
       "  \"/>\n",
       "<polyline clip-path=\"url(#clip350)\" style=\"stroke:#000000; stroke-linecap:butt; stroke-linejoin:round; stroke-width:4; stroke-opacity:1; fill:none\" points=\"\n",
       "  849.818,1486.45 849.818,1467.55 \n",
       "  \"/>\n",
       "<polyline clip-path=\"url(#clip350)\" style=\"stroke:#000000; stroke-linecap:butt; stroke-linejoin:round; stroke-width:4; stroke-opacity:1; fill:none\" points=\"\n",
       "  1400.63,1486.45 1400.63,1467.55 \n",
       "  \"/>\n",
       "<polyline clip-path=\"url(#clip350)\" style=\"stroke:#000000; stroke-linecap:butt; stroke-linejoin:round; stroke-width:4; stroke-opacity:1; fill:none\" points=\"\n",
       "  1951.44,1486.45 1951.44,1467.55 \n",
       "  \"/>\n",
       "<path clip-path=\"url(#clip350)\" d=\"M299.008 1515.64 Q295.397 1515.64 293.568 1519.2 Q291.763 1522.75 291.763 1529.87 Q291.763 1536.98 293.568 1540.55 Q295.397 1544.09 299.008 1544.09 Q302.643 1544.09 304.448 1540.55 Q306.277 1536.98 306.277 1529.87 Q306.277 1522.75 304.448 1519.2 Q302.643 1515.64 299.008 1515.64 M299.008 1511.93 Q304.818 1511.93 307.874 1516.54 Q310.953 1521.12 310.953 1529.87 Q310.953 1538.6 307.874 1543.21 Q304.818 1547.79 299.008 1547.79 Q293.198 1547.79 290.119 1543.21 Q287.064 1538.6 287.064 1529.87 Q287.064 1521.12 290.119 1516.54 Q293.198 1511.93 299.008 1511.93 Z\" fill=\"#000000\" fill-rule=\"evenodd\" fill-opacity=\"1\" /><path clip-path=\"url(#clip350)\" d=\"M824.517 1512.56 L842.873 1512.56 L842.873 1516.5 L828.799 1516.5 L828.799 1524.97 Q829.818 1524.62 830.836 1524.46 Q831.855 1524.27 832.873 1524.27 Q838.66 1524.27 842.04 1527.44 Q845.419 1530.62 845.419 1536.03 Q845.419 1541.61 841.947 1544.71 Q838.475 1547.79 832.156 1547.79 Q829.98 1547.79 827.711 1547.42 Q825.466 1547.05 823.058 1546.31 L823.058 1541.61 Q825.142 1542.74 827.364 1543.3 Q829.586 1543.86 832.063 1543.86 Q836.068 1543.86 838.406 1541.75 Q840.744 1539.64 840.744 1536.03 Q840.744 1532.42 838.406 1530.31 Q836.068 1528.21 832.063 1528.21 Q830.188 1528.21 828.313 1528.62 Q826.461 1529.04 824.517 1529.92 L824.517 1512.56 Z\" fill=\"#000000\" fill-rule=\"evenodd\" fill-opacity=\"1\" /><path clip-path=\"url(#clip350)\" d=\"M864.632 1515.64 Q861.021 1515.64 859.193 1519.2 Q857.387 1522.75 857.387 1529.87 Q857.387 1536.98 859.193 1540.55 Q861.021 1544.09 864.632 1544.09 Q868.267 1544.09 870.072 1540.55 Q871.901 1536.98 871.901 1529.87 Q871.901 1522.75 870.072 1519.2 Q868.267 1515.64 864.632 1515.64 M864.632 1511.93 Q870.442 1511.93 873.498 1516.54 Q876.577 1521.12 876.577 1529.87 Q876.577 1538.6 873.498 1543.21 Q870.442 1547.79 864.632 1547.79 Q858.822 1547.79 855.743 1543.21 Q852.688 1538.6 852.688 1529.87 Q852.688 1521.12 855.743 1516.54 Q858.822 1511.93 864.632 1511.93 Z\" fill=\"#000000\" fill-rule=\"evenodd\" fill-opacity=\"1\" /><path clip-path=\"url(#clip350)\" d=\"M1360.23 1543.18 L1367.87 1543.18 L1367.87 1516.82 L1359.56 1518.49 L1359.56 1514.23 L1367.83 1512.56 L1372.5 1512.56 L1372.5 1543.18 L1380.14 1543.18 L1380.14 1547.12 L1360.23 1547.12 L1360.23 1543.18 Z\" fill=\"#000000\" fill-rule=\"evenodd\" fill-opacity=\"1\" /><path clip-path=\"url(#clip350)\" d=\"M1399.59 1515.64 Q1395.97 1515.64 1394.15 1519.2 Q1392.34 1522.75 1392.34 1529.87 Q1392.34 1536.98 1394.15 1540.55 Q1395.97 1544.09 1399.59 1544.09 Q1403.22 1544.09 1405.03 1540.55 Q1406.85 1536.98 1406.85 1529.87 Q1406.85 1522.75 1405.03 1519.2 Q1403.22 1515.64 1399.59 1515.64 M1399.59 1511.93 Q1405.4 1511.93 1408.45 1516.54 Q1411.53 1521.12 1411.53 1529.87 Q1411.53 1538.6 1408.45 1543.21 Q1405.4 1547.79 1399.59 1547.79 Q1393.78 1547.79 1390.7 1543.21 Q1387.64 1538.6 1387.64 1529.87 Q1387.64 1521.12 1390.7 1516.54 Q1393.78 1511.93 1399.59 1511.93 Z\" fill=\"#000000\" fill-rule=\"evenodd\" fill-opacity=\"1\" /><path clip-path=\"url(#clip350)\" d=\"M1429.75 1515.64 Q1426.14 1515.64 1424.31 1519.2 Q1422.5 1522.75 1422.5 1529.87 Q1422.5 1536.98 1424.31 1540.55 Q1426.14 1544.09 1429.75 1544.09 Q1433.38 1544.09 1435.19 1540.55 Q1437.02 1536.98 1437.02 1529.87 Q1437.02 1522.75 1435.19 1519.2 Q1433.38 1515.64 1429.75 1515.64 M1429.75 1511.93 Q1435.56 1511.93 1438.61 1516.54 Q1441.69 1521.12 1441.69 1529.87 Q1441.69 1538.6 1438.61 1543.21 Q1435.56 1547.79 1429.75 1547.79 Q1423.94 1547.79 1420.86 1543.21 Q1417.8 1538.6 1417.8 1529.87 Q1417.8 1521.12 1420.86 1516.54 Q1423.94 1511.93 1429.75 1511.93 Z\" fill=\"#000000\" fill-rule=\"evenodd\" fill-opacity=\"1\" /><path clip-path=\"url(#clip350)\" d=\"M1911.04 1543.18 L1918.68 1543.18 L1918.68 1516.82 L1910.37 1518.49 L1910.37 1514.23 L1918.64 1512.56 L1923.31 1512.56 L1923.31 1543.18 L1930.95 1543.18 L1930.95 1547.12 L1911.04 1547.12 L1911.04 1543.18 Z\" fill=\"#000000\" fill-rule=\"evenodd\" fill-opacity=\"1\" /><path clip-path=\"url(#clip350)\" d=\"M1940.44 1512.56 L1958.8 1512.56 L1958.8 1516.5 L1944.72 1516.5 L1944.72 1524.97 Q1945.74 1524.62 1946.76 1524.46 Q1947.78 1524.27 1948.8 1524.27 Q1954.58 1524.27 1957.96 1527.44 Q1961.34 1530.62 1961.34 1536.03 Q1961.34 1541.61 1957.87 1544.71 Q1954.4 1547.79 1948.08 1547.79 Q1945.9 1547.79 1943.64 1547.42 Q1941.39 1547.05 1938.98 1546.31 L1938.98 1541.61 Q1941.07 1542.74 1943.29 1543.3 Q1945.51 1543.86 1947.99 1543.86 Q1951.99 1543.86 1954.33 1541.75 Q1956.67 1539.64 1956.67 1536.03 Q1956.67 1532.42 1954.33 1530.31 Q1951.99 1528.21 1947.99 1528.21 Q1946.11 1528.21 1944.24 1528.62 Q1942.39 1529.04 1940.44 1529.92 L1940.44 1512.56 Z\" fill=\"#000000\" fill-rule=\"evenodd\" fill-opacity=\"1\" /><path clip-path=\"url(#clip350)\" d=\"M1980.56 1515.64 Q1976.95 1515.64 1975.12 1519.2 Q1973.31 1522.75 1973.31 1529.87 Q1973.31 1536.98 1975.12 1540.55 Q1976.95 1544.09 1980.56 1544.09 Q1984.19 1544.09 1986 1540.55 Q1987.82 1536.98 1987.82 1529.87 Q1987.82 1522.75 1986 1519.2 Q1984.19 1515.64 1980.56 1515.64 M1980.56 1511.93 Q1986.37 1511.93 1989.42 1516.54 Q1992.5 1521.12 1992.5 1529.87 Q1992.5 1538.6 1989.42 1543.21 Q1986.37 1547.79 1980.56 1547.79 Q1974.75 1547.79 1971.67 1543.21 Q1968.61 1538.6 1968.61 1529.87 Q1968.61 1521.12 1971.67 1516.54 Q1974.75 1511.93 1980.56 1511.93 Z\" fill=\"#000000\" fill-rule=\"evenodd\" fill-opacity=\"1\" /><polyline clip-path=\"url(#clip352)\" style=\"stroke:#000000; stroke-linecap:butt; stroke-linejoin:round; stroke-width:2; stroke-opacity:0.1; fill:none\" points=\"\n",
       "  239.19,1437.8 2352.76,1437.8 \n",
       "  \"/>\n",
       "<polyline clip-path=\"url(#clip352)\" style=\"stroke:#000000; stroke-linecap:butt; stroke-linejoin:round; stroke-width:2; stroke-opacity:0.1; fill:none\" points=\"\n",
       "  239.19,1171.35 2352.76,1171.35 \n",
       "  \"/>\n",
       "<polyline clip-path=\"url(#clip352)\" style=\"stroke:#000000; stroke-linecap:butt; stroke-linejoin:round; stroke-width:2; stroke-opacity:0.1; fill:none\" points=\"\n",
       "  239.19,904.897 2352.76,904.897 \n",
       "  \"/>\n",
       "<polyline clip-path=\"url(#clip352)\" style=\"stroke:#000000; stroke-linecap:butt; stroke-linejoin:round; stroke-width:2; stroke-opacity:0.1; fill:none\" points=\"\n",
       "  239.19,638.448 2352.76,638.448 \n",
       "  \"/>\n",
       "<polyline clip-path=\"url(#clip352)\" style=\"stroke:#000000; stroke-linecap:butt; stroke-linejoin:round; stroke-width:2; stroke-opacity:0.1; fill:none\" points=\"\n",
       "  239.19,372 2352.76,372 \n",
       "  \"/>\n",
       "<polyline clip-path=\"url(#clip350)\" style=\"stroke:#000000; stroke-linecap:butt; stroke-linejoin:round; stroke-width:4; stroke-opacity:1; fill:none\" points=\"\n",
       "  239.19,1486.45 239.19,123.472 \n",
       "  \"/>\n",
       "<polyline clip-path=\"url(#clip350)\" style=\"stroke:#000000; stroke-linecap:butt; stroke-linejoin:round; stroke-width:4; stroke-opacity:1; fill:none\" points=\"\n",
       "  239.19,1437.8 258.088,1437.8 \n",
       "  \"/>\n",
       "<polyline clip-path=\"url(#clip350)\" style=\"stroke:#000000; stroke-linecap:butt; stroke-linejoin:round; stroke-width:4; stroke-opacity:1; fill:none\" points=\"\n",
       "  239.19,1171.35 258.088,1171.35 \n",
       "  \"/>\n",
       "<polyline clip-path=\"url(#clip350)\" style=\"stroke:#000000; stroke-linecap:butt; stroke-linejoin:round; stroke-width:4; stroke-opacity:1; fill:none\" points=\"\n",
       "  239.19,904.897 258.088,904.897 \n",
       "  \"/>\n",
       "<polyline clip-path=\"url(#clip350)\" style=\"stroke:#000000; stroke-linecap:butt; stroke-linejoin:round; stroke-width:4; stroke-opacity:1; fill:none\" points=\"\n",
       "  239.19,638.448 258.088,638.448 \n",
       "  \"/>\n",
       "<polyline clip-path=\"url(#clip350)\" style=\"stroke:#000000; stroke-linecap:butt; stroke-linejoin:round; stroke-width:4; stroke-opacity:1; fill:none\" points=\"\n",
       "  239.19,372 258.088,372 \n",
       "  \"/>\n",
       "<path clip-path=\"url(#clip350)\" d=\"M50.9921 1438.25 L80.6679 1438.25 L80.6679 1442.18 L50.9921 1442.18 L50.9921 1438.25 Z\" fill=\"#000000\" fill-rule=\"evenodd\" fill-opacity=\"1\" /><path clip-path=\"url(#clip350)\" d=\"M91.5706 1451.14 L99.2095 1451.14 L99.2095 1424.77 L90.8993 1426.44 L90.8993 1422.18 L99.1632 1420.52 L103.839 1420.52 L103.839 1451.14 L111.478 1451.14 L111.478 1455.08 L91.5706 1455.08 L91.5706 1451.14 Z\" fill=\"#000000\" fill-rule=\"evenodd\" fill-opacity=\"1\" /><path clip-path=\"url(#clip350)\" d=\"M130.922 1423.59 Q127.311 1423.59 125.482 1427.16 Q123.677 1430.7 123.677 1437.83 Q123.677 1444.94 125.482 1448.5 Q127.311 1452.04 130.922 1452.04 Q134.556 1452.04 136.362 1448.5 Q138.191 1444.94 138.191 1437.83 Q138.191 1430.7 136.362 1427.16 Q134.556 1423.59 130.922 1423.59 M130.922 1419.89 Q136.732 1419.89 139.788 1424.5 Q142.867 1429.08 142.867 1437.83 Q142.867 1446.56 139.788 1451.16 Q136.732 1455.75 130.922 1455.75 Q125.112 1455.75 122.033 1451.16 Q118.978 1446.56 118.978 1437.83 Q118.978 1429.08 122.033 1424.5 Q125.112 1419.89 130.922 1419.89 Z\" fill=\"#000000\" fill-rule=\"evenodd\" fill-opacity=\"1\" /><path clip-path=\"url(#clip350)\" d=\"M161.084 1423.59 Q157.473 1423.59 155.644 1427.16 Q153.839 1430.7 153.839 1437.83 Q153.839 1444.94 155.644 1448.5 Q157.473 1452.04 161.084 1452.04 Q164.718 1452.04 166.524 1448.5 Q168.353 1444.94 168.353 1437.83 Q168.353 1430.7 166.524 1427.16 Q164.718 1423.59 161.084 1423.59 M161.084 1419.89 Q166.894 1419.89 169.95 1424.5 Q173.029 1429.08 173.029 1437.83 Q173.029 1446.56 169.95 1451.16 Q166.894 1455.75 161.084 1455.75 Q155.274 1455.75 152.195 1451.16 Q149.14 1446.56 149.14 1437.83 Q149.14 1429.08 152.195 1424.5 Q155.274 1419.89 161.084 1419.89 Z\" fill=\"#000000\" fill-rule=\"evenodd\" fill-opacity=\"1\" /><path clip-path=\"url(#clip350)\" d=\"M191.246 1423.59 Q187.635 1423.59 185.806 1427.16 Q184.001 1430.7 184.001 1437.83 Q184.001 1444.94 185.806 1448.5 Q187.635 1452.04 191.246 1452.04 Q194.88 1452.04 196.686 1448.5 Q198.514 1444.94 198.514 1437.83 Q198.514 1430.7 196.686 1427.16 Q194.88 1423.59 191.246 1423.59 M191.246 1419.89 Q197.056 1419.89 200.112 1424.5 Q203.19 1429.08 203.19 1437.83 Q203.19 1446.56 200.112 1451.16 Q197.056 1455.75 191.246 1455.75 Q185.436 1455.75 182.357 1451.16 Q179.302 1446.56 179.302 1437.83 Q179.302 1429.08 182.357 1424.5 Q185.436 1419.89 191.246 1419.89 Z\" fill=\"#000000\" fill-rule=\"evenodd\" fill-opacity=\"1\" /><path clip-path=\"url(#clip350)\" d=\"M81.154 1171.8 L110.83 1171.8 L110.83 1175.73 L81.154 1175.73 L81.154 1171.8 Z\" fill=\"#000000\" fill-rule=\"evenodd\" fill-opacity=\"1\" /><path clip-path=\"url(#clip350)\" d=\"M120.969 1154.07 L139.325 1154.07 L139.325 1158 L125.251 1158 L125.251 1166.47 Q126.27 1166.13 127.288 1165.96 Q128.307 1165.78 129.325 1165.78 Q135.112 1165.78 138.492 1168.95 Q141.871 1172.12 141.871 1177.54 Q141.871 1183.12 138.399 1186.22 Q134.927 1189.3 128.607 1189.3 Q126.432 1189.3 124.163 1188.93 Q121.918 1188.56 119.51 1187.82 L119.51 1183.12 Q121.594 1184.25 123.816 1184.81 Q126.038 1185.36 128.515 1185.36 Q132.519 1185.36 134.857 1183.26 Q137.195 1181.15 137.195 1177.54 Q137.195 1173.93 134.857 1171.82 Q132.519 1169.71 128.515 1169.71 Q126.64 1169.71 124.765 1170.13 Q122.913 1170.55 120.969 1171.43 L120.969 1154.07 Z\" fill=\"#000000\" fill-rule=\"evenodd\" fill-opacity=\"1\" /><path clip-path=\"url(#clip350)\" d=\"M161.084 1157.15 Q157.473 1157.15 155.644 1160.71 Q153.839 1164.25 153.839 1171.38 Q153.839 1178.49 155.644 1182.05 Q157.473 1185.59 161.084 1185.59 Q164.718 1185.59 166.524 1182.05 Q168.353 1178.49 168.353 1171.38 Q168.353 1164.25 166.524 1160.71 Q164.718 1157.15 161.084 1157.15 M161.084 1153.44 Q166.894 1153.44 169.95 1158.05 Q173.029 1162.63 173.029 1171.38 Q173.029 1180.11 169.95 1184.71 Q166.894 1189.3 161.084 1189.3 Q155.274 1189.3 152.195 1184.71 Q149.14 1180.11 149.14 1171.38 Q149.14 1162.63 152.195 1158.05 Q155.274 1153.44 161.084 1153.44 Z\" fill=\"#000000\" fill-rule=\"evenodd\" fill-opacity=\"1\" /><path clip-path=\"url(#clip350)\" d=\"M191.246 1157.15 Q187.635 1157.15 185.806 1160.71 Q184.001 1164.25 184.001 1171.38 Q184.001 1178.49 185.806 1182.05 Q187.635 1185.59 191.246 1185.59 Q194.88 1185.59 196.686 1182.05 Q198.514 1178.49 198.514 1171.38 Q198.514 1164.25 196.686 1160.71 Q194.88 1157.15 191.246 1157.15 M191.246 1153.44 Q197.056 1153.44 200.112 1158.05 Q203.19 1162.63 203.19 1171.38 Q203.19 1180.11 200.112 1184.71 Q197.056 1189.3 191.246 1189.3 Q185.436 1189.3 182.357 1184.71 Q179.302 1180.11 179.302 1171.38 Q179.302 1162.63 182.357 1158.05 Q185.436 1153.44 191.246 1153.44 Z\" fill=\"#000000\" fill-rule=\"evenodd\" fill-opacity=\"1\" /><path clip-path=\"url(#clip350)\" d=\"M191.246 890.696 Q187.635 890.696 185.806 894.261 Q184.001 897.803 184.001 904.932 Q184.001 912.039 185.806 915.603 Q187.635 919.145 191.246 919.145 Q194.88 919.145 196.686 915.603 Q198.514 912.039 198.514 904.932 Q198.514 897.803 196.686 894.261 Q194.88 890.696 191.246 890.696 M191.246 886.992 Q197.056 886.992 200.112 891.599 Q203.19 896.182 203.19 904.932 Q203.19 913.659 200.112 918.265 Q197.056 922.849 191.246 922.849 Q185.436 922.849 182.357 918.265 Q179.302 913.659 179.302 904.932 Q179.302 896.182 182.357 891.599 Q185.436 886.992 191.246 886.992 Z\" fill=\"#000000\" fill-rule=\"evenodd\" fill-opacity=\"1\" /><path clip-path=\"url(#clip350)\" d=\"M120.969 621.168 L139.325 621.168 L139.325 625.104 L125.251 625.104 L125.251 633.576 Q126.27 633.229 127.288 633.067 Q128.307 632.881 129.325 632.881 Q135.112 632.881 138.492 636.053 Q141.871 639.224 141.871 644.641 Q141.871 650.219 138.399 653.321 Q134.927 656.4 128.607 656.4 Q126.432 656.4 124.163 656.029 Q121.918 655.659 119.51 654.918 L119.51 650.219 Q121.594 651.353 123.816 651.909 Q126.038 652.465 128.515 652.465 Q132.519 652.465 134.857 650.358 Q137.195 648.252 137.195 644.641 Q137.195 641.029 134.857 638.923 Q132.519 636.817 128.515 636.817 Q126.64 636.817 124.765 637.233 Q122.913 637.65 120.969 638.529 L120.969 621.168 Z\" fill=\"#000000\" fill-rule=\"evenodd\" fill-opacity=\"1\" /><path clip-path=\"url(#clip350)\" d=\"M161.084 624.247 Q157.473 624.247 155.644 627.812 Q153.839 631.354 153.839 638.483 Q153.839 645.59 155.644 649.154 Q157.473 652.696 161.084 652.696 Q164.718 652.696 166.524 649.154 Q168.353 645.59 168.353 638.483 Q168.353 631.354 166.524 627.812 Q164.718 624.247 161.084 624.247 M161.084 620.543 Q166.894 620.543 169.95 625.15 Q173.029 629.733 173.029 638.483 Q173.029 647.21 169.95 651.816 Q166.894 656.4 161.084 656.4 Q155.274 656.4 152.195 651.816 Q149.14 647.21 149.14 638.483 Q149.14 629.733 152.195 625.15 Q155.274 620.543 161.084 620.543 Z\" fill=\"#000000\" fill-rule=\"evenodd\" fill-opacity=\"1\" /><path clip-path=\"url(#clip350)\" d=\"M191.246 624.247 Q187.635 624.247 185.806 627.812 Q184.001 631.354 184.001 638.483 Q184.001 645.59 185.806 649.154 Q187.635 652.696 191.246 652.696 Q194.88 652.696 196.686 649.154 Q198.514 645.59 198.514 638.483 Q198.514 631.354 196.686 627.812 Q194.88 624.247 191.246 624.247 M191.246 620.543 Q197.056 620.543 200.112 625.15 Q203.19 629.733 203.19 638.483 Q203.19 647.21 200.112 651.816 Q197.056 656.4 191.246 656.4 Q185.436 656.4 182.357 651.816 Q179.302 647.21 179.302 638.483 Q179.302 629.733 182.357 625.15 Q185.436 620.543 191.246 620.543 Z\" fill=\"#000000\" fill-rule=\"evenodd\" fill-opacity=\"1\" /><path clip-path=\"url(#clip350)\" d=\"M91.5706 385.344 L99.2095 385.344 L99.2095 358.979 L90.8993 360.645 L90.8993 356.386 L99.1632 354.72 L103.839 354.72 L103.839 385.344 L111.478 385.344 L111.478 389.28 L91.5706 389.28 L91.5706 385.344 Z\" fill=\"#000000\" fill-rule=\"evenodd\" fill-opacity=\"1\" /><path clip-path=\"url(#clip350)\" d=\"M130.922 357.798 Q127.311 357.798 125.482 361.363 Q123.677 364.905 123.677 372.034 Q123.677 379.141 125.482 382.705 Q127.311 386.247 130.922 386.247 Q134.556 386.247 136.362 382.705 Q138.191 379.141 138.191 372.034 Q138.191 364.905 136.362 361.363 Q134.556 357.798 130.922 357.798 M130.922 354.095 Q136.732 354.095 139.788 358.701 Q142.867 363.284 142.867 372.034 Q142.867 380.761 139.788 385.368 Q136.732 389.951 130.922 389.951 Q125.112 389.951 122.033 385.368 Q118.978 380.761 118.978 372.034 Q118.978 363.284 122.033 358.701 Q125.112 354.095 130.922 354.095 Z\" fill=\"#000000\" fill-rule=\"evenodd\" fill-opacity=\"1\" /><path clip-path=\"url(#clip350)\" d=\"M161.084 357.798 Q157.473 357.798 155.644 361.363 Q153.839 364.905 153.839 372.034 Q153.839 379.141 155.644 382.705 Q157.473 386.247 161.084 386.247 Q164.718 386.247 166.524 382.705 Q168.353 379.141 168.353 372.034 Q168.353 364.905 166.524 361.363 Q164.718 357.798 161.084 357.798 M161.084 354.095 Q166.894 354.095 169.95 358.701 Q173.029 363.284 173.029 372.034 Q173.029 380.761 169.95 385.368 Q166.894 389.951 161.084 389.951 Q155.274 389.951 152.195 385.368 Q149.14 380.761 149.14 372.034 Q149.14 363.284 152.195 358.701 Q155.274 354.095 161.084 354.095 Z\" fill=\"#000000\" fill-rule=\"evenodd\" fill-opacity=\"1\" /><path clip-path=\"url(#clip350)\" d=\"M191.246 357.798 Q187.635 357.798 185.806 361.363 Q184.001 364.905 184.001 372.034 Q184.001 379.141 185.806 382.705 Q187.635 386.247 191.246 386.247 Q194.88 386.247 196.686 382.705 Q198.514 379.141 198.514 372.034 Q198.514 364.905 196.686 361.363 Q194.88 357.798 191.246 357.798 M191.246 354.095 Q197.056 354.095 200.112 358.701 Q203.19 363.284 203.19 372.034 Q203.19 380.761 200.112 385.368 Q197.056 389.951 191.246 389.951 Q185.436 389.951 182.357 385.368 Q179.302 380.761 179.302 372.034 Q179.302 363.284 182.357 358.701 Q185.436 354.095 191.246 354.095 Z\" fill=\"#000000\" fill-rule=\"evenodd\" fill-opacity=\"1\" /><path clip-path=\"url(#clip350)\" d=\"M1251.84 65.6895 L1265.21 65.6895 L1265.21 19.5497 L1250.66 22.4663 L1250.66 15.0127 L1265.13 12.096 L1273.31 12.096 L1273.31 65.6895 L1286.68 65.6895 L1286.68 72.576 L1251.84 72.576 L1251.84 65.6895 Z\" fill=\"#000000\" fill-rule=\"evenodd\" fill-opacity=\"1\" /><path clip-path=\"url(#clip350)\" d=\"M1303.45 71.3202 L1303.45 63.8666 Q1306.53 65.3249 1309.69 66.0946 Q1312.85 66.8642 1315.88 66.8642 Q1323.99 66.8642 1328.24 61.436 Q1332.53 55.9673 1333.14 44.8678 Q1330.79 48.3516 1327.19 50.215 Q1323.58 52.0784 1319.21 52.0784 Q1310.13 52.0784 1304.82 46.6097 Q1299.56 41.1005 1299.56 31.5808 Q1299.56 22.2638 1305.07 16.633 Q1310.58 11.0023 1319.73 11.0023 Q1330.22 11.0023 1335.73 19.0636 Q1341.28 27.0843 1341.28 42.3968 Q1341.28 56.6965 1334.48 65.2439 Q1327.71 73.7508 1316.25 73.7508 Q1313.17 73.7508 1310.01 73.1431 Q1306.85 72.5355 1303.45 71.3202 M1319.73 45.678 Q1325.24 45.678 1328.44 41.9107 Q1331.68 38.1433 1331.68 31.5808 Q1331.68 25.0589 1328.44 21.2916 Q1325.24 17.4837 1319.73 17.4837 Q1314.22 17.4837 1310.98 21.2916 Q1307.78 25.0589 1307.78 31.5808 Q1307.78 38.1433 1310.98 41.9107 Q1314.22 45.678 1319.73 45.678 Z\" fill=\"#000000\" fill-rule=\"evenodd\" fill-opacity=\"1\" /><polyline clip-path=\"url(#clip352)\" style=\"stroke:#009af9; stroke-linecap:butt; stroke-linejoin:round; stroke-width:4; stroke-opacity:1; fill:none\" points=\"\n",
       "  299.008,1138.52 343.073,162.047 381.63,1447.87 574.413,1201.21 640.51,350.302 836.047,994.916 871.85,1104.49 943.455,1063.84 1099.89,597.696 1158.27,622.38 \n",
       "  1345.55,1127.86 1356.56,1132.93 1488.76,775.607 1532.82,566.16 1764.16,628.764 1805.47,806.655 1874.32,963.752 2023.04,498.538 2135.41,774.298 2292.94,658.658 \n",
       "  \n",
       "  \"/>\n",
       "<polyline clip-path=\"url(#clip352)\" style=\"stroke:#e26f46; stroke-linecap:butt; stroke-linejoin:round; stroke-width:4; stroke-opacity:1; fill:none\" points=\"\n",
       "  299.008,900.634 343.073,901.7 381.63,901.7 574.413,901.167 640.51,900.634 836.047,899.568 871.85,897.97 943.455,895.305 1099.89,887.312 1158.27,884.647 \n",
       "  1345.55,864.397 1356.56,863.331 1488.76,817.502 1532.82,811.64 1764.16,755.686 1805.47,745.028 1874.32,734.37 2023.04,689.074 2135.41,699.732 2292.94,665.093 \n",
       "  \n",
       "  \"/>\n",
       "<path clip-path=\"url(#clip350)\" d=\"\n",
       "M1659.13 324.425 L2282.3 324.425 L2282.3 168.905 L1659.13 168.905  Z\n",
       "  \" fill=\"#ffffff\" fill-rule=\"evenodd\" fill-opacity=\"1\"/>\n",
       "<polyline clip-path=\"url(#clip350)\" style=\"stroke:#000000; stroke-linecap:butt; stroke-linejoin:round; stroke-width:4; stroke-opacity:1; fill:none\" points=\"\n",
       "  1659.13,324.425 2282.3,324.425 2282.3,168.905 1659.13,168.905 1659.13,324.425 \n",
       "  \"/>\n",
       "<polyline clip-path=\"url(#clip350)\" style=\"stroke:#009af9; stroke-linecap:butt; stroke-linejoin:round; stroke-width:4; stroke-opacity:1; fill:none\" points=\"\n",
       "  1682.62,220.745 1823.52,220.745 \n",
       "  \"/>\n",
       "<path clip-path=\"url(#clip350)\" d=\"M1847 203.465 L1853.97 203.465 L1862.79 226.983 L1871.66 203.465 L1878.62 203.465 L1878.62 238.025 L1874.06 238.025 L1874.06 207.678 L1865.15 231.381 L1860.45 231.381 L1851.54 207.678 L1851.54 238.025 L1847 238.025 L1847 203.465 Z\" fill=\"#000000\" fill-rule=\"evenodd\" fill-opacity=\"1\" /><path clip-path=\"url(#clip350)\" d=\"M1897.77 215.085 Q1894.34 215.085 1892.35 217.77 Q1890.36 220.432 1890.36 225.085 Q1890.36 229.738 1892.33 232.423 Q1894.32 235.085 1897.77 235.085 Q1901.17 235.085 1903.16 232.4 Q1905.15 229.715 1905.15 225.085 Q1905.15 220.478 1903.16 217.793 Q1901.17 215.085 1897.77 215.085 M1897.77 211.474 Q1903.32 211.474 1906.49 215.085 Q1909.67 218.696 1909.67 225.085 Q1909.67 231.451 1906.49 235.085 Q1903.32 238.696 1897.77 238.696 Q1892.19 238.696 1889.02 235.085 Q1885.87 231.451 1885.87 225.085 Q1885.87 218.696 1889.02 215.085 Q1892.19 211.474 1897.77 211.474 Z\" fill=\"#000000\" fill-rule=\"evenodd\" fill-opacity=\"1\" /><path clip-path=\"url(#clip350)\" d=\"M1933.79 216.034 L1933.79 202.006 L1938.05 202.006 L1938.05 238.025 L1933.79 238.025 L1933.79 234.136 Q1932.44 236.451 1930.38 237.585 Q1928.35 238.696 1925.48 238.696 Q1920.78 238.696 1917.81 234.946 Q1914.87 231.196 1914.87 225.085 Q1914.87 218.974 1917.81 215.224 Q1920.78 211.474 1925.48 211.474 Q1928.35 211.474 1930.38 212.608 Q1932.44 213.719 1933.79 216.034 M1919.27 225.085 Q1919.27 229.784 1921.19 232.469 Q1923.14 235.131 1926.52 235.131 Q1929.9 235.131 1931.84 232.469 Q1933.79 229.784 1933.79 225.085 Q1933.79 220.386 1931.84 217.724 Q1929.9 215.039 1926.52 215.039 Q1923.14 215.039 1921.19 217.724 Q1919.27 220.386 1919.27 225.085 Z\" fill=\"#000000\" fill-rule=\"evenodd\" fill-opacity=\"1\" /><path clip-path=\"url(#clip350)\" d=\"M1968.99 223.997 L1968.99 226.08 L1949.41 226.08 Q1949.69 230.478 1952.05 232.793 Q1954.43 235.085 1958.67 235.085 Q1961.12 235.085 1963.42 234.483 Q1965.73 233.881 1968 232.677 L1968 236.705 Q1965.71 237.677 1963.3 238.187 Q1960.89 238.696 1958.42 238.696 Q1952.21 238.696 1948.58 235.085 Q1944.97 231.474 1944.97 225.316 Q1944.97 218.951 1948.39 215.224 Q1951.84 211.474 1957.68 211.474 Q1962.91 211.474 1965.94 214.853 Q1968.99 218.21 1968.99 223.997 M1964.74 222.747 Q1964.69 219.252 1962.77 217.168 Q1960.87 215.085 1957.72 215.085 Q1954.16 215.085 1952 217.099 Q1949.87 219.113 1949.55 222.77 L1964.74 222.747 Z\" fill=\"#000000\" fill-rule=\"evenodd\" fill-opacity=\"1\" /><path clip-path=\"url(#clip350)\" d=\"M1975.99 202.006 L1980.24 202.006 L1980.24 238.025 L1975.99 238.025 L1975.99 202.006 Z\" fill=\"#000000\" fill-rule=\"evenodd\" fill-opacity=\"1\" /><path clip-path=\"url(#clip350)\" d=\"M1999.2 215.085 Q1995.78 215.085 1993.79 217.77 Q1991.8 220.432 1991.8 225.085 Q1991.8 229.738 1993.76 232.423 Q1995.75 235.085 1999.2 235.085 Q2002.61 235.085 2004.6 232.4 Q2006.59 229.715 2006.59 225.085 Q2006.59 220.478 2004.6 217.793 Q2002.61 215.085 1999.2 215.085 M1999.2 211.474 Q2004.76 211.474 2007.93 215.085 Q2011.1 218.696 2011.1 225.085 Q2011.1 231.451 2007.93 235.085 Q2004.76 238.696 1999.2 238.696 Q1993.62 238.696 1990.45 235.085 Q1987.3 231.451 1987.3 225.085 Q1987.3 218.696 1990.45 215.085 Q1993.62 211.474 1999.2 211.474 Z\" fill=\"#000000\" fill-rule=\"evenodd\" fill-opacity=\"1\" /><path clip-path=\"url(#clip350)\" d=\"M2043.28 215.085 Q2039.85 215.085 2037.86 217.77 Q2035.87 220.432 2035.87 225.085 Q2035.87 229.738 2037.84 232.423 Q2039.83 235.085 2043.28 235.085 Q2046.68 235.085 2048.67 232.4 Q2050.66 229.715 2050.66 225.085 Q2050.66 220.478 2048.67 217.793 Q2046.68 215.085 2043.28 215.085 M2043.28 211.474 Q2048.83 211.474 2052 215.085 Q2055.17 218.696 2055.17 225.085 Q2055.17 231.451 2052 235.085 Q2048.83 238.696 2043.28 238.696 Q2037.7 238.696 2034.53 235.085 Q2031.38 231.451 2031.38 225.085 Q2031.38 218.696 2034.53 215.085 Q2037.7 211.474 2043.28 211.474 Z\" fill=\"#000000\" fill-rule=\"evenodd\" fill-opacity=\"1\" /><path clip-path=\"url(#clip350)\" d=\"M2080.85 225.085 Q2080.85 220.386 2078.9 217.724 Q2076.98 215.039 2073.6 215.039 Q2070.22 215.039 2068.28 217.724 Q2066.36 220.386 2066.36 225.085 Q2066.36 229.784 2068.28 232.469 Q2070.22 235.131 2073.6 235.131 Q2076.98 235.131 2078.9 232.469 Q2080.85 229.784 2080.85 225.085 M2066.36 216.034 Q2067.7 213.719 2069.73 212.608 Q2071.79 211.474 2074.64 211.474 Q2079.36 211.474 2082.3 215.224 Q2085.27 218.974 2085.27 225.085 Q2085.27 231.196 2082.3 234.946 Q2079.36 238.696 2074.64 238.696 Q2071.79 238.696 2069.73 237.585 Q2067.7 236.451 2066.36 234.136 L2066.36 238.025 L2062.07 238.025 L2062.07 202.006 L2066.36 202.006 L2066.36 216.034 Z\" fill=\"#000000\" fill-rule=\"evenodd\" fill-opacity=\"1\" /><path clip-path=\"url(#clip350)\" d=\"M2096.54 204.738 L2096.54 212.099 L2105.31 212.099 L2105.31 215.409 L2096.54 215.409 L2096.54 229.483 Q2096.54 232.654 2097.4 233.557 Q2098.28 234.46 2100.94 234.46 L2105.31 234.46 L2105.31 238.025 L2100.94 238.025 Q2096.01 238.025 2094.13 236.196 Q2092.26 234.344 2092.26 229.483 L2092.26 215.409 L2089.13 215.409 L2089.13 212.099 L2092.26 212.099 L2092.26 204.738 L2096.54 204.738 Z\" fill=\"#000000\" fill-rule=\"evenodd\" fill-opacity=\"1\" /><path clip-path=\"url(#clip350)\" d=\"M2133.09 223.997 L2133.09 226.08 L2113.51 226.08 Q2113.79 230.478 2116.15 232.793 Q2118.53 235.085 2122.77 235.085 Q2125.22 235.085 2127.51 234.483 Q2129.83 233.881 2132.1 232.677 L2132.1 236.705 Q2129.8 237.677 2127.4 238.187 Q2124.99 238.696 2122.51 238.696 Q2116.31 238.696 2112.67 235.085 Q2109.06 231.474 2109.06 225.316 Q2109.06 218.951 2112.49 215.224 Q2115.94 211.474 2121.77 211.474 Q2127 211.474 2130.04 214.853 Q2133.09 218.21 2133.09 223.997 M2128.83 222.747 Q2128.79 219.252 2126.86 217.168 Q2124.97 215.085 2121.82 215.085 Q2118.25 215.085 2116.1 217.099 Q2113.97 219.113 2113.65 222.77 L2128.83 222.747 Z\" fill=\"#000000\" fill-rule=\"evenodd\" fill-opacity=\"1\" /><path clip-path=\"url(#clip350)\" d=\"M2161.63 222.377 L2161.63 238.025 L2157.37 238.025 L2157.37 222.515 Q2157.37 218.835 2155.94 217.006 Q2154.5 215.178 2151.63 215.178 Q2148.18 215.178 2146.19 217.377 Q2144.2 219.576 2144.2 223.372 L2144.2 238.025 L2139.92 238.025 L2139.92 212.099 L2144.2 212.099 L2144.2 216.127 Q2145.73 213.789 2147.79 212.631 Q2149.87 211.474 2152.58 211.474 Q2157.05 211.474 2159.34 214.252 Q2161.63 217.006 2161.63 222.377 Z\" fill=\"#000000\" fill-rule=\"evenodd\" fill-opacity=\"1\" /><path clip-path=\"url(#clip350)\" d=\"M2170.13 212.099 L2174.39 212.099 L2174.39 238.025 L2170.13 238.025 L2170.13 212.099 M2170.13 202.006 L2174.39 202.006 L2174.39 207.4 L2170.13 207.4 L2170.13 202.006 Z\" fill=\"#000000\" fill-rule=\"evenodd\" fill-opacity=\"1\" /><path clip-path=\"url(#clip350)\" d=\"M2200.36 216.034 L2200.36 202.006 L2204.62 202.006 L2204.62 238.025 L2200.36 238.025 L2200.36 234.136 Q2199.02 236.451 2196.96 237.585 Q2194.92 238.696 2192.05 238.696 Q2187.35 238.696 2184.39 234.946 Q2181.45 231.196 2181.45 225.085 Q2181.45 218.974 2184.39 215.224 Q2187.35 211.474 2192.05 211.474 Q2194.92 211.474 2196.96 212.608 Q2199.02 213.719 2200.36 216.034 M2185.85 225.085 Q2185.85 229.784 2187.77 232.469 Q2189.71 235.131 2193.09 235.131 Q2196.47 235.131 2198.41 232.469 Q2200.36 229.784 2200.36 225.085 Q2200.36 220.386 2198.41 217.724 Q2196.47 215.039 2193.09 215.039 Q2189.71 215.039 2187.77 217.724 Q2185.85 220.386 2185.85 225.085 Z\" fill=\"#000000\" fill-rule=\"evenodd\" fill-opacity=\"1\" /><path clip-path=\"url(#clip350)\" d=\"M2223.44 215.085 Q2220.01 215.085 2218.02 217.77 Q2216.03 220.432 2216.03 225.085 Q2216.03 229.738 2218 232.423 Q2219.99 235.085 2223.44 235.085 Q2226.84 235.085 2228.83 232.4 Q2230.82 229.715 2230.82 225.085 Q2230.82 220.478 2228.83 217.793 Q2226.84 215.085 2223.44 215.085 M2223.44 211.474 Q2228.99 211.474 2232.16 215.085 Q2235.34 218.696 2235.34 225.085 Q2235.34 231.451 2232.16 235.085 Q2228.99 238.696 2223.44 238.696 Q2217.86 238.696 2214.69 235.085 Q2211.54 231.451 2211.54 225.085 Q2211.54 218.696 2214.69 215.085 Q2217.86 211.474 2223.44 211.474 Z\" fill=\"#000000\" fill-rule=\"evenodd\" fill-opacity=\"1\" /><polyline clip-path=\"url(#clip350)\" style=\"stroke:#e26f46; stroke-linecap:butt; stroke-linejoin:round; stroke-width:4; stroke-opacity:1; fill:none\" points=\"\n",
       "  1682.62,272.585 1823.52,272.585 \n",
       "  \"/>\n",
       "<path clip-path=\"url(#clip350)\" d=\"M1851.68 259.147 L1851.68 286.022 L1857.33 286.022 Q1864.48 286.022 1867.79 282.781 Q1871.12 279.541 1871.12 272.55 Q1871.12 265.606 1867.79 262.388 Q1864.48 259.147 1857.33 259.147 L1851.68 259.147 M1847 255.305 L1856.61 255.305 Q1866.66 255.305 1871.36 259.494 Q1876.06 263.661 1876.06 272.55 Q1876.06 281.485 1871.33 285.675 Q1866.61 289.865 1856.61 289.865 L1847 289.865 L1847 255.305 Z\" fill=\"#000000\" fill-rule=\"evenodd\" fill-opacity=\"1\" /><path clip-path=\"url(#clip350)\" d=\"M1895.11 276.832 Q1889.94 276.832 1887.95 278.013 Q1885.96 279.193 1885.96 282.041 Q1885.96 284.309 1887.44 285.652 Q1888.95 286.971 1891.52 286.971 Q1895.06 286.971 1897.19 284.471 Q1899.34 281.948 1899.34 277.781 L1899.34 276.832 L1895.11 276.832 M1903.6 275.073 L1903.6 289.865 L1899.34 289.865 L1899.34 285.929 Q1897.88 288.291 1895.71 289.425 Q1893.53 290.536 1890.38 290.536 Q1886.4 290.536 1884.04 288.314 Q1881.7 286.068 1881.7 282.318 Q1881.7 277.943 1884.62 275.721 Q1887.56 273.499 1893.37 273.499 L1899.34 273.499 L1899.34 273.082 Q1899.34 270.143 1897.4 268.545 Q1895.48 266.925 1891.98 266.925 Q1889.76 266.925 1887.65 267.457 Q1885.55 267.99 1883.6 269.055 L1883.6 265.119 Q1885.94 264.217 1888.14 263.777 Q1890.34 263.314 1892.42 263.314 Q1898.05 263.314 1900.82 266.231 Q1903.6 269.147 1903.6 275.073 Z\" fill=\"#000000\" fill-rule=\"evenodd\" fill-opacity=\"1\" /><path clip-path=\"url(#clip350)\" d=\"M1916.59 256.578 L1916.59 263.939 L1925.36 263.939 L1925.36 267.249 L1916.59 267.249 L1916.59 281.323 Q1916.59 284.494 1917.44 285.397 Q1918.32 286.3 1920.99 286.3 L1925.36 286.3 L1925.36 289.865 L1920.99 289.865 Q1916.05 289.865 1914.18 288.036 Q1912.3 286.184 1912.3 281.323 L1912.3 267.249 L1909.18 267.249 L1909.18 263.939 L1912.3 263.939 L1912.3 256.578 L1916.59 256.578 Z\" fill=\"#000000\" fill-rule=\"evenodd\" fill-opacity=\"1\" /><path clip-path=\"url(#clip350)\" d=\"M1941.01 266.925 Q1937.58 266.925 1935.59 269.61 Q1933.6 272.272 1933.6 276.925 Q1933.6 281.578 1935.57 284.263 Q1937.56 286.925 1941.01 286.925 Q1944.41 286.925 1946.4 284.24 Q1948.39 281.555 1948.39 276.925 Q1948.39 272.318 1946.4 269.633 Q1944.41 266.925 1941.01 266.925 M1941.01 263.314 Q1946.56 263.314 1949.74 266.925 Q1952.91 270.536 1952.91 276.925 Q1952.91 283.291 1949.74 286.925 Q1946.56 290.536 1941.01 290.536 Q1935.43 290.536 1932.26 286.925 Q1929.11 283.291 1929.11 276.925 Q1929.11 270.536 1932.26 266.925 Q1935.43 263.314 1941.01 263.314 Z\" fill=\"#000000\" fill-rule=\"evenodd\" fill-opacity=\"1\" /><path clip-path=\"url(#clip350)\" d=\"M1976.49 264.703 L1976.49 268.731 Q1974.69 267.805 1972.74 267.342 Q1970.8 266.879 1968.72 266.879 Q1965.55 266.879 1963.95 267.851 Q1962.37 268.823 1962.37 270.768 Q1962.37 272.249 1963.51 273.105 Q1964.64 273.939 1968.07 274.703 L1969.53 275.027 Q1974.06 275.999 1975.96 277.781 Q1977.88 279.541 1977.88 282.712 Q1977.88 286.323 1975.01 288.429 Q1972.17 290.536 1967.17 290.536 Q1965.08 290.536 1962.81 290.119 Q1960.57 289.726 1958.07 288.916 L1958.07 284.517 Q1960.43 285.744 1962.72 286.369 Q1965.01 286.971 1967.26 286.971 Q1970.27 286.971 1971.89 285.953 Q1973.51 284.911 1973.51 283.036 Q1973.51 281.3 1972.33 280.374 Q1971.17 279.448 1967.21 278.592 L1965.73 278.244 Q1961.77 277.411 1960.01 275.698 Q1958.25 273.962 1958.25 270.953 Q1958.25 267.295 1960.85 265.305 Q1963.44 263.314 1968.21 263.314 Q1970.57 263.314 1972.65 263.661 Q1974.74 264.008 1976.49 264.703 Z\" fill=\"#000000\" fill-rule=\"evenodd\" fill-opacity=\"1\" /><path clip-path=\"url(#clip350)\" d=\"M2014.76 267.92 Q2014.04 267.504 2013.18 267.318 Q2012.35 267.11 2011.33 267.11 Q2007.72 267.11 2005.78 269.471 Q2003.86 271.809 2003.86 276.207 L2003.86 289.865 L1999.57 289.865 L1999.57 263.939 L2003.86 263.939 L2003.86 267.967 Q2005.2 265.606 2007.35 264.471 Q2009.5 263.314 2012.58 263.314 Q2013.02 263.314 2013.55 263.383 Q2014.09 263.43 2014.73 263.545 L2014.76 267.92 Z\" fill=\"#000000\" fill-rule=\"evenodd\" fill-opacity=\"1\" /><path clip-path=\"url(#clip350)\" d=\"M2040.36 275.837 L2040.36 277.92 L2020.78 277.92 Q2021.05 282.318 2023.42 284.633 Q2025.8 286.925 2030.04 286.925 Q2032.49 286.925 2034.78 286.323 Q2037.1 285.721 2039.36 284.517 L2039.36 288.545 Q2037.07 289.517 2034.67 290.027 Q2032.26 290.536 2029.78 290.536 Q2023.58 290.536 2019.94 286.925 Q2016.33 283.314 2016.33 277.156 Q2016.33 270.791 2019.76 267.064 Q2023.21 263.314 2029.04 263.314 Q2034.27 263.314 2037.3 266.693 Q2040.36 270.05 2040.36 275.837 M2036.1 274.587 Q2036.05 271.092 2034.13 269.008 Q2032.23 266.925 2029.09 266.925 Q2025.52 266.925 2023.37 268.939 Q2021.24 270.953 2020.92 274.61 L2036.1 274.587 Z\" fill=\"#000000\" fill-rule=\"evenodd\" fill-opacity=\"1\" /><path clip-path=\"url(#clip350)\" d=\"M2059.13 276.832 Q2053.97 276.832 2051.98 278.013 Q2049.99 279.193 2049.99 282.041 Q2049.99 284.309 2051.47 285.652 Q2052.98 286.971 2055.54 286.971 Q2059.09 286.971 2061.22 284.471 Q2063.37 281.948 2063.37 277.781 L2063.37 276.832 L2059.13 276.832 M2067.63 275.073 L2067.63 289.865 L2063.37 289.865 L2063.37 285.929 Q2061.91 288.291 2059.73 289.425 Q2057.56 290.536 2054.41 290.536 Q2050.43 290.536 2048.07 288.314 Q2045.73 286.068 2045.73 282.318 Q2045.73 277.943 2048.65 275.721 Q2051.59 273.499 2057.4 273.499 L2063.37 273.499 L2063.37 273.082 Q2063.37 270.143 2061.42 268.545 Q2059.5 266.925 2056.01 266.925 Q2053.79 266.925 2051.68 267.457 Q2049.57 267.99 2047.63 269.055 L2047.63 265.119 Q2049.97 264.217 2052.17 263.777 Q2054.36 263.314 2056.45 263.314 Q2062.07 263.314 2064.85 266.231 Q2067.63 269.147 2067.63 275.073 Z\" fill=\"#000000\" fill-rule=\"evenodd\" fill-opacity=\"1\" /><path clip-path=\"url(#clip350)\" d=\"M2076.4 253.846 L2080.66 253.846 L2080.66 289.865 L2076.4 289.865 L2076.4 253.846 Z\" fill=\"#000000\" fill-rule=\"evenodd\" fill-opacity=\"1\" /><path clip-path=\"url(#clip350)\" d=\"M2111.75 275.837 L2111.75 277.92 L2092.17 277.92 Q2092.44 282.318 2094.8 284.633 Q2097.19 286.925 2101.42 286.925 Q2103.88 286.925 2106.17 286.323 Q2108.48 285.721 2110.75 284.517 L2110.75 288.545 Q2108.46 289.517 2106.05 290.027 Q2103.65 290.536 2101.17 290.536 Q2094.97 290.536 2091.33 286.925 Q2087.72 283.314 2087.72 277.156 Q2087.72 270.791 2091.15 267.064 Q2094.6 263.314 2100.43 263.314 Q2105.66 263.314 2108.69 266.693 Q2111.75 270.05 2111.75 275.837 M2107.49 274.587 Q2107.44 271.092 2105.52 269.008 Q2103.62 266.925 2100.48 266.925 Q2096.91 266.925 2094.76 268.939 Q2092.63 270.953 2092.3 274.61 L2107.49 274.587 Z\" fill=\"#000000\" fill-rule=\"evenodd\" fill-opacity=\"1\" /><path clip-path=\"url(#clip350)\" d=\"M2135.27 264.703 L2135.27 268.731 Q2133.46 267.805 2131.52 267.342 Q2129.57 266.879 2127.49 266.879 Q2124.32 266.879 2122.72 267.851 Q2121.15 268.823 2121.15 270.768 Q2121.15 272.249 2122.28 273.105 Q2123.41 273.939 2126.84 274.703 L2128.3 275.027 Q2132.84 275.999 2134.73 277.781 Q2136.66 279.541 2136.66 282.712 Q2136.66 286.323 2133.79 288.429 Q2130.94 290.536 2125.94 290.536 Q2123.85 290.536 2121.59 290.119 Q2119.34 289.726 2116.84 288.916 L2116.84 284.517 Q2119.2 285.744 2121.49 286.369 Q2123.79 286.971 2126.03 286.971 Q2129.04 286.971 2130.66 285.953 Q2132.28 284.911 2132.28 283.036 Q2132.28 281.3 2131.1 280.374 Q2129.94 279.448 2125.98 278.592 L2124.5 278.244 Q2120.54 277.411 2118.79 275.698 Q2117.03 273.962 2117.03 270.953 Q2117.03 267.295 2119.62 265.305 Q2122.21 263.314 2126.98 263.314 Q2129.34 263.314 2131.42 263.661 Q2133.51 264.008 2135.27 264.703 Z\" fill=\"#000000\" fill-rule=\"evenodd\" fill-opacity=\"1\" /></svg>\n"
      ]
     },
     "execution_count": 54,
     "metadata": {},
     "output_type": "execute_result"
    }
   ],
   "source": [
    "# Este dato lo puede cambiar el usuario. Es el grado del polinomio que \n",
    "# vamos a usar para ajustar\n",
    "n = 19\n",
    "g = PolyModel(n,t,y)\n",
    "\n",
    "geval = g.(t)\n",
    "ytest = t \n",
    "\n",
    "\n",
    "plot(t,[g,y], title =  n, label=[\"Modelo obtenido\" \"Datos reales\" ] )"
   ]
  },
  {
   "cell_type": "markdown",
   "id": "a332b2c6",
   "metadata": {},
   "source": [
    "# Problema 4\n",
    "\n",
    "Lo mismo pero ahora usando la facotorización $QR$ en lugar de las ecuaciones normales."
   ]
  },
  {
   "cell_type": "code",
   "execution_count": 47,
   "id": "55267594",
   "metadata": {},
   "outputs": [
    {
     "data": {
      "text/plain": [
       "QRHouseholder (generic function with 1 method)"
      ]
     },
     "execution_count": 47,
     "metadata": {},
     "output_type": "execute_result"
    }
   ],
   "source": [
    "#Esta función toma como argumento una matriz A y regresa la matriz de Householder H tal que\n",
    "# HA es una matriz cuya primera columna tiene puros ceros debajo de la diagonal\n",
    "function Householder(A)\n",
    "    (m,n)=size(A)\n",
    "\n",
    "    x = A[:,1]\n",
    "\n",
    "    e1 = zeros(m)\n",
    "    e1[1] = 1.0\n",
    "\n",
    "    v = x+sign(A[1,1])*norm(x)*e1\n",
    "    v = v/norm(v)\n",
    "\n",
    "    H = I -2*v*v'\n",
    "end\n",
    "\n",
    "#Esta función toma como argumento una matriz A de mxn. Regresa una tupla (Q,R) donde Q es una matriz ortogonal y\n",
    "# R es una matriz triangular superior tales que QR = A.\n",
    "function QRHouseholder(A)\n",
    "    (m,n) = size(A)\n",
    "    Q = Matrix(1.0*I,m,m)\n",
    "    R = A\n",
    "\n",
    "    for i = 1:n\n",
    "        HTild = Householder(R[i:m,i:n] )\n",
    "    \n",
    "        H = Matrix(1.0*I,m,m)\n",
    "        H[i:m,i:m] = HTild\n",
    "    \n",
    "        R = H*R\n",
    "        Q = H*Q\n",
    "    end\n",
    "    Q = Q'\n",
    "    return(Q,R)\n",
    "end"
   ]
  },
  {
   "cell_type": "code",
   "execution_count": 48,
   "id": "b75ae1cb",
   "metadata": {},
   "outputs": [
    {
     "data": {
      "text/plain": [
       "PolyModelQR (generic function with 1 method)"
      ]
     },
     "execution_count": 48,
     "metadata": {},
     "output_type": "execute_result"
    }
   ],
   "source": [
    "function PolyModelQR(n,t,y)\n",
    "    #Número de observaciones\n",
    "    m = length(t) \n",
    "    \n",
    "    #Calculamos la matriz de diseño A. Esta es una matriz de  mx(n+1). La entrada A_{ij} = t_i^{j-1}\n",
    "    A = zeros(m,n+1);\n",
    "    for i = 1:m\n",
    "        for j = 1:n+1\n",
    "            A[i,j] = t[i]^(j-1)\n",
    "        end\n",
    "    end\n",
    "    \n",
    "    \n",
    "    #Queremos resolver la ecuación  A c = y. Para esto encontramos la factorización QR de A:\n",
    "    (Q,R) = QRHouseholder(A)\n",
    "    \n",
    "    # La ecuación se convierte en Rc= Q^Ty. Como R es triangular superior, esto lo podemos resolver por sustitución\n",
    "    # hacia atrás\n",
    "    \n",
    "    #c0= SolBwd(R,Q'*y)\n",
    "    \n",
    "    #R tiene dimensiones mxn+1\n",
    "    s = min(m,n+1)\n",
    "    R2 = R[1:s,1:s]\n",
    "    c0 = SolBwd(R2,Q'*y)        \n",
    "    \n",
    "    #Aquí construimos la función polinomial PolyFun(x) = c0^T * (1,x, ... , x^n)^T\n",
    "    function PolyFun(x)\n",
    "        b = zeros(s)\n",
    "        for i = 1:s\n",
    "            b[i] = x^(i-1)\n",
    "        end\n",
    "        return c0'*b\n",
    "    end\n",
    "    \n",
    "    return(PolyFun)\n",
    "end"
   ]
  },
  {
   "cell_type": "code",
   "execution_count": 50,
   "id": "0a55c183",
   "metadata": {},
   "outputs": [
    {
     "data": {
      "image/svg+xml": [
       "<?xml version=\"1.0\" encoding=\"utf-8\"?>\n",
       "<svg xmlns=\"http://www.w3.org/2000/svg\" xmlns:xlink=\"http://www.w3.org/1999/xlink\" width=\"600\" height=\"400\" viewBox=\"0 0 2400 1600\">\n",
       "<defs>\n",
       "  <clipPath id=\"clip270\">\n",
       "    <rect x=\"0\" y=\"0\" width=\"2400\" height=\"1600\"/>\n",
       "  </clipPath>\n",
       "</defs>\n",
       "<path clip-path=\"url(#clip270)\" d=\"\n",
       "M0 1600 L2400 1600 L2400 0 L0 0  Z\n",
       "  \" fill=\"#ffffff\" fill-rule=\"evenodd\" fill-opacity=\"1\"/>\n",
       "<defs>\n",
       "  <clipPath id=\"clip271\">\n",
       "    <rect x=\"480\" y=\"0\" width=\"1681\" height=\"1600\"/>\n",
       "  </clipPath>\n",
       "</defs>\n",
       "<path clip-path=\"url(#clip270)\" d=\"\n",
       "M172.015 1486.45 L2352.76 1486.45 L2352.76 123.472 L172.015 123.472  Z\n",
       "  \" fill=\"#ffffff\" fill-rule=\"evenodd\" fill-opacity=\"1\"/>\n",
       "<defs>\n",
       "  <clipPath id=\"clip272\">\n",
       "    <rect x=\"172\" y=\"123\" width=\"2182\" height=\"1364\"/>\n",
       "  </clipPath>\n",
       "</defs>\n",
       "<polyline clip-path=\"url(#clip272)\" style=\"stroke:#000000; stroke-linecap:butt; stroke-linejoin:round; stroke-width:2; stroke-opacity:0.1; fill:none\" points=\"\n",
       "  233.734,1486.45 233.734,123.472 \n",
       "  \"/>\n",
       "<polyline clip-path=\"url(#clip272)\" style=\"stroke:#000000; stroke-linecap:butt; stroke-linejoin:round; stroke-width:2; stroke-opacity:0.1; fill:none\" points=\"\n",
       "  802.05,1486.45 802.05,123.472 \n",
       "  \"/>\n",
       "<polyline clip-path=\"url(#clip272)\" style=\"stroke:#000000; stroke-linecap:butt; stroke-linejoin:round; stroke-width:2; stroke-opacity:0.1; fill:none\" points=\"\n",
       "  1370.37,1486.45 1370.37,123.472 \n",
       "  \"/>\n",
       "<polyline clip-path=\"url(#clip272)\" style=\"stroke:#000000; stroke-linecap:butt; stroke-linejoin:round; stroke-width:2; stroke-opacity:0.1; fill:none\" points=\"\n",
       "  1938.68,1486.45 1938.68,123.472 \n",
       "  \"/>\n",
       "<polyline clip-path=\"url(#clip270)\" style=\"stroke:#000000; stroke-linecap:butt; stroke-linejoin:round; stroke-width:4; stroke-opacity:1; fill:none\" points=\"\n",
       "  172.015,1486.45 2352.76,1486.45 \n",
       "  \"/>\n",
       "<polyline clip-path=\"url(#clip270)\" style=\"stroke:#000000; stroke-linecap:butt; stroke-linejoin:round; stroke-width:4; stroke-opacity:1; fill:none\" points=\"\n",
       "  233.734,1486.45 233.734,1467.55 \n",
       "  \"/>\n",
       "<polyline clip-path=\"url(#clip270)\" style=\"stroke:#000000; stroke-linecap:butt; stroke-linejoin:round; stroke-width:4; stroke-opacity:1; fill:none\" points=\"\n",
       "  802.05,1486.45 802.05,1467.55 \n",
       "  \"/>\n",
       "<polyline clip-path=\"url(#clip270)\" style=\"stroke:#000000; stroke-linecap:butt; stroke-linejoin:round; stroke-width:4; stroke-opacity:1; fill:none\" points=\"\n",
       "  1370.37,1486.45 1370.37,1467.55 \n",
       "  \"/>\n",
       "<polyline clip-path=\"url(#clip270)\" style=\"stroke:#000000; stroke-linecap:butt; stroke-linejoin:round; stroke-width:4; stroke-opacity:1; fill:none\" points=\"\n",
       "  1938.68,1486.45 1938.68,1467.55 \n",
       "  \"/>\n",
       "<path clip-path=\"url(#clip270)\" d=\"M233.734 1515.64 Q230.123 1515.64 228.294 1519.2 Q226.489 1522.75 226.489 1529.87 Q226.489 1536.98 228.294 1540.55 Q230.123 1544.09 233.734 1544.09 Q237.368 1544.09 239.174 1540.55 Q241.002 1536.98 241.002 1529.87 Q241.002 1522.75 239.174 1519.2 Q237.368 1515.64 233.734 1515.64 M233.734 1511.93 Q239.544 1511.93 242.6 1516.54 Q245.678 1521.12 245.678 1529.87 Q245.678 1538.6 242.6 1543.21 Q239.544 1547.79 233.734 1547.79 Q227.924 1547.79 224.845 1543.21 Q221.79 1538.6 221.79 1529.87 Q221.79 1521.12 224.845 1516.54 Q227.924 1511.93 233.734 1511.93 Z\" fill=\"#000000\" fill-rule=\"evenodd\" fill-opacity=\"1\" /><path clip-path=\"url(#clip270)\" d=\"M776.749 1512.56 L795.105 1512.56 L795.105 1516.5 L781.031 1516.5 L781.031 1524.97 Q782.05 1524.62 783.068 1524.46 Q784.087 1524.27 785.105 1524.27 Q790.892 1524.27 794.272 1527.44 Q797.652 1530.62 797.652 1536.03 Q797.652 1541.61 794.179 1544.71 Q790.707 1547.79 784.388 1547.79 Q782.212 1547.79 779.943 1547.42 Q777.698 1547.05 775.291 1546.31 L775.291 1541.61 Q777.374 1542.74 779.596 1543.3 Q781.818 1543.86 784.295 1543.86 Q788.3 1543.86 790.638 1541.75 Q792.976 1539.64 792.976 1536.03 Q792.976 1532.42 790.638 1530.31 Q788.3 1528.21 784.295 1528.21 Q782.42 1528.21 780.545 1528.62 Q778.693 1529.04 776.749 1529.92 L776.749 1512.56 Z\" fill=\"#000000\" fill-rule=\"evenodd\" fill-opacity=\"1\" /><path clip-path=\"url(#clip270)\" d=\"M816.864 1515.64 Q813.253 1515.64 811.425 1519.2 Q809.619 1522.75 809.619 1529.87 Q809.619 1536.98 811.425 1540.55 Q813.253 1544.09 816.864 1544.09 Q820.499 1544.09 822.304 1540.55 Q824.133 1536.98 824.133 1529.87 Q824.133 1522.75 822.304 1519.2 Q820.499 1515.64 816.864 1515.64 M816.864 1511.93 Q822.675 1511.93 825.73 1516.54 Q828.809 1521.12 828.809 1529.87 Q828.809 1538.6 825.73 1543.21 Q822.675 1547.79 816.864 1547.79 Q811.054 1547.79 807.976 1543.21 Q804.92 1538.6 804.92 1529.87 Q804.92 1521.12 807.976 1516.54 Q811.054 1511.93 816.864 1511.93 Z\" fill=\"#000000\" fill-rule=\"evenodd\" fill-opacity=\"1\" /><path clip-path=\"url(#clip270)\" d=\"M1329.97 1543.18 L1337.61 1543.18 L1337.61 1516.82 L1329.3 1518.49 L1329.3 1514.23 L1337.56 1512.56 L1342.24 1512.56 L1342.24 1543.18 L1349.88 1543.18 L1349.88 1547.12 L1329.97 1547.12 L1329.97 1543.18 Z\" fill=\"#000000\" fill-rule=\"evenodd\" fill-opacity=\"1\" /><path clip-path=\"url(#clip270)\" d=\"M1369.32 1515.64 Q1365.71 1515.64 1363.88 1519.2 Q1362.08 1522.75 1362.08 1529.87 Q1362.08 1536.98 1363.88 1540.55 Q1365.71 1544.09 1369.32 1544.09 Q1372.96 1544.09 1374.76 1540.55 Q1376.59 1536.98 1376.59 1529.87 Q1376.59 1522.75 1374.76 1519.2 Q1372.96 1515.64 1369.32 1515.64 M1369.32 1511.93 Q1375.13 1511.93 1378.19 1516.54 Q1381.27 1521.12 1381.27 1529.87 Q1381.27 1538.6 1378.19 1543.21 Q1375.13 1547.79 1369.32 1547.79 Q1363.51 1547.79 1360.43 1543.21 Q1357.38 1538.6 1357.38 1529.87 Q1357.38 1521.12 1360.43 1516.54 Q1363.51 1511.93 1369.32 1511.93 Z\" fill=\"#000000\" fill-rule=\"evenodd\" fill-opacity=\"1\" /><path clip-path=\"url(#clip270)\" d=\"M1399.49 1515.64 Q1395.87 1515.64 1394.05 1519.2 Q1392.24 1522.75 1392.24 1529.87 Q1392.24 1536.98 1394.05 1540.55 Q1395.87 1544.09 1399.49 1544.09 Q1403.12 1544.09 1404.93 1540.55 Q1406.75 1536.98 1406.75 1529.87 Q1406.75 1522.75 1404.93 1519.2 Q1403.12 1515.64 1399.49 1515.64 M1399.49 1511.93 Q1405.3 1511.93 1408.35 1516.54 Q1411.43 1521.12 1411.43 1529.87 Q1411.43 1538.6 1408.35 1543.21 Q1405.3 1547.79 1399.49 1547.79 Q1393.68 1547.79 1390.6 1543.21 Q1387.54 1538.6 1387.54 1529.87 Q1387.54 1521.12 1390.6 1516.54 Q1393.68 1511.93 1399.49 1511.93 Z\" fill=\"#000000\" fill-rule=\"evenodd\" fill-opacity=\"1\" /><path clip-path=\"url(#clip270)\" d=\"M1898.29 1543.18 L1905.93 1543.18 L1905.93 1516.82 L1897.62 1518.49 L1897.62 1514.23 L1905.88 1512.56 L1910.56 1512.56 L1910.56 1543.18 L1918.2 1543.18 L1918.2 1547.12 L1898.29 1547.12 L1898.29 1543.18 Z\" fill=\"#000000\" fill-rule=\"evenodd\" fill-opacity=\"1\" /><path clip-path=\"url(#clip270)\" d=\"M1927.69 1512.56 L1946.04 1512.56 L1946.04 1516.5 L1931.97 1516.5 L1931.97 1524.97 Q1932.99 1524.62 1934.01 1524.46 Q1935.02 1524.27 1936.04 1524.27 Q1941.83 1524.27 1945.21 1527.44 Q1948.59 1530.62 1948.59 1536.03 Q1948.59 1541.61 1945.12 1544.71 Q1941.64 1547.79 1935.32 1547.79 Q1933.15 1547.79 1930.88 1547.42 Q1928.63 1547.05 1926.23 1546.31 L1926.23 1541.61 Q1928.31 1542.74 1930.53 1543.3 Q1932.76 1543.86 1935.23 1543.86 Q1939.24 1543.86 1941.57 1541.75 Q1943.91 1539.64 1943.91 1536.03 Q1943.91 1532.42 1941.57 1530.31 Q1939.24 1528.21 1935.23 1528.21 Q1933.36 1528.21 1931.48 1528.62 Q1929.63 1529.04 1927.69 1529.92 L1927.69 1512.56 Z\" fill=\"#000000\" fill-rule=\"evenodd\" fill-opacity=\"1\" /><path clip-path=\"url(#clip270)\" d=\"M1967.8 1515.64 Q1964.19 1515.64 1962.36 1519.2 Q1960.56 1522.75 1960.56 1529.87 Q1960.56 1536.98 1962.36 1540.55 Q1964.19 1544.09 1967.8 1544.09 Q1971.44 1544.09 1973.24 1540.55 Q1975.07 1536.98 1975.07 1529.87 Q1975.07 1522.75 1973.24 1519.2 Q1971.44 1515.64 1967.8 1515.64 M1967.8 1511.93 Q1973.61 1511.93 1976.67 1516.54 Q1979.75 1521.12 1979.75 1529.87 Q1979.75 1538.6 1976.67 1543.21 Q1973.61 1547.79 1967.8 1547.79 Q1961.99 1547.79 1958.91 1543.21 Q1955.86 1538.6 1955.86 1529.87 Q1955.86 1521.12 1958.91 1516.54 Q1961.99 1511.93 1967.8 1511.93 Z\" fill=\"#000000\" fill-rule=\"evenodd\" fill-opacity=\"1\" /><polyline clip-path=\"url(#clip272)\" style=\"stroke:#000000; stroke-linecap:butt; stroke-linejoin:round; stroke-width:2; stroke-opacity:0.1; fill:none\" points=\"\n",
       "  172.015,1465.12 2352.76,1465.12 \n",
       "  \"/>\n",
       "<polyline clip-path=\"url(#clip272)\" style=\"stroke:#000000; stroke-linecap:butt; stroke-linejoin:round; stroke-width:2; stroke-opacity:0.1; fill:none\" points=\"\n",
       "  172.015,1177.71 2352.76,1177.71 \n",
       "  \"/>\n",
       "<polyline clip-path=\"url(#clip272)\" style=\"stroke:#000000; stroke-linecap:butt; stroke-linejoin:round; stroke-width:2; stroke-opacity:0.1; fill:none\" points=\"\n",
       "  172.015,890.296 2352.76,890.296 \n",
       "  \"/>\n",
       "<polyline clip-path=\"url(#clip272)\" style=\"stroke:#000000; stroke-linecap:butt; stroke-linejoin:round; stroke-width:2; stroke-opacity:0.1; fill:none\" points=\"\n",
       "  172.015,602.886 2352.76,602.886 \n",
       "  \"/>\n",
       "<polyline clip-path=\"url(#clip272)\" style=\"stroke:#000000; stroke-linecap:butt; stroke-linejoin:round; stroke-width:2; stroke-opacity:0.1; fill:none\" points=\"\n",
       "  172.015,315.475 2352.76,315.475 \n",
       "  \"/>\n",
       "<polyline clip-path=\"url(#clip270)\" style=\"stroke:#000000; stroke-linecap:butt; stroke-linejoin:round; stroke-width:4; stroke-opacity:1; fill:none\" points=\"\n",
       "  172.015,1486.45 172.015,123.472 \n",
       "  \"/>\n",
       "<polyline clip-path=\"url(#clip270)\" style=\"stroke:#000000; stroke-linecap:butt; stroke-linejoin:round; stroke-width:4; stroke-opacity:1; fill:none\" points=\"\n",
       "  172.015,1465.12 190.912,1465.12 \n",
       "  \"/>\n",
       "<polyline clip-path=\"url(#clip270)\" style=\"stroke:#000000; stroke-linecap:butt; stroke-linejoin:round; stroke-width:4; stroke-opacity:1; fill:none\" points=\"\n",
       "  172.015,1177.71 190.912,1177.71 \n",
       "  \"/>\n",
       "<polyline clip-path=\"url(#clip270)\" style=\"stroke:#000000; stroke-linecap:butt; stroke-linejoin:round; stroke-width:4; stroke-opacity:1; fill:none\" points=\"\n",
       "  172.015,890.296 190.912,890.296 \n",
       "  \"/>\n",
       "<polyline clip-path=\"url(#clip270)\" style=\"stroke:#000000; stroke-linecap:butt; stroke-linejoin:round; stroke-width:4; stroke-opacity:1; fill:none\" points=\"\n",
       "  172.015,602.886 190.912,602.886 \n",
       "  \"/>\n",
       "<polyline clip-path=\"url(#clip270)\" style=\"stroke:#000000; stroke-linecap:butt; stroke-linejoin:round; stroke-width:4; stroke-opacity:1; fill:none\" points=\"\n",
       "  172.015,315.475 190.912,315.475 \n",
       "  \"/>\n",
       "<path clip-path=\"url(#clip270)\" d=\"M124.07 1450.92 Q120.459 1450.92 118.631 1454.48 Q116.825 1458.02 116.825 1465.15 Q116.825 1472.26 118.631 1475.82 Q120.459 1479.37 124.07 1479.37 Q127.705 1479.37 129.51 1475.82 Q131.339 1472.26 131.339 1465.15 Q131.339 1458.02 129.51 1454.48 Q127.705 1450.92 124.07 1450.92 M124.07 1447.21 Q129.881 1447.21 132.936 1451.82 Q136.015 1456.4 136.015 1465.15 Q136.015 1473.88 132.936 1478.49 Q129.881 1483.07 124.07 1483.07 Q118.26 1483.07 115.182 1478.49 Q112.126 1473.88 112.126 1465.15 Q112.126 1456.4 115.182 1451.82 Q118.26 1447.21 124.07 1447.21 Z\" fill=\"#000000\" fill-rule=\"evenodd\" fill-opacity=\"1\" /><path clip-path=\"url(#clip270)\" d=\"M54.5569 1191.05 L62.1958 1191.05 L62.1958 1164.69 L53.8856 1166.35 L53.8856 1162.09 L62.1495 1160.43 L66.8254 1160.43 L66.8254 1191.05 L74.4642 1191.05 L74.4642 1194.99 L54.5569 1194.99 L54.5569 1191.05 Z\" fill=\"#000000\" fill-rule=\"evenodd\" fill-opacity=\"1\" /><path clip-path=\"url(#clip270)\" d=\"M93.9086 1163.51 Q90.2975 1163.51 88.4688 1167.07 Q86.6632 1170.61 86.6632 1177.74 Q86.6632 1184.85 88.4688 1188.41 Q90.2975 1191.95 93.9086 1191.95 Q97.5428 1191.95 99.3483 1188.41 Q101.177 1184.85 101.177 1177.74 Q101.177 1170.61 99.3483 1167.07 Q97.5428 1163.51 93.9086 1163.51 M93.9086 1159.8 Q99.7187 1159.8 102.774 1164.41 Q105.853 1168.99 105.853 1177.74 Q105.853 1186.47 102.774 1191.07 Q99.7187 1195.66 93.9086 1195.66 Q88.0984 1195.66 85.0197 1191.07 Q81.9642 1186.47 81.9642 1177.74 Q81.9642 1168.99 85.0197 1164.41 Q88.0984 1159.8 93.9086 1159.8 Z\" fill=\"#000000\" fill-rule=\"evenodd\" fill-opacity=\"1\" /><path clip-path=\"url(#clip270)\" d=\"M124.07 1163.51 Q120.459 1163.51 118.631 1167.07 Q116.825 1170.61 116.825 1177.74 Q116.825 1184.85 118.631 1188.41 Q120.459 1191.95 124.07 1191.95 Q127.705 1191.95 129.51 1188.41 Q131.339 1184.85 131.339 1177.74 Q131.339 1170.61 129.51 1167.07 Q127.705 1163.51 124.07 1163.51 M124.07 1159.8 Q129.881 1159.8 132.936 1164.41 Q136.015 1168.99 136.015 1177.74 Q136.015 1186.47 132.936 1191.07 Q129.881 1195.66 124.07 1195.66 Q118.26 1195.66 115.182 1191.07 Q112.126 1186.47 112.126 1177.74 Q112.126 1168.99 115.182 1164.41 Q118.26 1159.8 124.07 1159.8 Z\" fill=\"#000000\" fill-rule=\"evenodd\" fill-opacity=\"1\" /><path clip-path=\"url(#clip270)\" d=\"M57.7745 903.641 L74.0939 903.641 L74.0939 907.576 L52.1495 907.576 L52.1495 903.641 Q54.8115 900.887 59.3949 896.257 Q64.0013 891.604 65.1819 890.262 Q67.4272 887.738 68.3068 886.002 Q69.2096 884.243 69.2096 882.553 Q69.2096 879.799 67.2652 878.063 Q65.3439 876.326 62.2421 876.326 Q60.043 876.326 57.5893 877.09 Q55.1588 877.854 52.381 879.405 L52.381 874.683 Q55.2051 873.549 57.6588 872.97 Q60.1124 872.391 62.1495 872.391 Q67.5198 872.391 70.7142 875.076 Q73.9087 877.762 73.9087 882.252 Q73.9087 884.382 73.0985 886.303 Q72.3115 888.201 70.205 890.794 Q69.6263 891.465 66.5245 894.683 Q63.4226 897.877 57.7745 903.641 Z\" fill=\"#000000\" fill-rule=\"evenodd\" fill-opacity=\"1\" /><path clip-path=\"url(#clip270)\" d=\"M93.9086 876.095 Q90.2975 876.095 88.4688 879.66 Q86.6632 883.201 86.6632 890.331 Q86.6632 897.437 88.4688 901.002 Q90.2975 904.544 93.9086 904.544 Q97.5428 904.544 99.3483 901.002 Q101.177 897.437 101.177 890.331 Q101.177 883.201 99.3483 879.66 Q97.5428 876.095 93.9086 876.095 M93.9086 872.391 Q99.7187 872.391 102.774 876.998 Q105.853 881.581 105.853 890.331 Q105.853 899.058 102.774 903.664 Q99.7187 908.248 93.9086 908.248 Q88.0984 908.248 85.0197 903.664 Q81.9642 899.058 81.9642 890.331 Q81.9642 881.581 85.0197 876.998 Q88.0984 872.391 93.9086 872.391 Z\" fill=\"#000000\" fill-rule=\"evenodd\" fill-opacity=\"1\" /><path clip-path=\"url(#clip270)\" d=\"M124.07 876.095 Q120.459 876.095 118.631 879.66 Q116.825 883.201 116.825 890.331 Q116.825 897.437 118.631 901.002 Q120.459 904.544 124.07 904.544 Q127.705 904.544 129.51 901.002 Q131.339 897.437 131.339 890.331 Q131.339 883.201 129.51 879.66 Q127.705 876.095 124.07 876.095 M124.07 872.391 Q129.881 872.391 132.936 876.998 Q136.015 881.581 136.015 890.331 Q136.015 899.058 132.936 903.664 Q129.881 908.248 124.07 908.248 Q118.26 908.248 115.182 903.664 Q112.126 899.058 112.126 890.331 Q112.126 881.581 115.182 876.998 Q118.26 872.391 124.07 872.391 Z\" fill=\"#000000\" fill-rule=\"evenodd\" fill-opacity=\"1\" /><path clip-path=\"url(#clip270)\" d=\"M67.9133 601.531 Q71.2698 602.249 73.1448 604.517 Q75.0429 606.786 75.0429 610.119 Q75.0429 615.235 71.5244 618.036 Q68.0059 620.837 61.5245 620.837 Q59.3486 620.837 57.0338 620.397 Q54.7421 619.98 52.2884 619.124 L52.2884 614.61 Q54.2328 615.744 56.5477 616.323 Q58.8625 616.902 61.3856 616.902 Q65.7837 616.902 68.0754 615.166 Q70.3902 613.429 70.3902 610.119 Q70.3902 607.064 68.2374 605.351 Q66.1078 603.615 62.2884 603.615 L58.2606 603.615 L58.2606 599.772 L62.4735 599.772 Q65.9226 599.772 67.7513 598.406 Q69.58 597.018 69.58 594.425 Q69.58 591.763 67.6819 590.351 Q65.8069 588.916 62.2884 588.916 Q60.3671 588.916 58.168 589.332 Q55.969 589.749 53.3301 590.629 L53.3301 586.462 Q55.9921 585.721 58.3069 585.351 Q60.6449 584.981 62.705 584.981 Q68.0291 584.981 71.1309 587.411 Q74.2327 589.819 74.2327 593.939 Q74.2327 596.809 72.5892 598.8 Q70.9457 600.768 67.9133 601.531 Z\" fill=\"#000000\" fill-rule=\"evenodd\" fill-opacity=\"1\" /><path clip-path=\"url(#clip270)\" d=\"M93.9086 588.684 Q90.2975 588.684 88.4688 592.249 Q86.6632 595.791 86.6632 602.92 Q86.6632 610.027 88.4688 613.592 Q90.2975 617.133 93.9086 617.133 Q97.5428 617.133 99.3483 613.592 Q101.177 610.027 101.177 602.92 Q101.177 595.791 99.3483 592.249 Q97.5428 588.684 93.9086 588.684 M93.9086 584.981 Q99.7187 584.981 102.774 589.587 Q105.853 594.17 105.853 602.92 Q105.853 611.647 102.774 616.254 Q99.7187 620.837 93.9086 620.837 Q88.0984 620.837 85.0197 616.254 Q81.9642 611.647 81.9642 602.92 Q81.9642 594.17 85.0197 589.587 Q88.0984 584.981 93.9086 584.981 Z\" fill=\"#000000\" fill-rule=\"evenodd\" fill-opacity=\"1\" /><path clip-path=\"url(#clip270)\" d=\"M124.07 588.684 Q120.459 588.684 118.631 592.249 Q116.825 595.791 116.825 602.92 Q116.825 610.027 118.631 613.592 Q120.459 617.133 124.07 617.133 Q127.705 617.133 129.51 613.592 Q131.339 610.027 131.339 602.92 Q131.339 595.791 129.51 592.249 Q127.705 588.684 124.07 588.684 M124.07 584.981 Q129.881 584.981 132.936 589.587 Q136.015 594.17 136.015 602.92 Q136.015 611.647 132.936 616.254 Q129.881 620.837 124.07 620.837 Q118.26 620.837 115.182 616.254 Q112.126 611.647 112.126 602.92 Q112.126 594.17 115.182 589.587 Q118.26 584.981 124.07 584.981 Z\" fill=\"#000000\" fill-rule=\"evenodd\" fill-opacity=\"1\" /><path clip-path=\"url(#clip270)\" d=\"M66.5939 302.269 L54.7884 320.718 L66.5939 320.718 L66.5939 302.269 M65.367 298.195 L71.2466 298.195 L71.2466 320.718 L76.1772 320.718 L76.1772 324.607 L71.2466 324.607 L71.2466 332.755 L66.5939 332.755 L66.5939 324.607 L50.9921 324.607 L50.9921 320.093 L65.367 298.195 Z\" fill=\"#000000\" fill-rule=\"evenodd\" fill-opacity=\"1\" /><path clip-path=\"url(#clip270)\" d=\"M93.9086 301.274 Q90.2975 301.274 88.4688 304.838 Q86.6632 308.38 86.6632 315.51 Q86.6632 322.616 88.4688 326.181 Q90.2975 329.722 93.9086 329.722 Q97.5428 329.722 99.3483 326.181 Q101.177 322.616 101.177 315.51 Q101.177 308.38 99.3483 304.838 Q97.5428 301.274 93.9086 301.274 M93.9086 297.57 Q99.7187 297.57 102.774 302.176 Q105.853 306.76 105.853 315.51 Q105.853 324.236 102.774 328.843 Q99.7187 333.426 93.9086 333.426 Q88.0984 333.426 85.0197 328.843 Q81.9642 324.236 81.9642 315.51 Q81.9642 306.76 85.0197 302.176 Q88.0984 297.57 93.9086 297.57 Z\" fill=\"#000000\" fill-rule=\"evenodd\" fill-opacity=\"1\" /><path clip-path=\"url(#clip270)\" d=\"M124.07 301.274 Q120.459 301.274 118.631 304.838 Q116.825 308.38 116.825 315.51 Q116.825 322.616 118.631 326.181 Q120.459 329.722 124.07 329.722 Q127.705 329.722 129.51 326.181 Q131.339 322.616 131.339 315.51 Q131.339 308.38 129.51 304.838 Q127.705 301.274 124.07 301.274 M124.07 297.57 Q129.881 297.57 132.936 302.176 Q136.015 306.76 136.015 315.51 Q136.015 324.236 132.936 328.843 Q129.881 333.426 124.07 333.426 Q118.26 333.426 115.182 328.843 Q112.126 324.236 112.126 315.51 Q112.126 306.76 115.182 302.176 Q118.26 297.57 124.07 297.57 Z\" fill=\"#000000\" fill-rule=\"evenodd\" fill-opacity=\"1\" /><path clip-path=\"url(#clip270)\" d=\"M1218.25 65.6895 L1231.62 65.6895 L1231.62 19.5497 L1217.08 22.4663 L1217.08 15.0127 L1231.54 12.096 L1239.72 12.096 L1239.72 65.6895 L1253.09 65.6895 L1253.09 72.576 L1218.25 72.576 L1218.25 65.6895 Z\" fill=\"#000000\" fill-rule=\"evenodd\" fill-opacity=\"1\" /><path clip-path=\"url(#clip270)\" d=\"M1269.86 71.3202 L1269.86 63.8666 Q1272.94 65.3249 1276.1 66.0946 Q1279.26 66.8642 1282.3 66.8642 Q1290.4 66.8642 1294.65 61.436 Q1298.94 55.9673 1299.55 44.8678 Q1297.2 48.3516 1293.6 50.215 Q1289.99 52.0784 1285.62 52.0784 Q1276.54 52.0784 1271.24 46.6097 Q1265.97 41.1005 1265.97 31.5808 Q1265.97 22.2638 1271.48 16.633 Q1276.99 11.0023 1286.14 11.0023 Q1296.64 11.0023 1302.14 19.0636 Q1307.69 27.0843 1307.69 42.3968 Q1307.69 56.6965 1300.89 65.2439 Q1294.12 73.7508 1282.66 73.7508 Q1279.58 73.7508 1276.42 73.1431 Q1273.26 72.5355 1269.86 71.3202 M1286.14 45.678 Q1291.65 45.678 1294.85 41.9107 Q1298.09 38.1433 1298.09 31.5808 Q1298.09 25.0589 1294.85 21.2916 Q1291.65 17.4837 1286.14 17.4837 Q1280.63 17.4837 1277.39 21.2916 Q1274.19 25.0589 1274.19 31.5808 Q1274.19 38.1433 1277.39 41.9107 Q1280.63 45.678 1286.14 45.678 Z\" fill=\"#000000\" fill-rule=\"evenodd\" fill-opacity=\"1\" /><polyline clip-path=\"url(#clip272)\" style=\"stroke:#009af9; stroke-linecap:butt; stroke-linejoin:round; stroke-width:4; stroke-opacity:1; fill:none\" points=\"\n",
       "  233.734,1442.12 279.199,1447.87 318.981,1447.87 517.892,1445 586.09,1442.12 787.842,1436.38 824.782,1427.75 898.663,1413.38 1060.06,1370.27 1120.31,1355.9 \n",
       "  1313.53,1246.69 1324.9,1240.94 1461.3,993.764 1506.76,962.149 1745.45,660.368 1788.08,602.886 1859.12,545.403 2012.56,301.104 2128.5,358.586 2291.04,171.769 \n",
       "  \n",
       "  \"/>\n",
       "<polyline clip-path=\"url(#clip272)\" style=\"stroke:#e26f46; stroke-linecap:butt; stroke-linejoin:round; stroke-width:4; stroke-opacity:1; fill:none\" points=\"\n",
       "  233.734,1437.91 279.199,1445.85 318.981,1445.93 517.892,1445.21 586.09,1441.76 787.842,1437.66 824.782,1430.43 898.663,1412.84 1060.06,1371.28 1120.31,1355.99 \n",
       "  1313.53,1246.02 1324.9,1239.83 1461.3,992.132 1506.76,959.166 1745.45,657.177 1788.08,602.097 1859.12,544.573 2012.56,304.623 2128.5,363.139 2291.04,162.047 \n",
       "  \n",
       "  \"/>\n",
       "<path clip-path=\"url(#clip270)\" d=\"\n",
       "M1629.66 324.425 L2280.06 324.425 L2280.06 168.905 L1629.66 168.905  Z\n",
       "  \" fill=\"#ffffff\" fill-rule=\"evenodd\" fill-opacity=\"1\"/>\n",
       "<polyline clip-path=\"url(#clip270)\" style=\"stroke:#000000; stroke-linecap:butt; stroke-linejoin:round; stroke-width:4; stroke-opacity:1; fill:none\" points=\"\n",
       "  1629.66,324.425 2280.06,324.425 2280.06,168.905 1629.66,168.905 1629.66,324.425 \n",
       "  \"/>\n",
       "<polyline clip-path=\"url(#clip270)\" style=\"stroke:#009af9; stroke-linecap:butt; stroke-linejoin:round; stroke-width:4; stroke-opacity:1; fill:none\" points=\"\n",
       "  1653.89,220.745 1799.27,220.745 \n",
       "  \"/>\n",
       "<path clip-path=\"url(#clip270)\" d=\"M1828.18 207.307 L1828.18 234.182 L1833.83 234.182 Q1840.98 234.182 1844.29 230.941 Q1847.62 227.701 1847.62 220.71 Q1847.62 213.766 1844.29 210.548 Q1840.98 207.307 1833.83 207.307 L1828.18 207.307 M1823.5 203.465 L1833.11 203.465 Q1843.16 203.465 1847.86 207.654 Q1852.55 211.821 1852.55 220.71 Q1852.55 229.645 1847.83 233.835 Q1843.11 238.025 1833.11 238.025 L1823.5 238.025 L1823.5 203.465 Z\" fill=\"#000000\" fill-rule=\"evenodd\" fill-opacity=\"1\" /><path clip-path=\"url(#clip270)\" d=\"M1871.61 224.992 Q1866.44 224.992 1864.45 226.173 Q1862.46 227.353 1862.46 230.201 Q1862.46 232.469 1863.94 233.812 Q1865.45 235.131 1868.02 235.131 Q1871.56 235.131 1873.69 232.631 Q1875.84 230.108 1875.84 225.941 L1875.84 224.992 L1871.61 224.992 M1880.1 223.233 L1880.1 238.025 L1875.84 238.025 L1875.84 234.089 Q1874.38 236.451 1872.21 237.585 Q1870.03 238.696 1866.88 238.696 Q1862.9 238.696 1860.54 236.474 Q1858.2 234.228 1858.2 230.478 Q1858.2 226.103 1861.12 223.881 Q1864.06 221.659 1869.87 221.659 L1875.84 221.659 L1875.84 221.242 Q1875.84 218.303 1873.9 216.705 Q1871.98 215.085 1868.48 215.085 Q1866.26 215.085 1864.15 215.617 Q1862.05 216.15 1860.1 217.215 L1860.1 213.279 Q1862.44 212.377 1864.64 211.937 Q1866.84 211.474 1868.92 211.474 Q1874.55 211.474 1877.32 214.391 Q1880.1 217.307 1880.1 223.233 Z\" fill=\"#000000\" fill-rule=\"evenodd\" fill-opacity=\"1\" /><path clip-path=\"url(#clip270)\" d=\"M1893.09 204.738 L1893.09 212.099 L1901.86 212.099 L1901.86 215.409 L1893.09 215.409 L1893.09 229.483 Q1893.09 232.654 1893.94 233.557 Q1894.82 234.46 1897.49 234.46 L1901.86 234.46 L1901.86 238.025 L1897.49 238.025 Q1892.55 238.025 1890.68 236.196 Q1888.8 234.344 1888.8 229.483 L1888.8 215.409 L1885.68 215.409 L1885.68 212.099 L1888.8 212.099 L1888.8 204.738 L1893.09 204.738 Z\" fill=\"#000000\" fill-rule=\"evenodd\" fill-opacity=\"1\" /><path clip-path=\"url(#clip270)\" d=\"M1917.51 215.085 Q1914.08 215.085 1912.09 217.77 Q1910.1 220.432 1910.1 225.085 Q1910.1 229.738 1912.07 232.423 Q1914.06 235.085 1917.51 235.085 Q1920.91 235.085 1922.9 232.4 Q1924.89 229.715 1924.89 225.085 Q1924.89 220.478 1922.9 217.793 Q1920.91 215.085 1917.51 215.085 M1917.51 211.474 Q1923.06 211.474 1926.23 215.085 Q1929.41 218.696 1929.41 225.085 Q1929.41 231.451 1926.23 235.085 Q1923.06 238.696 1917.51 238.696 Q1911.93 238.696 1908.76 235.085 Q1905.61 231.451 1905.61 225.085 Q1905.61 218.696 1908.76 215.085 Q1911.93 211.474 1917.51 211.474 Z\" fill=\"#000000\" fill-rule=\"evenodd\" fill-opacity=\"1\" /><path clip-path=\"url(#clip270)\" d=\"M1952.99 212.863 L1952.99 216.891 Q1951.19 215.965 1949.24 215.502 Q1947.3 215.039 1945.22 215.039 Q1942.04 215.039 1940.45 216.011 Q1938.87 216.983 1938.87 218.928 Q1938.87 220.409 1940.01 221.265 Q1941.14 222.099 1944.57 222.863 L1946.03 223.187 Q1950.56 224.159 1952.46 225.941 Q1954.38 227.701 1954.38 230.872 Q1954.38 234.483 1951.51 236.589 Q1948.67 238.696 1943.67 238.696 Q1941.58 238.696 1939.31 238.279 Q1937.07 237.886 1934.57 237.076 L1934.57 232.677 Q1936.93 233.904 1939.22 234.529 Q1941.51 235.131 1943.76 235.131 Q1946.77 235.131 1948.39 234.113 Q1950.01 233.071 1950.01 231.196 Q1950.01 229.46 1948.83 228.534 Q1947.67 227.608 1943.71 226.752 L1942.23 226.404 Q1938.27 225.571 1936.51 223.858 Q1934.75 222.122 1934.75 219.113 Q1934.75 215.455 1937.35 213.465 Q1939.94 211.474 1944.71 211.474 Q1947.07 211.474 1949.15 211.821 Q1951.23 212.168 1952.99 212.863 Z\" fill=\"#000000\" fill-rule=\"evenodd\" fill-opacity=\"1\" /><path clip-path=\"url(#clip270)\" d=\"M1991.26 216.08 Q1990.54 215.664 1989.68 215.478 Q1988.85 215.27 1987.83 215.27 Q1984.22 215.27 1982.28 217.631 Q1980.35 219.969 1980.35 224.367 L1980.35 238.025 L1976.07 238.025 L1976.07 212.099 L1980.35 212.099 L1980.35 216.127 Q1981.7 213.766 1983.85 212.631 Q1986 211.474 1989.08 211.474 Q1989.52 211.474 1990.05 211.543 Q1990.59 211.59 1991.23 211.705 L1991.26 216.08 Z\" fill=\"#000000\" fill-rule=\"evenodd\" fill-opacity=\"1\" /><path clip-path=\"url(#clip270)\" d=\"M2016.86 223.997 L2016.86 226.08 L1997.28 226.08 Q1997.55 230.478 1999.92 232.793 Q2002.3 235.085 2006.54 235.085 Q2008.99 235.085 2011.28 234.483 Q2013.6 233.881 2015.86 232.677 L2015.86 236.705 Q2013.57 237.677 2011.16 238.187 Q2008.76 238.696 2006.28 238.696 Q2000.08 238.696 1996.44 235.085 Q1992.83 231.474 1992.83 225.316 Q1992.83 218.951 1996.26 215.224 Q1999.71 211.474 2005.54 211.474 Q2010.77 211.474 2013.8 214.853 Q2016.86 218.21 2016.86 223.997 M2012.6 222.747 Q2012.55 219.252 2010.63 217.168 Q2008.73 215.085 2005.59 215.085 Q2002.02 215.085 1999.87 217.099 Q1997.74 219.113 1997.42 222.77 L2012.6 222.747 Z\" fill=\"#000000\" fill-rule=\"evenodd\" fill-opacity=\"1\" /><path clip-path=\"url(#clip270)\" d=\"M2035.63 224.992 Q2030.47 224.992 2028.48 226.173 Q2026.49 227.353 2026.49 230.201 Q2026.49 232.469 2027.97 233.812 Q2029.48 235.131 2032.04 235.131 Q2035.59 235.131 2037.72 232.631 Q2039.87 230.108 2039.87 225.941 L2039.87 224.992 L2035.63 224.992 M2044.13 223.233 L2044.13 238.025 L2039.87 238.025 L2039.87 234.089 Q2038.41 236.451 2036.23 237.585 Q2034.06 238.696 2030.91 238.696 Q2026.93 238.696 2024.57 236.474 Q2022.23 234.228 2022.23 230.478 Q2022.23 226.103 2025.15 223.881 Q2028.09 221.659 2033.9 221.659 L2039.87 221.659 L2039.87 221.242 Q2039.87 218.303 2037.92 216.705 Q2036 215.085 2032.51 215.085 Q2030.29 215.085 2028.18 215.617 Q2026.07 216.15 2024.13 217.215 L2024.13 213.279 Q2026.47 212.377 2028.66 211.937 Q2030.86 211.474 2032.95 211.474 Q2038.57 211.474 2041.35 214.391 Q2044.13 217.307 2044.13 223.233 Z\" fill=\"#000000\" fill-rule=\"evenodd\" fill-opacity=\"1\" /><path clip-path=\"url(#clip270)\" d=\"M2052.9 202.006 L2057.16 202.006 L2057.16 238.025 L2052.9 238.025 L2052.9 202.006 Z\" fill=\"#000000\" fill-rule=\"evenodd\" fill-opacity=\"1\" /><path clip-path=\"url(#clip270)\" d=\"M2088.25 223.997 L2088.25 226.08 L2068.66 226.08 Q2068.94 230.478 2071.3 232.793 Q2073.69 235.085 2077.92 235.085 Q2080.38 235.085 2082.67 234.483 Q2084.98 233.881 2087.25 232.677 L2087.25 236.705 Q2084.96 237.677 2082.55 238.187 Q2080.15 238.696 2077.67 238.696 Q2071.47 238.696 2067.83 235.085 Q2064.22 231.474 2064.22 225.316 Q2064.22 218.951 2067.65 215.224 Q2071.1 211.474 2076.93 211.474 Q2082.16 211.474 2085.19 214.853 Q2088.25 218.21 2088.25 223.997 M2083.99 222.747 Q2083.94 219.252 2082.02 217.168 Q2080.12 215.085 2076.97 215.085 Q2073.41 215.085 2071.26 217.099 Q2069.13 219.113 2068.8 222.77 L2083.99 222.747 Z\" fill=\"#000000\" fill-rule=\"evenodd\" fill-opacity=\"1\" /><path clip-path=\"url(#clip270)\" d=\"M2111.77 212.863 L2111.77 216.891 Q2109.96 215.965 2108.02 215.502 Q2106.07 215.039 2103.99 215.039 Q2100.82 215.039 2099.22 216.011 Q2097.65 216.983 2097.65 218.928 Q2097.65 220.409 2098.78 221.265 Q2099.91 222.099 2103.34 222.863 L2104.8 223.187 Q2109.34 224.159 2111.23 225.941 Q2113.16 227.701 2113.16 230.872 Q2113.16 234.483 2110.28 236.589 Q2107.44 238.696 2102.44 238.696 Q2100.35 238.696 2098.09 238.279 Q2095.84 237.886 2093.34 237.076 L2093.34 232.677 Q2095.7 233.904 2097.99 234.529 Q2100.28 235.131 2102.53 235.131 Q2105.54 235.131 2107.16 234.113 Q2108.78 233.071 2108.78 231.196 Q2108.78 229.46 2107.6 228.534 Q2106.44 227.608 2102.48 226.752 L2101 226.404 Q2097.04 225.571 2095.28 223.858 Q2093.53 222.122 2093.53 219.113 Q2093.53 215.455 2096.12 213.465 Q2098.71 211.474 2103.48 211.474 Q2105.84 211.474 2107.92 211.821 Q2110.01 212.168 2111.77 212.863 Z\" fill=\"#000000\" fill-rule=\"evenodd\" fill-opacity=\"1\" /><polyline clip-path=\"url(#clip270)\" style=\"stroke:#e26f46; stroke-linecap:butt; stroke-linejoin:round; stroke-width:4; stroke-opacity:1; fill:none\" points=\"\n",
       "  1653.89,272.585 1799.27,272.585 \n",
       "  \"/>\n",
       "<path clip-path=\"url(#clip270)\" d=\"M1845.22 274.217 L1845.22 289.865 L1840.96 289.865 L1840.96 274.355 Q1840.96 270.675 1839.52 268.846 Q1838.09 267.018 1835.22 267.018 Q1831.77 267.018 1829.78 269.217 Q1827.79 271.416 1827.79 275.212 L1827.79 289.865 L1823.5 289.865 L1823.5 253.846 L1827.79 253.846 L1827.79 267.967 Q1829.31 265.629 1831.37 264.471 Q1833.46 263.314 1836.17 263.314 Q1840.63 263.314 1842.93 266.092 Q1845.22 268.846 1845.22 274.217 Z\" fill=\"#000000\" fill-rule=\"evenodd\" fill-opacity=\"1\" /><path clip-path=\"url(#clip270)\" d=\"M1863.94 253.893 Q1860.84 259.217 1859.34 264.425 Q1857.83 269.633 1857.83 274.98 Q1857.83 280.328 1859.34 285.582 Q1860.86 290.814 1863.94 296.115 L1860.24 296.115 Q1856.77 290.675 1855.03 285.42 Q1853.32 280.166 1853.32 274.98 Q1853.32 269.818 1855.03 264.587 Q1856.74 259.356 1860.24 253.893 L1863.94 253.893 Z\" fill=\"#000000\" fill-rule=\"evenodd\" fill-opacity=\"1\" /><path clip-path=\"url(#clip270)\" d=\"M1876.42 256.578 L1876.42 263.939 L1885.19 263.939 L1885.19 267.249 L1876.42 267.249 L1876.42 281.323 Q1876.42 284.494 1877.28 285.397 Q1878.16 286.3 1880.82 286.3 L1885.19 286.3 L1885.19 289.865 L1880.82 289.865 Q1875.89 289.865 1874.01 288.036 Q1872.14 286.184 1872.14 281.323 L1872.14 267.249 L1869.01 267.249 L1869.01 263.939 L1872.14 263.939 L1872.14 256.578 L1876.42 256.578 Z\" fill=\"#000000\" fill-rule=\"evenodd\" fill-opacity=\"1\" /><path clip-path=\"url(#clip270)\" d=\"M1890.12 253.893 L1893.83 253.893 Q1897.3 259.356 1899.01 264.587 Q1900.75 269.818 1900.75 274.98 Q1900.75 280.166 1899.01 285.42 Q1897.3 290.675 1893.83 296.115 L1890.12 296.115 Q1893.2 290.814 1894.71 285.582 Q1896.24 280.328 1896.24 274.98 Q1896.24 269.633 1894.71 264.425 Q1893.2 259.217 1890.12 253.893 Z\" fill=\"#000000\" fill-rule=\"evenodd\" fill-opacity=\"1\" /><path clip-path=\"url(#clip270)\" d=\"M1936.14 276.832 Q1930.98 276.832 1928.99 278.013 Q1927 279.193 1927 282.041 Q1927 284.309 1928.48 285.652 Q1929.98 286.971 1932.55 286.971 Q1936.1 286.971 1938.23 284.471 Q1940.38 281.948 1940.38 277.781 L1940.38 276.832 L1936.14 276.832 M1944.64 275.073 L1944.64 289.865 L1940.38 289.865 L1940.38 285.929 Q1938.92 288.291 1936.74 289.425 Q1934.57 290.536 1931.42 290.536 Q1927.44 290.536 1925.08 288.314 Q1922.74 286.068 1922.74 282.318 Q1922.74 277.943 1925.66 275.721 Q1928.6 273.499 1934.41 273.499 L1940.38 273.499 L1940.38 273.082 Q1940.38 270.143 1938.43 268.545 Q1936.51 266.925 1933.02 266.925 Q1930.8 266.925 1928.69 267.457 Q1926.58 267.99 1924.64 269.055 L1924.64 265.119 Q1926.98 264.217 1929.17 263.777 Q1931.37 263.314 1933.46 263.314 Q1939.08 263.314 1941.86 266.231 Q1944.64 269.147 1944.64 275.073 Z\" fill=\"#000000\" fill-rule=\"evenodd\" fill-opacity=\"1\" /><path clip-path=\"url(#clip270)\" d=\"M1953.41 253.846 L1957.67 253.846 L1957.67 289.865 L1953.41 289.865 L1953.41 253.846 Z\" fill=\"#000000\" fill-rule=\"evenodd\" fill-opacity=\"1\" /><path clip-path=\"url(#clip270)\" d=\"M1983.64 276.601 Q1983.64 271.971 1981.72 269.425 Q1979.82 266.879 1976.37 266.879 Q1972.95 266.879 1971.03 269.425 Q1969.13 271.971 1969.13 276.601 Q1969.13 281.207 1971.03 283.754 Q1972.95 286.3 1976.37 286.3 Q1979.82 286.3 1981.72 283.754 Q1983.64 281.207 1983.64 276.601 M1987.9 286.647 Q1987.9 293.267 1984.96 296.485 Q1982.02 299.726 1975.96 299.726 Q1973.71 299.726 1971.72 299.378 Q1969.73 299.054 1967.86 298.36 L1967.86 294.216 Q1969.73 295.235 1971.56 295.721 Q1973.39 296.207 1975.29 296.207 Q1979.48 296.207 1981.56 294.008 Q1983.64 291.832 1983.64 287.411 L1983.64 285.304 Q1982.32 287.596 1980.26 288.73 Q1978.2 289.865 1975.33 289.865 Q1970.56 289.865 1967.65 286.23 Q1964.73 282.596 1964.73 276.601 Q1964.73 270.582 1967.65 266.948 Q1970.56 263.314 1975.33 263.314 Q1978.2 263.314 1980.26 264.448 Q1982.32 265.582 1983.64 267.874 L1983.64 263.939 L1987.9 263.939 L1987.9 286.647 Z\" fill=\"#000000\" fill-rule=\"evenodd\" fill-opacity=\"1\" /><path clip-path=\"url(#clip270)\" d=\"M2006.72 266.925 Q2003.29 266.925 2001.3 269.61 Q1999.31 272.272 1999.31 276.925 Q1999.31 281.578 2001.28 284.263 Q2003.27 286.925 2006.72 286.925 Q2010.12 286.925 2012.11 284.24 Q2014.1 281.555 2014.1 276.925 Q2014.1 272.318 2012.11 269.633 Q2010.12 266.925 2006.72 266.925 M2006.72 263.314 Q2012.28 263.314 2015.45 266.925 Q2018.62 270.536 2018.62 276.925 Q2018.62 283.291 2015.45 286.925 Q2012.28 290.536 2006.72 290.536 Q2001.14 290.536 1997.97 286.925 Q1994.82 283.291 1994.82 276.925 Q1994.82 270.536 1997.97 266.925 Q2001.14 263.314 2006.72 263.314 Z\" fill=\"#000000\" fill-rule=\"evenodd\" fill-opacity=\"1\" /><path clip-path=\"url(#clip270)\" d=\"M2040.7 267.92 Q2039.98 267.504 2039.13 267.318 Q2038.29 267.11 2037.28 267.11 Q2033.66 267.11 2031.72 269.471 Q2029.8 271.809 2029.8 276.207 L2029.8 289.865 L2025.52 289.865 L2025.52 263.939 L2029.8 263.939 L2029.8 267.967 Q2031.14 265.606 2033.29 264.471 Q2035.45 263.314 2038.53 263.314 Q2038.97 263.314 2039.5 263.383 Q2040.03 263.43 2040.68 263.545 L2040.7 267.92 Z\" fill=\"#000000\" fill-rule=\"evenodd\" fill-opacity=\"1\" /><path clip-path=\"url(#clip270)\" d=\"M2045.17 263.939 L2049.43 263.939 L2049.43 289.865 L2045.17 289.865 L2045.17 263.939 M2045.17 253.846 L2049.43 253.846 L2049.43 259.24 L2045.17 259.24 L2045.17 253.846 Z\" fill=\"#000000\" fill-rule=\"evenodd\" fill-opacity=\"1\" /><path clip-path=\"url(#clip270)\" d=\"M2062.55 256.578 L2062.55 263.939 L2071.33 263.939 L2071.33 267.249 L2062.55 267.249 L2062.55 281.323 Q2062.55 284.494 2063.41 285.397 Q2064.29 286.3 2066.95 286.3 L2071.33 286.3 L2071.33 289.865 L2066.95 289.865 Q2062.02 289.865 2060.15 288.036 Q2058.27 286.184 2058.27 281.323 L2058.27 267.249 L2055.15 267.249 L2055.15 263.939 L2058.27 263.939 L2058.27 256.578 L2062.55 256.578 Z\" fill=\"#000000\" fill-rule=\"evenodd\" fill-opacity=\"1\" /><path clip-path=\"url(#clip270)\" d=\"M2097.11 268.916 Q2098.71 266.045 2100.93 264.68 Q2103.16 263.314 2106.16 263.314 Q2110.22 263.314 2112.41 266.161 Q2114.61 268.985 2114.61 274.217 L2114.61 289.865 L2110.33 289.865 L2110.33 274.355 Q2110.33 270.629 2109.01 268.823 Q2107.69 267.018 2104.98 267.018 Q2101.67 267.018 2099.75 269.217 Q2097.83 271.416 2097.83 275.212 L2097.83 289.865 L2093.55 289.865 L2093.55 274.355 Q2093.55 270.605 2092.23 268.823 Q2090.91 267.018 2088.16 267.018 Q2084.89 267.018 2082.97 269.24 Q2081.05 271.439 2081.05 275.212 L2081.05 289.865 L2076.77 289.865 L2076.77 263.939 L2081.05 263.939 L2081.05 267.967 Q2082.51 265.582 2084.54 264.448 Q2086.58 263.314 2089.38 263.314 Q2092.21 263.314 2094.17 264.749 Q2096.16 266.184 2097.11 268.916 Z\" fill=\"#000000\" fill-rule=\"evenodd\" fill-opacity=\"1\" /><path clip-path=\"url(#clip270)\" d=\"M2133.16 266.925 Q2129.73 266.925 2127.74 269.61 Q2125.75 272.272 2125.75 276.925 Q2125.75 281.578 2127.72 284.263 Q2129.71 286.925 2133.16 286.925 Q2136.56 286.925 2138.55 284.24 Q2140.54 281.555 2140.54 276.925 Q2140.54 272.318 2138.55 269.633 Q2136.56 266.925 2133.16 266.925 M2133.16 263.314 Q2138.71 263.314 2141.88 266.925 Q2145.05 270.536 2145.05 276.925 Q2145.05 283.291 2141.88 286.925 Q2138.71 290.536 2133.16 290.536 Q2127.58 290.536 2124.41 286.925 Q2121.26 283.291 2121.26 276.925 Q2121.26 270.536 2124.41 266.925 Q2127.58 263.314 2133.16 263.314 Z\" fill=\"#000000\" fill-rule=\"evenodd\" fill-opacity=\"1\" /><path clip-path=\"url(#clip270)\" d=\"M2181.4 258.476 Q2176.3 258.476 2173.29 262.272 Q2170.31 266.068 2170.31 272.619 Q2170.31 279.147 2173.29 282.943 Q2176.3 286.74 2181.4 286.74 Q2186.49 286.74 2189.45 282.943 Q2192.44 279.147 2192.44 272.619 Q2192.44 266.068 2189.45 262.272 Q2186.49 258.476 2181.4 258.476 M2187.95 289.24 L2194.1 295.976 L2188.46 295.976 L2183.34 290.443 Q2182.58 290.49 2182.16 290.513 Q2181.77 290.536 2181.4 290.536 Q2174.1 290.536 2169.73 285.675 Q2165.38 280.791 2165.38 272.619 Q2165.38 264.425 2169.73 259.564 Q2174.1 254.68 2181.4 254.68 Q2188.66 254.68 2193.02 259.564 Q2197.37 264.425 2197.37 272.619 Q2197.37 278.638 2194.94 282.92 Q2192.53 287.203 2187.95 289.24 Z\" fill=\"#000000\" fill-rule=\"evenodd\" fill-opacity=\"1\" /><path clip-path=\"url(#clip270)\" d=\"M2221.07 273.661 Q2222.58 274.17 2223.99 275.837 Q2225.42 277.504 2226.86 280.42 L2231.6 289.865 L2226.58 289.865 L2222.16 280.999 Q2220.45 277.527 2218.83 276.393 Q2217.23 275.258 2214.45 275.258 L2209.36 275.258 L2209.36 289.865 L2204.68 289.865 L2204.68 255.305 L2215.24 255.305 Q2221.16 255.305 2224.08 257.781 Q2227 260.258 2227 265.258 Q2227 268.522 2225.47 270.675 Q2223.96 272.828 2221.07 273.661 M2209.36 259.147 L2209.36 271.416 L2215.24 271.416 Q2218.62 271.416 2220.33 269.865 Q2222.07 268.291 2222.07 265.258 Q2222.07 262.226 2220.33 260.698 Q2218.62 259.147 2215.24 259.147 L2209.36 259.147 Z\" fill=\"#000000\" fill-rule=\"evenodd\" fill-opacity=\"1\" /></svg>\n"
      ]
     },
     "execution_count": 50,
     "metadata": {},
     "output_type": "execute_result"
    }
   ],
   "source": [
    "#Ahora vamos a plotear los datos reales (t_i,y_i), los datos modelados mediante el algoritmo QR (t_i,h(t_i)) y\n",
    "# los datos modelados mediante ecuaciones normales (t_i,g(t_i)).\n",
    "\n",
    "# Este dato lo puede cambiar el usuario. Es el grado del polinomio que \n",
    "# vamos a usar para ajustar. Necesitas m > n\n",
    "n = 19\n",
    "\n",
    "#Modelo a partir de ecuaciones normales\n",
    "#g = PolyModel(n,t,y)\n",
    "\n",
    "#Modelo a partir de algoritmo QR\n",
    "h = PolyModelQR(n,t,y)\n",
    "\n",
    "\n",
    "plot(t,[y,h], title =  n, label=[\"Datos reales\" \"h(t) algoritmo QR\" ] )\n",
    "\n",
    "#plot(t,[y,g,h], title =  n, label=[\"Datos reales\" \"g(t) ecuaciones normales\" \"h(t) algoritmo QR\" ] )\n",
    "   "
   ]
  },
  {
   "cell_type": "markdown",
   "id": "c9c1b908",
   "metadata": {},
   "source": [
    "Observemos que los datos se ajustan muy bien al modelo.\n",
    "¿Cuál es el número de condición de R?"
   ]
  },
  {
   "cell_type": "code",
   "execution_count": 52,
   "id": "0285afe9",
   "metadata": {},
   "outputs": [
    {
     "name": "stdout",
     "output_type": "stream",
     "text": [
      "(\"n = \", 1, \"cond(R)=\", 187.25029863335945, \"cond(A^T*A) = \", 35062.67433828433)\n",
      "(\"n = \", 2, \"cond(R)=\", 34918.52335869614, \"cond(A^T*A) = \", 1.2193032735740993e9)\n",
      "(\"n = \", 3, \"cond(R)=\", 6.261546153092644e6, \"cond(A^T*A) = \", 3.92069609137215e13)\n",
      "(\"n = \", 4, \"cond(R)=\", 1.1261969033630772e9, \"cond(A^T*A) = \", 1.2682213500233848e18)\n",
      "(\"n = \", 5, \"cond(R)=\", 2.0774101372219263e11, \"cond(A^T*A) = \", 1.5373901344564632e23)\n",
      "(\"n = \", 6, \"cond(R)=\", 3.871924646072298e13, \"cond(A^T*A) = \", 2.1068354153073705e26)\n",
      "(\"n = \", 7, \"cond(R)=\", 8.107708514361775e15, \"cond(A^T*A) = \", 6.615572427374224e29)\n",
      "(\"n = \", 8, \"cond(R)=\", 1.471594394070287e18, \"cond(A^T*A) = \", 1.4763598407746939e34)\n",
      "(\"n = \", 9, \"cond(R)=\", 7.762495610404213e20, \"cond(A^T*A) = \", 1.8564396390630998e37)\n",
      "(\"n = \", 10, \"cond(R)=\", 1.1385290757354841e25, \"cond(A^T*A) = \", 1.759474976951025e41)\n",
      "(\"n = \", 11, \"cond(R)=\", 1.0331067176441162e27, \"cond(A^T*A) = \", 2.8154417452613565e45)\n",
      "(\"n = \", 12, \"cond(R)=\", 3.5852064747051696e28, \"cond(A^T*A) = \", 1.3037370407111056e47)\n",
      "(\"n = \", 13, \"cond(R)=\", 1.2007225119784896e31, \"cond(A^T*A) = \", 1.2227978374097504e52)\n",
      "(\"n = \", 14, \"cond(R)=\", 1.1743276017330145e34, \"cond(A^T*A) = \", 4.6182823185956895e54)\n",
      "(\"n = \", 15, \"cond(R)=\", 9.097797082544422e36, \"cond(A^T*A) = \", 8.396470942652052e57)\n",
      "(\"n = \", 16, \"cond(R)=\", 5.2900274683857616e39, \"cond(A^T*A) = \", 1.4016749297356005e61)\n",
      "(\"n = \", 17, \"cond(R)=\", 1.8767350905081065e42, \"cond(A^T*A) = \", 2.2727191837443505e64)\n",
      "(\"n = \", 18, \"cond(R)=\", 1.224429137043985e46, \"cond(A^T*A) = \", 6.003779878524312e66)\n",
      "(\"n = \", 19, \"cond(R)=\", 3.2558873635130327e49, \"cond(A^T*A) = \", 1.942622974415792e70)\n"
     ]
    }
   ],
   "source": [
    "m = length(t) \n",
    "    \n",
    "for n = 1:19\n",
    "    #Calculamos la matriz de diseño A. Esta es una matriz de  mx(n+1). La entrada A_{ij} = t_i^{j-1}\n",
    "    A = zeros(m,n+1);\n",
    "    for i = 1:m\n",
    "        for j = 1:n+1\n",
    "            A[i,j] = t[i]^(j-1)\n",
    "        end\n",
    "    end\n",
    "    (Q,R) = QRHouseholder(A)\n",
    "    println( (\"n = \",n,\"cond(R)=\",cond(R), \"cond(A^T*A) = \", cond(A'*A)))\n",
    "end"
   ]
  },
  {
   "cell_type": "markdown",
   "id": "b7aeb950",
   "metadata": {},
   "source": [
    "Podemos observar que tanto $R$ como $A^TA$ están muy mal condicionadas, pero $A^TA$ está mucho peor condicionada."
   ]
  },
  {
   "cell_type": "markdown",
   "id": "961e5cd3",
   "metadata": {},
   "source": [
    "# Problema 5\n",
    "\n",
    "Considere los siguientes datos, obtenidos de un experimento a intervalos de un segundo, con la primera observación en el tiempo $t = 1.0$:\n",
    "\n",
    "t: 1 - 9                \n",
    "5.0291                    \n",
    "6.5009                   \n",
    "5.3666                   \n",
    "4.1272                   \n",
    "4.2948                   \n",
    "6.1261                   \n",
    "12.5140                  \n",
    "10.0502         \n",
    "9.1614         \n",
    "\n",
    "t: 10 -18 \n",
    "7.5677 \n",
    "7.2920\n",
    "10.0357\n",
    "11.0708\n",
    "13.4045\n",
    "12.8415\n",
    "11.9666 \n",
    "11.0765\n",
    "11.7774 \n",
    "\n",
    "t: 19 - 25  \n",
    "14.5701\n",
    "17.0440 \n",
    "17.0398 \n",
    "15.9069 \n",
    "15.4850\n",
    "15.5112\n",
    "17.6572\n",
    "\n"
   ]
  },
  {
   "cell_type": "markdown",
   "id": "a07b2f68",
   "metadata": {},
   "source": [
    "1. Utilizando las ecuaciones normales, ajuste los datos por una línea recta $y(t) = \\beta_1 + \\beta_2 t$ y grafique los residuales $y(t_k)-y_k$. Observe que uno de los datos tiene un residual mucho mayor que el resto. Sospechamos que no encaja con el resto de los datos, es decir, es un valor atípico."
   ]
  }
 ],
 "metadata": {
  "kernelspec": {
   "display_name": "Julia 1.6.2",
   "language": "julia",
   "name": "julia-1.6"
  },
  "language_info": {
   "file_extension": ".jl",
   "mimetype": "application/julia",
   "name": "julia",
   "version": "1.6.3"
  }
 },
 "nbformat": 4,
 "nbformat_minor": 5
}
