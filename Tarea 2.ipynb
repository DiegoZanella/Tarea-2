{
 "cells": [
  {
   "cell_type": "markdown",
   "id": "revised-homeless",
   "metadata": {},
   "source": [
    "ANÁLISIS NUMÉRICO\n",
    "TAREA 2\n",
    "Diego López Zanella\n",
    "$$ x = 1$$"
   ]
  },
  {
   "cell_type": "markdown",
   "id": "pacific-victoria",
   "metadata": {},
   "source": [
    "# PROBLEMA 1\n",
    "\n"
   ]
  },
  {
   "cell_type": "markdown",
   "id": "62b0390b",
   "metadata": {},
   "source": [
    "Dados los siguientes vectores:\n",
    "$$\\alpha = \\begin{pmatrix} 4 \\\\ 3  \\end{pmatrix}, \\;\\; \\beta = \\begin{pmatrix} 2 \\\\ 1 \\\\ 2  \\end{pmatrix}$$\n",
    "\n",
    "encuentre la matriz de rotación $G$ y el reflector de Householder $F$ tales que \n",
    "\n",
    "$$G \\alpha = \\begin{pmatrix} 5 \\\\ 0  \\end{pmatrix}, \\;\\; F \\beta = \\begin{pmatrix} -3 \\\\ 0 \\\\ 0  \\end{pmatrix}$$"
   ]
  }
 ],
 "metadata": {
  "kernelspec": {
   "display_name": "Julia 1.6.2",
   "language": "julia",
   "name": "julia-1.6"
  },
  "language_info": {
   "file_extension": ".jl",
   "mimetype": "application/julia",
   "name": "julia",
   "version": "1.6.2"
  }
 },
 "nbformat": 4,
 "nbformat_minor": 5
}
