{
 "cells": [
  {
   "cell_type": "markdown",
   "id": "revised-homeless",
   "metadata": {},
   "source": [
    "ANÁLISIS NUMÉRICO\n",
    "TAREA 2\n",
    "Diego López Zanella"
   ]
  },
  {
   "cell_type": "markdown",
   "id": "pacific-victoria",
   "metadata": {},
   "source": [
    "PROBLEMA 1"
   ]
  }
 ],
 "metadata": {
  "kernelspec": {
   "display_name": "Julia 1.6.2",
   "language": "julia",
   "name": "julia-1.6"
  },
  "language_info": {
   "file_extension": ".jl",
   "mimetype": "application/julia",
   "name": "julia",
   "version": "1.6.2"
  }
 },
 "nbformat": 4,
 "nbformat_minor": 5
}
