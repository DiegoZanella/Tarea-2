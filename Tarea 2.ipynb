{
 "cells": [
  {
   "cell_type": "code",
   "execution_count": 2,
   "id": "e67a4355",
   "metadata": {},
   "outputs": [
    {
     "data": {
      "text/plain": [
       "LUPP (generic function with 1 method)"
      ]
     },
     "execution_count": 2,
     "metadata": {},
     "output_type": "execute_result"
    }
   ],
   "source": [
    "using LinearAlgebra\n",
    "using Plots\n",
    "\n",
    "include(\"Cholesky.jl\")\n",
    "include(\"Algoritmo LU.jl\")"
   ]
  },
  {
   "cell_type": "markdown",
   "id": "revised-homeless",
   "metadata": {},
   "source": [
    "# ANÁLISIS NUMÉRICO\n",
    "# TAREA 2\n",
    "# Diego López Zanella\n"
   ]
  },
  {
   "cell_type": "markdown",
   "id": "pacific-victoria",
   "metadata": {},
   "source": [
    "# PROBLEMA 1\n",
    "\n"
   ]
  },
  {
   "cell_type": "markdown",
   "id": "62b0390b",
   "metadata": {},
   "source": [
    "Dados los siguientes vectores:\n",
    "$$\\alpha = \\begin{pmatrix} 4 \\\\ 3  \\end{pmatrix}, \\;\\; \\beta = \\begin{pmatrix} 2 \\\\ 1 \\\\ 2  \\end{pmatrix}$$\n",
    "\n",
    "encuentre la matriz de rotación $G$ y el reflector de Householder $F$ tales que \n",
    "\n",
    "$$G \\alpha = \\begin{pmatrix} 5 \\\\ 0  \\end{pmatrix}, \\;\\; F \\beta = \\begin{pmatrix} -3 \\\\ 0 \\\\ 0  \\end{pmatrix}$$\n"
   ]
  },
  {
   "cell_type": "code",
   "execution_count": 3,
   "id": "c68bca8d",
   "metadata": {},
   "outputs": [
    {
     "data": {
      "text/plain": [
       "2×2 Matrix{Float64}:\n",
       " 0.8   0.6\n",
       " 0.6  -0.8"
      ]
     },
     "execution_count": 3,
     "metadata": {},
     "output_type": "execute_result"
    }
   ],
   "source": [
    "#Problema 2\n",
    "\n",
    "A = [4 10; 3 0]\n",
    "x = [4;3];\n",
    "v = norm(x).*[1;0]-x\n",
    "H = I-2* ( (v*v')./(v'*v) )\n",
    "H*A\n",
    "H"
   ]
  },
  {
   "cell_type": "markdown",
   "id": "09ae9949",
   "metadata": {},
   "source": [
    "# Problema 3"
   ]
  },
  {
   "cell_type": "markdown",
   "id": "e0decefb",
   "metadata": {},
   "source": [
    "El siguiente problema consiste en determinar la curva de crecimiento de una población de bacterias. Los datos a utilizar son: el número de individuos de una especia particular de bacterias $(y_i)$ en el tiempo $(t_i)$.\n",
    "\n",
    "\\begin{align}\n",
    "        t & = [0,4,7.5,25,31,48.75,52,58.5,72.7,78,95,96,108,112,133,136.75,143,156.5,166.7,181] \\\\\n",
    "        y & = [8,6,6,7,8,10,13,18,33,38,76,78,164,175,280,300,320,405,385,450].\n",
    "\\end{align}"
   ]
  },
  {
   "cell_type": "markdown",
   "id": "822d24c6",
   "metadata": {},
   "source": [
    "# Recordatorio de qué son las ecuaciones normales\n",
    "\n",
    "Tenemos como datos el vector $t$ y el vector $y$. Buscamos un vector de parámetros $c = (c_0, \\dots , c_n)$ tal que si\n",
    "    \\begin{align}\n",
    "        \\phi (t) = c_0 +c_1 t+c_2t^2 + \\cdots + c_n t^n\n",
    "    \\end{align}\n",
    "entonces $\\phi(t_i)=y_i$; es decir,\n",
    "    \\begin{align}\n",
    "        A c = y\n",
    "    \\end{align}\n",
    "donde $A$ es la matriz de diseño $A = \\left( t_i^j \\right)_{ij}$. Es posible que $y$ no esté en el rango de $A$, por lo que el problema podría no tener solución. Por tanto, buscamos una solución aproximada mediante el método de mínimos cuadrados. Se demuestra que el vector de parámetros $c$ que minimiza la distancia\n",
    "    \\begin{align}\n",
    "        \\left| \\left| Ac - y \\right| \\right|\n",
    "     \\end{align}\n",
    "es solución del sistema de ecuaciones normales:\n",
    "    \\begin{align}\n",
    "        A^T A c = A^T y.\n",
    "    \\end{align}\n",
    "Cuando la matriz $A$ tiene rango completo, $A^T A $ es una matriz definida positiva, por lo que podemos calcular su factorización de Cholesky: $A^T A = L L^T$. Por lo tanto, las ecuaciones normales se pueden resolver de la siguiente forma:\n",
    "\n",
    "1 Encontramos una solución $w_0$ a la ecuación $Lw  = A^Ty$. Como $L$ es triangular inferior, podemos resolver este sistema mediante sustitución hacia adelante.\n",
    "\n",
    "2 Encontramos una solución $c_0$ a la ecuación $L^T c = w_0$. Como $L^T$ es triangular superior, este sistema lo resolvemos mediante sustitución hacia adelante.\n",
    "\n",
    "De esta forma,\n",
    "    \\begin{align}\n",
    "        A^T A c_0 & = L L^T c_0 \\\\\n",
    "        & = L w_0 \\\\\n",
    "        & = A^T y.\n",
    "    \\end{align}\n",
    "    \n",
    " Una vez encontrado el vector de parámetros $c_0$, ya podemos proponer el siguiente modelo para las observaciones $(t_i,y_i)$:\n",
    "     \\begin{align}\n",
    "         \\phi(t) = c^T \\begin{pmatrix} 1 \\\\ t \\\\ \\vdots \\\\ t^n\n",
    "         \\end{pmatrix}\n",
    "     \\end{align}"
   ]
  },
  {
   "cell_type": "markdown",
   "id": "00fc505e",
   "metadata": {},
   "source": [
    "1 Realice un programa que calcule el polinomio de ajuste de grado $n$ (con $n$ dada por el usuario) mediante el método de Ecuaciones normales.\n",
    "\n",
    "2. ¿Qué pasa cuando el valor de n crece?, ¿es mejor el ajuste?, ¿tiene\n",
    "sentido para el fenómeno real?"
   ]
  },
  {
   "cell_type": "code",
   "execution_count": 4,
   "id": "e4c33730",
   "metadata": {},
   "outputs": [],
   "source": [
    "#Datos dados. y_i es el número de individuos en el tiempo t_i.\n",
    "t = [0 ; 4; 7.5; 25; 31; 48.75; 52 ; 58.5; 72.7; 78; 95; 96; 108; 112; 133; 136.75; 143; 156.5; 166.7;181];\n",
    "y = [8; 6; 6; 7; 8; 10; 13; 18; 33; 38; 76; 78; 164; 175; 280; 300; 320; 405; 385; 450];"
   ]
  },
  {
   "cell_type": "code",
   "execution_count": 5,
   "id": "492fa4d1",
   "metadata": {},
   "outputs": [
    {
     "data": {
      "text/plain": [
       "PolyModel (generic function with 1 method)"
      ]
     },
     "execution_count": 5,
     "metadata": {},
     "output_type": "execute_result"
    }
   ],
   "source": [
    "#Esta función toma como argumentos un vector de parámetros c = (c_0,c_1,..., c_{n-1})^T y regresa la función polinomial\n",
    "# Poly(t) = c_0 + c_1 t+c_2 t^2+ ... + c_{n} t^n\n",
    "#function Poly(c,n,t)\n",
    "#    y = zeros(n+1)\n",
    "#    for i = 0:n\n",
    "#       y[i+1] = t^i \n",
    "#    end\n",
    "#    return c'*y\n",
    "#end\n",
    "\n",
    "#### Esta función toma como argumentos un número natural n,\n",
    "# un vector de tiempos t y un vector de población y (el elemento y_i es la cantidad de individuos en le tiempo t_i).\n",
    "# PolyModel(n,t,y) arroja una función Modeln(t) polinómica de grado n que aproxima a las observaciones (t_i,y_i),\n",
    "# es decir, Modeln(t_i) se parece a y_i\n",
    "function PolyModel(n,t,y)\n",
    "    #Número de observaciones\n",
    "    m = length(t) \n",
    "    \n",
    "    #Calculamos la matriz de diseño A. Esta es una matriz de  mx(n+1). La entrada A_{ij} = t_i^{j-1}\n",
    "    A = zeros(m,n+1);\n",
    "    for i = 1:m\n",
    "        for j = 1:n+1\n",
    "            A[i,j] = t[i]^(j-1)\n",
    "        end\n",
    "    end\n",
    "    \n",
    "    \n",
    "    #Buscamos la factorización de Cholesky de A^T A\n",
    "    (L,U) = FacChol(A'*A)\n",
    "\n",
    "    # Encontramos una solución w_0 a la ecuación lineal  Lw = A^Ty mediante la función SolFwd \n",
    "    #   (porque L es triangular inferior).\n",
    "    w0 = SolFwd(L,A'*y)\n",
    "\n",
    "    # Encontramos una solución c_0 a la ecuación lineal L^Tc = w_0 mediante la función SolBwd\n",
    "    # (porque L^T es triangular superior).\n",
    "    c0 = SolBwd(L',w0)\n",
    "    \n",
    "    #Aquí construimos la función polinomial PolyMod(x) = c0^T * (1,x, ... , x^n)^T\n",
    "    function PolyFun(x)\n",
    "        y = zeros(n+1)\n",
    "        for i = 1:n+1\n",
    "            y[i] = x^(i-1)\n",
    "        end\n",
    "        return c0'*y\n",
    "    end\n",
    "    \n",
    "    return(PolyFun)\n",
    "end"
   ]
  },
  {
   "cell_type": "code",
   "execution_count": 6,
   "id": "0c235afc",
   "metadata": {},
   "outputs": [
    {
     "data": {
      "text/plain": [
       "1.9208751879069884e76"
      ]
     },
     "execution_count": 6,
     "metadata": {},
     "output_type": "execute_result"
    }
   ],
   "source": [
    "n = 21\n",
    "#Número de observaciones\n",
    "    m = length(t) \n",
    "    \n",
    "    #Calculamos la matriz de diseño A. Esta es una matriz de  mx(n+1). La entrada A_{ij} = t_i^{j-1}\n",
    "    A = zeros(m,n+1);\n",
    "    for i = 1:m\n",
    "        for j = 1:n+1\n",
    "            A[i,j] = t[i]^(j-1)\n",
    "        end\n",
    "    end\n",
    "    \n",
    "cond(A'*A)"
   ]
  },
  {
   "cell_type": "markdown",
   "id": "58cf7f89",
   "metadata": {},
   "source": [
    "Lo siguiente es una prueba."
   ]
  },
  {
   "cell_type": "code",
   "execution_count": 7,
   "id": "de9f7cdc",
   "metadata": {},
   "outputs": [
    {
     "data": {
      "text/plain": [
       "(::var\"#PolyFun#3\"{Int64, Vector{Float64}}) (generic function with 1 method)"
      ]
     },
     "execution_count": 7,
     "metadata": {},
     "output_type": "execute_result"
    }
   ],
   "source": [
    "t2 = [ 1; 2; 3; 4]\n",
    "y2 = t2.*t2\n",
    "\n",
    "f = PolyModel(2,t2,y2)"
   ]
  },
  {
   "cell_type": "markdown",
   "id": "51ad8526",
   "metadata": {},
   "source": [
    "Usando la función PolyModel definida arriba, obtenemos un modelo \n",
    "$g = PolyModel(n,t,y)$. Ahora vamos a plotear $(t_i,y_i)$ y $(t_i,g(t_i) )$ para observar qué tan bien ajusta los datos la función $g$."
   ]
  },
  {
   "cell_type": "code",
   "execution_count": 8,
   "id": "6e7c5341",
   "metadata": {},
   "outputs": [
    {
     "data": {
      "image/svg+xml": [
       "<?xml version=\"1.0\" encoding=\"utf-8\"?>\n",
       "<svg xmlns=\"http://www.w3.org/2000/svg\" xmlns:xlink=\"http://www.w3.org/1999/xlink\" width=\"600\" height=\"400\" viewBox=\"0 0 2400 1600\">\n",
       "<defs>\n",
       "  <clipPath id=\"clip650\">\n",
       "    <rect x=\"0\" y=\"0\" width=\"2400\" height=\"1600\"/>\n",
       "  </clipPath>\n",
       "</defs>\n",
       "<path clip-path=\"url(#clip650)\" d=\"\n",
       "M0 1600 L2400 1600 L2400 0 L0 0  Z\n",
       "  \" fill=\"#ffffff\" fill-rule=\"evenodd\" fill-opacity=\"1\"/>\n",
       "<defs>\n",
       "  <clipPath id=\"clip651\">\n",
       "    <rect x=\"480\" y=\"0\" width=\"1681\" height=\"1600\"/>\n",
       "  </clipPath>\n",
       "</defs>\n",
       "<path clip-path=\"url(#clip650)\" d=\"\n",
       "M239.19 1486.45 L2352.76 1486.45 L2352.76 123.472 L239.19 123.472  Z\n",
       "  \" fill=\"#ffffff\" fill-rule=\"evenodd\" fill-opacity=\"1\"/>\n",
       "<defs>\n",
       "  <clipPath id=\"clip652\">\n",
       "    <rect x=\"239\" y=\"123\" width=\"2115\" height=\"1364\"/>\n",
       "  </clipPath>\n",
       "</defs>\n",
       "<polyline clip-path=\"url(#clip652)\" style=\"stroke:#000000; stroke-linecap:butt; stroke-linejoin:round; stroke-width:2; stroke-opacity:0.1; fill:none\" points=\"\n",
       "  299.008,1486.45 299.008,123.472 \n",
       "  \"/>\n",
       "<polyline clip-path=\"url(#clip652)\" style=\"stroke:#000000; stroke-linecap:butt; stroke-linejoin:round; stroke-width:2; stroke-opacity:0.1; fill:none\" points=\"\n",
       "  849.818,1486.45 849.818,123.472 \n",
       "  \"/>\n",
       "<polyline clip-path=\"url(#clip652)\" style=\"stroke:#000000; stroke-linecap:butt; stroke-linejoin:round; stroke-width:2; stroke-opacity:0.1; fill:none\" points=\"\n",
       "  1400.63,1486.45 1400.63,123.472 \n",
       "  \"/>\n",
       "<polyline clip-path=\"url(#clip652)\" style=\"stroke:#000000; stroke-linecap:butt; stroke-linejoin:round; stroke-width:2; stroke-opacity:0.1; fill:none\" points=\"\n",
       "  1951.44,1486.45 1951.44,123.472 \n",
       "  \"/>\n",
       "<polyline clip-path=\"url(#clip650)\" style=\"stroke:#000000; stroke-linecap:butt; stroke-linejoin:round; stroke-width:4; stroke-opacity:1; fill:none\" points=\"\n",
       "  239.19,1486.45 2352.76,1486.45 \n",
       "  \"/>\n",
       "<polyline clip-path=\"url(#clip650)\" style=\"stroke:#000000; stroke-linecap:butt; stroke-linejoin:round; stroke-width:4; stroke-opacity:1; fill:none\" points=\"\n",
       "  299.008,1486.45 299.008,1467.55 \n",
       "  \"/>\n",
       "<polyline clip-path=\"url(#clip650)\" style=\"stroke:#000000; stroke-linecap:butt; stroke-linejoin:round; stroke-width:4; stroke-opacity:1; fill:none\" points=\"\n",
       "  849.818,1486.45 849.818,1467.55 \n",
       "  \"/>\n",
       "<polyline clip-path=\"url(#clip650)\" style=\"stroke:#000000; stroke-linecap:butt; stroke-linejoin:round; stroke-width:4; stroke-opacity:1; fill:none\" points=\"\n",
       "  1400.63,1486.45 1400.63,1467.55 \n",
       "  \"/>\n",
       "<polyline clip-path=\"url(#clip650)\" style=\"stroke:#000000; stroke-linecap:butt; stroke-linejoin:round; stroke-width:4; stroke-opacity:1; fill:none\" points=\"\n",
       "  1951.44,1486.45 1951.44,1467.55 \n",
       "  \"/>\n",
       "<path clip-path=\"url(#clip650)\" d=\"M299.008 1515.64 Q295.397 1515.64 293.568 1519.2 Q291.763 1522.75 291.763 1529.87 Q291.763 1536.98 293.568 1540.55 Q295.397 1544.09 299.008 1544.09 Q302.643 1544.09 304.448 1540.55 Q306.277 1536.98 306.277 1529.87 Q306.277 1522.75 304.448 1519.2 Q302.643 1515.64 299.008 1515.64 M299.008 1511.93 Q304.818 1511.93 307.874 1516.54 Q310.953 1521.12 310.953 1529.87 Q310.953 1538.6 307.874 1543.21 Q304.818 1547.79 299.008 1547.79 Q293.198 1547.79 290.119 1543.21 Q287.064 1538.6 287.064 1529.87 Q287.064 1521.12 290.119 1516.54 Q293.198 1511.93 299.008 1511.93 Z\" fill=\"#000000\" fill-rule=\"evenodd\" fill-opacity=\"1\" /><path clip-path=\"url(#clip650)\" d=\"M824.517 1512.56 L842.873 1512.56 L842.873 1516.5 L828.799 1516.5 L828.799 1524.97 Q829.818 1524.62 830.836 1524.46 Q831.855 1524.27 832.873 1524.27 Q838.66 1524.27 842.04 1527.44 Q845.419 1530.62 845.419 1536.03 Q845.419 1541.61 841.947 1544.71 Q838.475 1547.79 832.156 1547.79 Q829.98 1547.79 827.711 1547.42 Q825.466 1547.05 823.058 1546.31 L823.058 1541.61 Q825.142 1542.74 827.364 1543.3 Q829.586 1543.86 832.063 1543.86 Q836.068 1543.86 838.406 1541.75 Q840.744 1539.64 840.744 1536.03 Q840.744 1532.42 838.406 1530.31 Q836.068 1528.21 832.063 1528.21 Q830.188 1528.21 828.313 1528.62 Q826.461 1529.04 824.517 1529.92 L824.517 1512.56 Z\" fill=\"#000000\" fill-rule=\"evenodd\" fill-opacity=\"1\" /><path clip-path=\"url(#clip650)\" d=\"M864.632 1515.64 Q861.021 1515.64 859.193 1519.2 Q857.387 1522.75 857.387 1529.87 Q857.387 1536.98 859.193 1540.55 Q861.021 1544.09 864.632 1544.09 Q868.267 1544.09 870.072 1540.55 Q871.901 1536.98 871.901 1529.87 Q871.901 1522.75 870.072 1519.2 Q868.267 1515.64 864.632 1515.64 M864.632 1511.93 Q870.442 1511.93 873.498 1516.54 Q876.577 1521.12 876.577 1529.87 Q876.577 1538.6 873.498 1543.21 Q870.442 1547.79 864.632 1547.79 Q858.822 1547.79 855.743 1543.21 Q852.688 1538.6 852.688 1529.87 Q852.688 1521.12 855.743 1516.54 Q858.822 1511.93 864.632 1511.93 Z\" fill=\"#000000\" fill-rule=\"evenodd\" fill-opacity=\"1\" /><path clip-path=\"url(#clip650)\" d=\"M1360.23 1543.18 L1367.87 1543.18 L1367.87 1516.82 L1359.56 1518.49 L1359.56 1514.23 L1367.83 1512.56 L1372.5 1512.56 L1372.5 1543.18 L1380.14 1543.18 L1380.14 1547.12 L1360.23 1547.12 L1360.23 1543.18 Z\" fill=\"#000000\" fill-rule=\"evenodd\" fill-opacity=\"1\" /><path clip-path=\"url(#clip650)\" d=\"M1399.59 1515.64 Q1395.97 1515.64 1394.15 1519.2 Q1392.34 1522.75 1392.34 1529.87 Q1392.34 1536.98 1394.15 1540.55 Q1395.97 1544.09 1399.59 1544.09 Q1403.22 1544.09 1405.03 1540.55 Q1406.85 1536.98 1406.85 1529.87 Q1406.85 1522.75 1405.03 1519.2 Q1403.22 1515.64 1399.59 1515.64 M1399.59 1511.93 Q1405.4 1511.93 1408.45 1516.54 Q1411.53 1521.12 1411.53 1529.87 Q1411.53 1538.6 1408.45 1543.21 Q1405.4 1547.79 1399.59 1547.79 Q1393.78 1547.79 1390.7 1543.21 Q1387.64 1538.6 1387.64 1529.87 Q1387.64 1521.12 1390.7 1516.54 Q1393.78 1511.93 1399.59 1511.93 Z\" fill=\"#000000\" fill-rule=\"evenodd\" fill-opacity=\"1\" /><path clip-path=\"url(#clip650)\" d=\"M1429.75 1515.64 Q1426.14 1515.64 1424.31 1519.2 Q1422.5 1522.75 1422.5 1529.87 Q1422.5 1536.98 1424.31 1540.55 Q1426.14 1544.09 1429.75 1544.09 Q1433.38 1544.09 1435.19 1540.55 Q1437.02 1536.98 1437.02 1529.87 Q1437.02 1522.75 1435.19 1519.2 Q1433.38 1515.64 1429.75 1515.64 M1429.75 1511.93 Q1435.56 1511.93 1438.61 1516.54 Q1441.69 1521.12 1441.69 1529.87 Q1441.69 1538.6 1438.61 1543.21 Q1435.56 1547.79 1429.75 1547.79 Q1423.94 1547.79 1420.86 1543.21 Q1417.8 1538.6 1417.8 1529.87 Q1417.8 1521.12 1420.86 1516.54 Q1423.94 1511.93 1429.75 1511.93 Z\" fill=\"#000000\" fill-rule=\"evenodd\" fill-opacity=\"1\" /><path clip-path=\"url(#clip650)\" d=\"M1911.04 1543.18 L1918.68 1543.18 L1918.68 1516.82 L1910.37 1518.49 L1910.37 1514.23 L1918.64 1512.56 L1923.31 1512.56 L1923.31 1543.18 L1930.95 1543.18 L1930.95 1547.12 L1911.04 1547.12 L1911.04 1543.18 Z\" fill=\"#000000\" fill-rule=\"evenodd\" fill-opacity=\"1\" /><path clip-path=\"url(#clip650)\" d=\"M1940.44 1512.56 L1958.8 1512.56 L1958.8 1516.5 L1944.72 1516.5 L1944.72 1524.97 Q1945.74 1524.62 1946.76 1524.46 Q1947.78 1524.27 1948.8 1524.27 Q1954.58 1524.27 1957.96 1527.44 Q1961.34 1530.62 1961.34 1536.03 Q1961.34 1541.61 1957.87 1544.71 Q1954.4 1547.79 1948.08 1547.79 Q1945.9 1547.79 1943.64 1547.42 Q1941.39 1547.05 1938.98 1546.31 L1938.98 1541.61 Q1941.07 1542.74 1943.29 1543.3 Q1945.51 1543.86 1947.99 1543.86 Q1951.99 1543.86 1954.33 1541.75 Q1956.67 1539.64 1956.67 1536.03 Q1956.67 1532.42 1954.33 1530.31 Q1951.99 1528.21 1947.99 1528.21 Q1946.11 1528.21 1944.24 1528.62 Q1942.39 1529.04 1940.44 1529.92 L1940.44 1512.56 Z\" fill=\"#000000\" fill-rule=\"evenodd\" fill-opacity=\"1\" /><path clip-path=\"url(#clip650)\" d=\"M1980.56 1515.64 Q1976.95 1515.64 1975.12 1519.2 Q1973.31 1522.75 1973.31 1529.87 Q1973.31 1536.98 1975.12 1540.55 Q1976.95 1544.09 1980.56 1544.09 Q1984.19 1544.09 1986 1540.55 Q1987.82 1536.98 1987.82 1529.87 Q1987.82 1522.75 1986 1519.2 Q1984.19 1515.64 1980.56 1515.64 M1980.56 1511.93 Q1986.37 1511.93 1989.42 1516.54 Q1992.5 1521.12 1992.5 1529.87 Q1992.5 1538.6 1989.42 1543.21 Q1986.37 1547.79 1980.56 1547.79 Q1974.75 1547.79 1971.67 1543.21 Q1968.61 1538.6 1968.61 1529.87 Q1968.61 1521.12 1971.67 1516.54 Q1974.75 1511.93 1980.56 1511.93 Z\" fill=\"#000000\" fill-rule=\"evenodd\" fill-opacity=\"1\" /><polyline clip-path=\"url(#clip652)\" style=\"stroke:#000000; stroke-linecap:butt; stroke-linejoin:round; stroke-width:2; stroke-opacity:0.1; fill:none\" points=\"\n",
       "  239.19,1437.8 2352.76,1437.8 \n",
       "  \"/>\n",
       "<polyline clip-path=\"url(#clip652)\" style=\"stroke:#000000; stroke-linecap:butt; stroke-linejoin:round; stroke-width:2; stroke-opacity:0.1; fill:none\" points=\"\n",
       "  239.19,1171.35 2352.76,1171.35 \n",
       "  \"/>\n",
       "<polyline clip-path=\"url(#clip652)\" style=\"stroke:#000000; stroke-linecap:butt; stroke-linejoin:round; stroke-width:2; stroke-opacity:0.1; fill:none\" points=\"\n",
       "  239.19,904.897 2352.76,904.897 \n",
       "  \"/>\n",
       "<polyline clip-path=\"url(#clip652)\" style=\"stroke:#000000; stroke-linecap:butt; stroke-linejoin:round; stroke-width:2; stroke-opacity:0.1; fill:none\" points=\"\n",
       "  239.19,638.448 2352.76,638.448 \n",
       "  \"/>\n",
       "<polyline clip-path=\"url(#clip652)\" style=\"stroke:#000000; stroke-linecap:butt; stroke-linejoin:round; stroke-width:2; stroke-opacity:0.1; fill:none\" points=\"\n",
       "  239.19,372 2352.76,372 \n",
       "  \"/>\n",
       "<polyline clip-path=\"url(#clip650)\" style=\"stroke:#000000; stroke-linecap:butt; stroke-linejoin:round; stroke-width:4; stroke-opacity:1; fill:none\" points=\"\n",
       "  239.19,1486.45 239.19,123.472 \n",
       "  \"/>\n",
       "<polyline clip-path=\"url(#clip650)\" style=\"stroke:#000000; stroke-linecap:butt; stroke-linejoin:round; stroke-width:4; stroke-opacity:1; fill:none\" points=\"\n",
       "  239.19,1437.8 258.088,1437.8 \n",
       "  \"/>\n",
       "<polyline clip-path=\"url(#clip650)\" style=\"stroke:#000000; stroke-linecap:butt; stroke-linejoin:round; stroke-width:4; stroke-opacity:1; fill:none\" points=\"\n",
       "  239.19,1171.35 258.088,1171.35 \n",
       "  \"/>\n",
       "<polyline clip-path=\"url(#clip650)\" style=\"stroke:#000000; stroke-linecap:butt; stroke-linejoin:round; stroke-width:4; stroke-opacity:1; fill:none\" points=\"\n",
       "  239.19,904.897 258.088,904.897 \n",
       "  \"/>\n",
       "<polyline clip-path=\"url(#clip650)\" style=\"stroke:#000000; stroke-linecap:butt; stroke-linejoin:round; stroke-width:4; stroke-opacity:1; fill:none\" points=\"\n",
       "  239.19,638.448 258.088,638.448 \n",
       "  \"/>\n",
       "<polyline clip-path=\"url(#clip650)\" style=\"stroke:#000000; stroke-linecap:butt; stroke-linejoin:round; stroke-width:4; stroke-opacity:1; fill:none\" points=\"\n",
       "  239.19,372 258.088,372 \n",
       "  \"/>\n",
       "<path clip-path=\"url(#clip650)\" d=\"M50.9921 1438.25 L80.6679 1438.25 L80.6679 1442.18 L50.9921 1442.18 L50.9921 1438.25 Z\" fill=\"#000000\" fill-rule=\"evenodd\" fill-opacity=\"1\" /><path clip-path=\"url(#clip650)\" d=\"M91.5706 1451.14 L99.2095 1451.14 L99.2095 1424.77 L90.8993 1426.44 L90.8993 1422.18 L99.1632 1420.52 L103.839 1420.52 L103.839 1451.14 L111.478 1451.14 L111.478 1455.08 L91.5706 1455.08 L91.5706 1451.14 Z\" fill=\"#000000\" fill-rule=\"evenodd\" fill-opacity=\"1\" /><path clip-path=\"url(#clip650)\" d=\"M130.922 1423.59 Q127.311 1423.59 125.482 1427.16 Q123.677 1430.7 123.677 1437.83 Q123.677 1444.94 125.482 1448.5 Q127.311 1452.04 130.922 1452.04 Q134.556 1452.04 136.362 1448.5 Q138.191 1444.94 138.191 1437.83 Q138.191 1430.7 136.362 1427.16 Q134.556 1423.59 130.922 1423.59 M130.922 1419.89 Q136.732 1419.89 139.788 1424.5 Q142.867 1429.08 142.867 1437.83 Q142.867 1446.56 139.788 1451.16 Q136.732 1455.75 130.922 1455.75 Q125.112 1455.75 122.033 1451.16 Q118.978 1446.56 118.978 1437.83 Q118.978 1429.08 122.033 1424.5 Q125.112 1419.89 130.922 1419.89 Z\" fill=\"#000000\" fill-rule=\"evenodd\" fill-opacity=\"1\" /><path clip-path=\"url(#clip650)\" d=\"M161.084 1423.59 Q157.473 1423.59 155.644 1427.16 Q153.839 1430.7 153.839 1437.83 Q153.839 1444.94 155.644 1448.5 Q157.473 1452.04 161.084 1452.04 Q164.718 1452.04 166.524 1448.5 Q168.353 1444.94 168.353 1437.83 Q168.353 1430.7 166.524 1427.16 Q164.718 1423.59 161.084 1423.59 M161.084 1419.89 Q166.894 1419.89 169.95 1424.5 Q173.029 1429.08 173.029 1437.83 Q173.029 1446.56 169.95 1451.16 Q166.894 1455.75 161.084 1455.75 Q155.274 1455.75 152.195 1451.16 Q149.14 1446.56 149.14 1437.83 Q149.14 1429.08 152.195 1424.5 Q155.274 1419.89 161.084 1419.89 Z\" fill=\"#000000\" fill-rule=\"evenodd\" fill-opacity=\"1\" /><path clip-path=\"url(#clip650)\" d=\"M191.246 1423.59 Q187.635 1423.59 185.806 1427.16 Q184.001 1430.7 184.001 1437.83 Q184.001 1444.94 185.806 1448.5 Q187.635 1452.04 191.246 1452.04 Q194.88 1452.04 196.686 1448.5 Q198.514 1444.94 198.514 1437.83 Q198.514 1430.7 196.686 1427.16 Q194.88 1423.59 191.246 1423.59 M191.246 1419.89 Q197.056 1419.89 200.112 1424.5 Q203.19 1429.08 203.19 1437.83 Q203.19 1446.56 200.112 1451.16 Q197.056 1455.75 191.246 1455.75 Q185.436 1455.75 182.357 1451.16 Q179.302 1446.56 179.302 1437.83 Q179.302 1429.08 182.357 1424.5 Q185.436 1419.89 191.246 1419.89 Z\" fill=\"#000000\" fill-rule=\"evenodd\" fill-opacity=\"1\" /><path clip-path=\"url(#clip650)\" d=\"M81.154 1171.8 L110.83 1171.8 L110.83 1175.73 L81.154 1175.73 L81.154 1171.8 Z\" fill=\"#000000\" fill-rule=\"evenodd\" fill-opacity=\"1\" /><path clip-path=\"url(#clip650)\" d=\"M120.969 1154.07 L139.325 1154.07 L139.325 1158 L125.251 1158 L125.251 1166.47 Q126.27 1166.13 127.288 1165.96 Q128.307 1165.78 129.325 1165.78 Q135.112 1165.78 138.492 1168.95 Q141.871 1172.12 141.871 1177.54 Q141.871 1183.12 138.399 1186.22 Q134.927 1189.3 128.607 1189.3 Q126.432 1189.3 124.163 1188.93 Q121.918 1188.56 119.51 1187.82 L119.51 1183.12 Q121.594 1184.25 123.816 1184.81 Q126.038 1185.36 128.515 1185.36 Q132.519 1185.36 134.857 1183.26 Q137.195 1181.15 137.195 1177.54 Q137.195 1173.93 134.857 1171.82 Q132.519 1169.71 128.515 1169.71 Q126.64 1169.71 124.765 1170.13 Q122.913 1170.55 120.969 1171.43 L120.969 1154.07 Z\" fill=\"#000000\" fill-rule=\"evenodd\" fill-opacity=\"1\" /><path clip-path=\"url(#clip650)\" d=\"M161.084 1157.15 Q157.473 1157.15 155.644 1160.71 Q153.839 1164.25 153.839 1171.38 Q153.839 1178.49 155.644 1182.05 Q157.473 1185.59 161.084 1185.59 Q164.718 1185.59 166.524 1182.05 Q168.353 1178.49 168.353 1171.38 Q168.353 1164.25 166.524 1160.71 Q164.718 1157.15 161.084 1157.15 M161.084 1153.44 Q166.894 1153.44 169.95 1158.05 Q173.029 1162.63 173.029 1171.38 Q173.029 1180.11 169.95 1184.71 Q166.894 1189.3 161.084 1189.3 Q155.274 1189.3 152.195 1184.71 Q149.14 1180.11 149.14 1171.38 Q149.14 1162.63 152.195 1158.05 Q155.274 1153.44 161.084 1153.44 Z\" fill=\"#000000\" fill-rule=\"evenodd\" fill-opacity=\"1\" /><path clip-path=\"url(#clip650)\" d=\"M191.246 1157.15 Q187.635 1157.15 185.806 1160.71 Q184.001 1164.25 184.001 1171.38 Q184.001 1178.49 185.806 1182.05 Q187.635 1185.59 191.246 1185.59 Q194.88 1185.59 196.686 1182.05 Q198.514 1178.49 198.514 1171.38 Q198.514 1164.25 196.686 1160.71 Q194.88 1157.15 191.246 1157.15 M191.246 1153.44 Q197.056 1153.44 200.112 1158.05 Q203.19 1162.63 203.19 1171.38 Q203.19 1180.11 200.112 1184.71 Q197.056 1189.3 191.246 1189.3 Q185.436 1189.3 182.357 1184.71 Q179.302 1180.11 179.302 1171.38 Q179.302 1162.63 182.357 1158.05 Q185.436 1153.44 191.246 1153.44 Z\" fill=\"#000000\" fill-rule=\"evenodd\" fill-opacity=\"1\" /><path clip-path=\"url(#clip650)\" d=\"M191.246 890.696 Q187.635 890.696 185.806 894.261 Q184.001 897.803 184.001 904.932 Q184.001 912.039 185.806 915.603 Q187.635 919.145 191.246 919.145 Q194.88 919.145 196.686 915.603 Q198.514 912.039 198.514 904.932 Q198.514 897.803 196.686 894.261 Q194.88 890.696 191.246 890.696 M191.246 886.992 Q197.056 886.992 200.112 891.599 Q203.19 896.182 203.19 904.932 Q203.19 913.659 200.112 918.265 Q197.056 922.849 191.246 922.849 Q185.436 922.849 182.357 918.265 Q179.302 913.659 179.302 904.932 Q179.302 896.182 182.357 891.599 Q185.436 886.992 191.246 886.992 Z\" fill=\"#000000\" fill-rule=\"evenodd\" fill-opacity=\"1\" /><path clip-path=\"url(#clip650)\" d=\"M120.969 621.168 L139.325 621.168 L139.325 625.104 L125.251 625.104 L125.251 633.576 Q126.27 633.229 127.288 633.067 Q128.307 632.881 129.325 632.881 Q135.112 632.881 138.492 636.053 Q141.871 639.224 141.871 644.641 Q141.871 650.219 138.399 653.321 Q134.927 656.4 128.607 656.4 Q126.432 656.4 124.163 656.029 Q121.918 655.659 119.51 654.918 L119.51 650.219 Q121.594 651.353 123.816 651.909 Q126.038 652.465 128.515 652.465 Q132.519 652.465 134.857 650.358 Q137.195 648.252 137.195 644.641 Q137.195 641.029 134.857 638.923 Q132.519 636.817 128.515 636.817 Q126.64 636.817 124.765 637.233 Q122.913 637.65 120.969 638.529 L120.969 621.168 Z\" fill=\"#000000\" fill-rule=\"evenodd\" fill-opacity=\"1\" /><path clip-path=\"url(#clip650)\" d=\"M161.084 624.247 Q157.473 624.247 155.644 627.812 Q153.839 631.354 153.839 638.483 Q153.839 645.59 155.644 649.154 Q157.473 652.696 161.084 652.696 Q164.718 652.696 166.524 649.154 Q168.353 645.59 168.353 638.483 Q168.353 631.354 166.524 627.812 Q164.718 624.247 161.084 624.247 M161.084 620.543 Q166.894 620.543 169.95 625.15 Q173.029 629.733 173.029 638.483 Q173.029 647.21 169.95 651.816 Q166.894 656.4 161.084 656.4 Q155.274 656.4 152.195 651.816 Q149.14 647.21 149.14 638.483 Q149.14 629.733 152.195 625.15 Q155.274 620.543 161.084 620.543 Z\" fill=\"#000000\" fill-rule=\"evenodd\" fill-opacity=\"1\" /><path clip-path=\"url(#clip650)\" d=\"M191.246 624.247 Q187.635 624.247 185.806 627.812 Q184.001 631.354 184.001 638.483 Q184.001 645.59 185.806 649.154 Q187.635 652.696 191.246 652.696 Q194.88 652.696 196.686 649.154 Q198.514 645.59 198.514 638.483 Q198.514 631.354 196.686 627.812 Q194.88 624.247 191.246 624.247 M191.246 620.543 Q197.056 620.543 200.112 625.15 Q203.19 629.733 203.19 638.483 Q203.19 647.21 200.112 651.816 Q197.056 656.4 191.246 656.4 Q185.436 656.4 182.357 651.816 Q179.302 647.21 179.302 638.483 Q179.302 629.733 182.357 625.15 Q185.436 620.543 191.246 620.543 Z\" fill=\"#000000\" fill-rule=\"evenodd\" fill-opacity=\"1\" /><path clip-path=\"url(#clip650)\" d=\"M91.5706 385.344 L99.2095 385.344 L99.2095 358.979 L90.8993 360.645 L90.8993 356.386 L99.1632 354.72 L103.839 354.72 L103.839 385.344 L111.478 385.344 L111.478 389.28 L91.5706 389.28 L91.5706 385.344 Z\" fill=\"#000000\" fill-rule=\"evenodd\" fill-opacity=\"1\" /><path clip-path=\"url(#clip650)\" d=\"M130.922 357.798 Q127.311 357.798 125.482 361.363 Q123.677 364.905 123.677 372.034 Q123.677 379.141 125.482 382.705 Q127.311 386.247 130.922 386.247 Q134.556 386.247 136.362 382.705 Q138.191 379.141 138.191 372.034 Q138.191 364.905 136.362 361.363 Q134.556 357.798 130.922 357.798 M130.922 354.095 Q136.732 354.095 139.788 358.701 Q142.867 363.284 142.867 372.034 Q142.867 380.761 139.788 385.368 Q136.732 389.951 130.922 389.951 Q125.112 389.951 122.033 385.368 Q118.978 380.761 118.978 372.034 Q118.978 363.284 122.033 358.701 Q125.112 354.095 130.922 354.095 Z\" fill=\"#000000\" fill-rule=\"evenodd\" fill-opacity=\"1\" /><path clip-path=\"url(#clip650)\" d=\"M161.084 357.798 Q157.473 357.798 155.644 361.363 Q153.839 364.905 153.839 372.034 Q153.839 379.141 155.644 382.705 Q157.473 386.247 161.084 386.247 Q164.718 386.247 166.524 382.705 Q168.353 379.141 168.353 372.034 Q168.353 364.905 166.524 361.363 Q164.718 357.798 161.084 357.798 M161.084 354.095 Q166.894 354.095 169.95 358.701 Q173.029 363.284 173.029 372.034 Q173.029 380.761 169.95 385.368 Q166.894 389.951 161.084 389.951 Q155.274 389.951 152.195 385.368 Q149.14 380.761 149.14 372.034 Q149.14 363.284 152.195 358.701 Q155.274 354.095 161.084 354.095 Z\" fill=\"#000000\" fill-rule=\"evenodd\" fill-opacity=\"1\" /><path clip-path=\"url(#clip650)\" d=\"M191.246 357.798 Q187.635 357.798 185.806 361.363 Q184.001 364.905 184.001 372.034 Q184.001 379.141 185.806 382.705 Q187.635 386.247 191.246 386.247 Q194.88 386.247 196.686 382.705 Q198.514 379.141 198.514 372.034 Q198.514 364.905 196.686 361.363 Q194.88 357.798 191.246 357.798 M191.246 354.095 Q197.056 354.095 200.112 358.701 Q203.19 363.284 203.19 372.034 Q203.19 380.761 200.112 385.368 Q197.056 389.951 191.246 389.951 Q185.436 389.951 182.357 385.368 Q179.302 380.761 179.302 372.034 Q179.302 363.284 182.357 358.701 Q185.436 354.095 191.246 354.095 Z\" fill=\"#000000\" fill-rule=\"evenodd\" fill-opacity=\"1\" /><path clip-path=\"url(#clip650)\" d=\"M1251.84 65.6895 L1265.21 65.6895 L1265.21 19.5497 L1250.66 22.4663 L1250.66 15.0127 L1265.13 12.096 L1273.31 12.096 L1273.31 65.6895 L1286.68 65.6895 L1286.68 72.576 L1251.84 72.576 L1251.84 65.6895 Z\" fill=\"#000000\" fill-rule=\"evenodd\" fill-opacity=\"1\" /><path clip-path=\"url(#clip650)\" d=\"M1303.45 71.3202 L1303.45 63.8666 Q1306.53 65.3249 1309.69 66.0946 Q1312.85 66.8642 1315.88 66.8642 Q1323.99 66.8642 1328.24 61.436 Q1332.53 55.9673 1333.14 44.8678 Q1330.79 48.3516 1327.19 50.215 Q1323.58 52.0784 1319.21 52.0784 Q1310.13 52.0784 1304.82 46.6097 Q1299.56 41.1005 1299.56 31.5808 Q1299.56 22.2638 1305.07 16.633 Q1310.58 11.0023 1319.73 11.0023 Q1330.22 11.0023 1335.73 19.0636 Q1341.28 27.0843 1341.28 42.3968 Q1341.28 56.6965 1334.48 65.2439 Q1327.71 73.7508 1316.25 73.7508 Q1313.17 73.7508 1310.01 73.1431 Q1306.85 72.5355 1303.45 71.3202 M1319.73 45.678 Q1325.24 45.678 1328.44 41.9107 Q1331.68 38.1433 1331.68 31.5808 Q1331.68 25.0589 1328.44 21.2916 Q1325.24 17.4837 1319.73 17.4837 Q1314.22 17.4837 1310.98 21.2916 Q1307.78 25.0589 1307.78 31.5808 Q1307.78 38.1433 1310.98 41.9107 Q1314.22 45.678 1319.73 45.678 Z\" fill=\"#000000\" fill-rule=\"evenodd\" fill-opacity=\"1\" /><polyline clip-path=\"url(#clip652)\" style=\"stroke:#009af9; stroke-linecap:butt; stroke-linejoin:round; stroke-width:4; stroke-opacity:1; fill:none\" points=\"\n",
       "  299.008,1138.52 343.073,162.047 381.63,1447.87 574.413,1201.21 640.51,350.302 836.047,994.916 871.85,1104.49 943.455,1063.84 1099.89,597.696 1158.27,622.38 \n",
       "  1345.55,1127.86 1356.56,1132.93 1488.76,775.607 1532.82,566.16 1764.16,628.764 1805.47,806.655 1874.32,963.752 2023.04,498.538 2135.41,774.298 2292.94,658.658 \n",
       "  \n",
       "  \"/>\n",
       "<polyline clip-path=\"url(#clip652)\" style=\"stroke:#e26f46; stroke-linecap:butt; stroke-linejoin:round; stroke-width:4; stroke-opacity:1; fill:none\" points=\"\n",
       "  299.008,900.634 343.073,901.7 381.63,901.7 574.413,901.167 640.51,900.634 836.047,899.568 871.85,897.97 943.455,895.305 1099.89,887.312 1158.27,884.647 \n",
       "  1345.55,864.397 1356.56,863.331 1488.76,817.502 1532.82,811.64 1764.16,755.686 1805.47,745.028 1874.32,734.37 2023.04,689.074 2135.41,699.732 2292.94,665.093 \n",
       "  \n",
       "  \"/>\n",
       "<path clip-path=\"url(#clip650)\" d=\"\n",
       "M1659.13 324.425 L2282.3 324.425 L2282.3 168.905 L1659.13 168.905  Z\n",
       "  \" fill=\"#ffffff\" fill-rule=\"evenodd\" fill-opacity=\"1\"/>\n",
       "<polyline clip-path=\"url(#clip650)\" style=\"stroke:#000000; stroke-linecap:butt; stroke-linejoin:round; stroke-width:4; stroke-opacity:1; fill:none\" points=\"\n",
       "  1659.13,324.425 2282.3,324.425 2282.3,168.905 1659.13,168.905 1659.13,324.425 \n",
       "  \"/>\n",
       "<polyline clip-path=\"url(#clip650)\" style=\"stroke:#009af9; stroke-linecap:butt; stroke-linejoin:round; stroke-width:4; stroke-opacity:1; fill:none\" points=\"\n",
       "  1682.62,220.745 1823.52,220.745 \n",
       "  \"/>\n",
       "<path clip-path=\"url(#clip650)\" d=\"M1847 203.465 L1853.97 203.465 L1862.79 226.983 L1871.66 203.465 L1878.62 203.465 L1878.62 238.025 L1874.06 238.025 L1874.06 207.678 L1865.15 231.381 L1860.45 231.381 L1851.54 207.678 L1851.54 238.025 L1847 238.025 L1847 203.465 Z\" fill=\"#000000\" fill-rule=\"evenodd\" fill-opacity=\"1\" /><path clip-path=\"url(#clip650)\" d=\"M1897.77 215.085 Q1894.34 215.085 1892.35 217.77 Q1890.36 220.432 1890.36 225.085 Q1890.36 229.738 1892.33 232.423 Q1894.32 235.085 1897.77 235.085 Q1901.17 235.085 1903.16 232.4 Q1905.15 229.715 1905.15 225.085 Q1905.15 220.478 1903.16 217.793 Q1901.17 215.085 1897.77 215.085 M1897.77 211.474 Q1903.32 211.474 1906.49 215.085 Q1909.67 218.696 1909.67 225.085 Q1909.67 231.451 1906.49 235.085 Q1903.32 238.696 1897.77 238.696 Q1892.19 238.696 1889.02 235.085 Q1885.87 231.451 1885.87 225.085 Q1885.87 218.696 1889.02 215.085 Q1892.19 211.474 1897.77 211.474 Z\" fill=\"#000000\" fill-rule=\"evenodd\" fill-opacity=\"1\" /><path clip-path=\"url(#clip650)\" d=\"M1933.79 216.034 L1933.79 202.006 L1938.05 202.006 L1938.05 238.025 L1933.79 238.025 L1933.79 234.136 Q1932.44 236.451 1930.38 237.585 Q1928.35 238.696 1925.48 238.696 Q1920.78 238.696 1917.81 234.946 Q1914.87 231.196 1914.87 225.085 Q1914.87 218.974 1917.81 215.224 Q1920.78 211.474 1925.48 211.474 Q1928.35 211.474 1930.38 212.608 Q1932.44 213.719 1933.79 216.034 M1919.27 225.085 Q1919.27 229.784 1921.19 232.469 Q1923.14 235.131 1926.52 235.131 Q1929.9 235.131 1931.84 232.469 Q1933.79 229.784 1933.79 225.085 Q1933.79 220.386 1931.84 217.724 Q1929.9 215.039 1926.52 215.039 Q1923.14 215.039 1921.19 217.724 Q1919.27 220.386 1919.27 225.085 Z\" fill=\"#000000\" fill-rule=\"evenodd\" fill-opacity=\"1\" /><path clip-path=\"url(#clip650)\" d=\"M1968.99 223.997 L1968.99 226.08 L1949.41 226.08 Q1949.69 230.478 1952.05 232.793 Q1954.43 235.085 1958.67 235.085 Q1961.12 235.085 1963.42 234.483 Q1965.73 233.881 1968 232.677 L1968 236.705 Q1965.71 237.677 1963.3 238.187 Q1960.89 238.696 1958.42 238.696 Q1952.21 238.696 1948.58 235.085 Q1944.97 231.474 1944.97 225.316 Q1944.97 218.951 1948.39 215.224 Q1951.84 211.474 1957.68 211.474 Q1962.91 211.474 1965.94 214.853 Q1968.99 218.21 1968.99 223.997 M1964.74 222.747 Q1964.69 219.252 1962.77 217.168 Q1960.87 215.085 1957.72 215.085 Q1954.16 215.085 1952 217.099 Q1949.87 219.113 1949.55 222.77 L1964.74 222.747 Z\" fill=\"#000000\" fill-rule=\"evenodd\" fill-opacity=\"1\" /><path clip-path=\"url(#clip650)\" d=\"M1975.99 202.006 L1980.24 202.006 L1980.24 238.025 L1975.99 238.025 L1975.99 202.006 Z\" fill=\"#000000\" fill-rule=\"evenodd\" fill-opacity=\"1\" /><path clip-path=\"url(#clip650)\" d=\"M1999.2 215.085 Q1995.78 215.085 1993.79 217.77 Q1991.8 220.432 1991.8 225.085 Q1991.8 229.738 1993.76 232.423 Q1995.75 235.085 1999.2 235.085 Q2002.61 235.085 2004.6 232.4 Q2006.59 229.715 2006.59 225.085 Q2006.59 220.478 2004.6 217.793 Q2002.61 215.085 1999.2 215.085 M1999.2 211.474 Q2004.76 211.474 2007.93 215.085 Q2011.1 218.696 2011.1 225.085 Q2011.1 231.451 2007.93 235.085 Q2004.76 238.696 1999.2 238.696 Q1993.62 238.696 1990.45 235.085 Q1987.3 231.451 1987.3 225.085 Q1987.3 218.696 1990.45 215.085 Q1993.62 211.474 1999.2 211.474 Z\" fill=\"#000000\" fill-rule=\"evenodd\" fill-opacity=\"1\" /><path clip-path=\"url(#clip650)\" d=\"M2043.28 215.085 Q2039.85 215.085 2037.86 217.77 Q2035.87 220.432 2035.87 225.085 Q2035.87 229.738 2037.84 232.423 Q2039.83 235.085 2043.28 235.085 Q2046.68 235.085 2048.67 232.4 Q2050.66 229.715 2050.66 225.085 Q2050.66 220.478 2048.67 217.793 Q2046.68 215.085 2043.28 215.085 M2043.28 211.474 Q2048.83 211.474 2052 215.085 Q2055.17 218.696 2055.17 225.085 Q2055.17 231.451 2052 235.085 Q2048.83 238.696 2043.28 238.696 Q2037.7 238.696 2034.53 235.085 Q2031.38 231.451 2031.38 225.085 Q2031.38 218.696 2034.53 215.085 Q2037.7 211.474 2043.28 211.474 Z\" fill=\"#000000\" fill-rule=\"evenodd\" fill-opacity=\"1\" /><path clip-path=\"url(#clip650)\" d=\"M2080.85 225.085 Q2080.85 220.386 2078.9 217.724 Q2076.98 215.039 2073.6 215.039 Q2070.22 215.039 2068.28 217.724 Q2066.36 220.386 2066.36 225.085 Q2066.36 229.784 2068.28 232.469 Q2070.22 235.131 2073.6 235.131 Q2076.98 235.131 2078.9 232.469 Q2080.85 229.784 2080.85 225.085 M2066.36 216.034 Q2067.7 213.719 2069.73 212.608 Q2071.79 211.474 2074.64 211.474 Q2079.36 211.474 2082.3 215.224 Q2085.27 218.974 2085.27 225.085 Q2085.27 231.196 2082.3 234.946 Q2079.36 238.696 2074.64 238.696 Q2071.79 238.696 2069.73 237.585 Q2067.7 236.451 2066.36 234.136 L2066.36 238.025 L2062.07 238.025 L2062.07 202.006 L2066.36 202.006 L2066.36 216.034 Z\" fill=\"#000000\" fill-rule=\"evenodd\" fill-opacity=\"1\" /><path clip-path=\"url(#clip650)\" d=\"M2096.54 204.738 L2096.54 212.099 L2105.31 212.099 L2105.31 215.409 L2096.54 215.409 L2096.54 229.483 Q2096.54 232.654 2097.4 233.557 Q2098.28 234.46 2100.94 234.46 L2105.31 234.46 L2105.31 238.025 L2100.94 238.025 Q2096.01 238.025 2094.13 236.196 Q2092.26 234.344 2092.26 229.483 L2092.26 215.409 L2089.13 215.409 L2089.13 212.099 L2092.26 212.099 L2092.26 204.738 L2096.54 204.738 Z\" fill=\"#000000\" fill-rule=\"evenodd\" fill-opacity=\"1\" /><path clip-path=\"url(#clip650)\" d=\"M2133.09 223.997 L2133.09 226.08 L2113.51 226.08 Q2113.79 230.478 2116.15 232.793 Q2118.53 235.085 2122.77 235.085 Q2125.22 235.085 2127.51 234.483 Q2129.83 233.881 2132.1 232.677 L2132.1 236.705 Q2129.8 237.677 2127.4 238.187 Q2124.99 238.696 2122.51 238.696 Q2116.31 238.696 2112.67 235.085 Q2109.06 231.474 2109.06 225.316 Q2109.06 218.951 2112.49 215.224 Q2115.94 211.474 2121.77 211.474 Q2127 211.474 2130.04 214.853 Q2133.09 218.21 2133.09 223.997 M2128.83 222.747 Q2128.79 219.252 2126.86 217.168 Q2124.97 215.085 2121.82 215.085 Q2118.25 215.085 2116.1 217.099 Q2113.97 219.113 2113.65 222.77 L2128.83 222.747 Z\" fill=\"#000000\" fill-rule=\"evenodd\" fill-opacity=\"1\" /><path clip-path=\"url(#clip650)\" d=\"M2161.63 222.377 L2161.63 238.025 L2157.37 238.025 L2157.37 222.515 Q2157.37 218.835 2155.94 217.006 Q2154.5 215.178 2151.63 215.178 Q2148.18 215.178 2146.19 217.377 Q2144.2 219.576 2144.2 223.372 L2144.2 238.025 L2139.92 238.025 L2139.92 212.099 L2144.2 212.099 L2144.2 216.127 Q2145.73 213.789 2147.79 212.631 Q2149.87 211.474 2152.58 211.474 Q2157.05 211.474 2159.34 214.252 Q2161.63 217.006 2161.63 222.377 Z\" fill=\"#000000\" fill-rule=\"evenodd\" fill-opacity=\"1\" /><path clip-path=\"url(#clip650)\" d=\"M2170.13 212.099 L2174.39 212.099 L2174.39 238.025 L2170.13 238.025 L2170.13 212.099 M2170.13 202.006 L2174.39 202.006 L2174.39 207.4 L2170.13 207.4 L2170.13 202.006 Z\" fill=\"#000000\" fill-rule=\"evenodd\" fill-opacity=\"1\" /><path clip-path=\"url(#clip650)\" d=\"M2200.36 216.034 L2200.36 202.006 L2204.62 202.006 L2204.62 238.025 L2200.36 238.025 L2200.36 234.136 Q2199.02 236.451 2196.96 237.585 Q2194.92 238.696 2192.05 238.696 Q2187.35 238.696 2184.39 234.946 Q2181.45 231.196 2181.45 225.085 Q2181.45 218.974 2184.39 215.224 Q2187.35 211.474 2192.05 211.474 Q2194.92 211.474 2196.96 212.608 Q2199.02 213.719 2200.36 216.034 M2185.85 225.085 Q2185.85 229.784 2187.77 232.469 Q2189.71 235.131 2193.09 235.131 Q2196.47 235.131 2198.41 232.469 Q2200.36 229.784 2200.36 225.085 Q2200.36 220.386 2198.41 217.724 Q2196.47 215.039 2193.09 215.039 Q2189.71 215.039 2187.77 217.724 Q2185.85 220.386 2185.85 225.085 Z\" fill=\"#000000\" fill-rule=\"evenodd\" fill-opacity=\"1\" /><path clip-path=\"url(#clip650)\" d=\"M2223.44 215.085 Q2220.01 215.085 2218.02 217.77 Q2216.03 220.432 2216.03 225.085 Q2216.03 229.738 2218 232.423 Q2219.99 235.085 2223.44 235.085 Q2226.84 235.085 2228.83 232.4 Q2230.82 229.715 2230.82 225.085 Q2230.82 220.478 2228.83 217.793 Q2226.84 215.085 2223.44 215.085 M2223.44 211.474 Q2228.99 211.474 2232.16 215.085 Q2235.34 218.696 2235.34 225.085 Q2235.34 231.451 2232.16 235.085 Q2228.99 238.696 2223.44 238.696 Q2217.86 238.696 2214.69 235.085 Q2211.54 231.451 2211.54 225.085 Q2211.54 218.696 2214.69 215.085 Q2217.86 211.474 2223.44 211.474 Z\" fill=\"#000000\" fill-rule=\"evenodd\" fill-opacity=\"1\" /><polyline clip-path=\"url(#clip650)\" style=\"stroke:#e26f46; stroke-linecap:butt; stroke-linejoin:round; stroke-width:4; stroke-opacity:1; fill:none\" points=\"\n",
       "  1682.62,272.585 1823.52,272.585 \n",
       "  \"/>\n",
       "<path clip-path=\"url(#clip650)\" d=\"M1851.68 259.147 L1851.68 286.022 L1857.33 286.022 Q1864.48 286.022 1867.79 282.781 Q1871.12 279.541 1871.12 272.55 Q1871.12 265.606 1867.79 262.388 Q1864.48 259.147 1857.33 259.147 L1851.68 259.147 M1847 255.305 L1856.61 255.305 Q1866.66 255.305 1871.36 259.494 Q1876.06 263.661 1876.06 272.55 Q1876.06 281.485 1871.33 285.675 Q1866.61 289.865 1856.61 289.865 L1847 289.865 L1847 255.305 Z\" fill=\"#000000\" fill-rule=\"evenodd\" fill-opacity=\"1\" /><path clip-path=\"url(#clip650)\" d=\"M1895.11 276.832 Q1889.94 276.832 1887.95 278.013 Q1885.96 279.193 1885.96 282.041 Q1885.96 284.309 1887.44 285.652 Q1888.95 286.971 1891.52 286.971 Q1895.06 286.971 1897.19 284.471 Q1899.34 281.948 1899.34 277.781 L1899.34 276.832 L1895.11 276.832 M1903.6 275.073 L1903.6 289.865 L1899.34 289.865 L1899.34 285.929 Q1897.88 288.291 1895.71 289.425 Q1893.53 290.536 1890.38 290.536 Q1886.4 290.536 1884.04 288.314 Q1881.7 286.068 1881.7 282.318 Q1881.7 277.943 1884.62 275.721 Q1887.56 273.499 1893.37 273.499 L1899.34 273.499 L1899.34 273.082 Q1899.34 270.143 1897.4 268.545 Q1895.48 266.925 1891.98 266.925 Q1889.76 266.925 1887.65 267.457 Q1885.55 267.99 1883.6 269.055 L1883.6 265.119 Q1885.94 264.217 1888.14 263.777 Q1890.34 263.314 1892.42 263.314 Q1898.05 263.314 1900.82 266.231 Q1903.6 269.147 1903.6 275.073 Z\" fill=\"#000000\" fill-rule=\"evenodd\" fill-opacity=\"1\" /><path clip-path=\"url(#clip650)\" d=\"M1916.59 256.578 L1916.59 263.939 L1925.36 263.939 L1925.36 267.249 L1916.59 267.249 L1916.59 281.323 Q1916.59 284.494 1917.44 285.397 Q1918.32 286.3 1920.99 286.3 L1925.36 286.3 L1925.36 289.865 L1920.99 289.865 Q1916.05 289.865 1914.18 288.036 Q1912.3 286.184 1912.3 281.323 L1912.3 267.249 L1909.18 267.249 L1909.18 263.939 L1912.3 263.939 L1912.3 256.578 L1916.59 256.578 Z\" fill=\"#000000\" fill-rule=\"evenodd\" fill-opacity=\"1\" /><path clip-path=\"url(#clip650)\" d=\"M1941.01 266.925 Q1937.58 266.925 1935.59 269.61 Q1933.6 272.272 1933.6 276.925 Q1933.6 281.578 1935.57 284.263 Q1937.56 286.925 1941.01 286.925 Q1944.41 286.925 1946.4 284.24 Q1948.39 281.555 1948.39 276.925 Q1948.39 272.318 1946.4 269.633 Q1944.41 266.925 1941.01 266.925 M1941.01 263.314 Q1946.56 263.314 1949.74 266.925 Q1952.91 270.536 1952.91 276.925 Q1952.91 283.291 1949.74 286.925 Q1946.56 290.536 1941.01 290.536 Q1935.43 290.536 1932.26 286.925 Q1929.11 283.291 1929.11 276.925 Q1929.11 270.536 1932.26 266.925 Q1935.43 263.314 1941.01 263.314 Z\" fill=\"#000000\" fill-rule=\"evenodd\" fill-opacity=\"1\" /><path clip-path=\"url(#clip650)\" d=\"M1976.49 264.703 L1976.49 268.731 Q1974.69 267.805 1972.74 267.342 Q1970.8 266.879 1968.72 266.879 Q1965.55 266.879 1963.95 267.851 Q1962.37 268.823 1962.37 270.768 Q1962.37 272.249 1963.51 273.105 Q1964.64 273.939 1968.07 274.703 L1969.53 275.027 Q1974.06 275.999 1975.96 277.781 Q1977.88 279.541 1977.88 282.712 Q1977.88 286.323 1975.01 288.429 Q1972.17 290.536 1967.17 290.536 Q1965.08 290.536 1962.81 290.119 Q1960.57 289.726 1958.07 288.916 L1958.07 284.517 Q1960.43 285.744 1962.72 286.369 Q1965.01 286.971 1967.26 286.971 Q1970.27 286.971 1971.89 285.953 Q1973.51 284.911 1973.51 283.036 Q1973.51 281.3 1972.33 280.374 Q1971.17 279.448 1967.21 278.592 L1965.73 278.244 Q1961.77 277.411 1960.01 275.698 Q1958.25 273.962 1958.25 270.953 Q1958.25 267.295 1960.85 265.305 Q1963.44 263.314 1968.21 263.314 Q1970.57 263.314 1972.65 263.661 Q1974.74 264.008 1976.49 264.703 Z\" fill=\"#000000\" fill-rule=\"evenodd\" fill-opacity=\"1\" /><path clip-path=\"url(#clip650)\" d=\"M2014.76 267.92 Q2014.04 267.504 2013.18 267.318 Q2012.35 267.11 2011.33 267.11 Q2007.72 267.11 2005.78 269.471 Q2003.86 271.809 2003.86 276.207 L2003.86 289.865 L1999.57 289.865 L1999.57 263.939 L2003.86 263.939 L2003.86 267.967 Q2005.2 265.606 2007.35 264.471 Q2009.5 263.314 2012.58 263.314 Q2013.02 263.314 2013.55 263.383 Q2014.09 263.43 2014.73 263.545 L2014.76 267.92 Z\" fill=\"#000000\" fill-rule=\"evenodd\" fill-opacity=\"1\" /><path clip-path=\"url(#clip650)\" d=\"M2040.36 275.837 L2040.36 277.92 L2020.78 277.92 Q2021.05 282.318 2023.42 284.633 Q2025.8 286.925 2030.04 286.925 Q2032.49 286.925 2034.78 286.323 Q2037.1 285.721 2039.36 284.517 L2039.36 288.545 Q2037.07 289.517 2034.67 290.027 Q2032.26 290.536 2029.78 290.536 Q2023.58 290.536 2019.94 286.925 Q2016.33 283.314 2016.33 277.156 Q2016.33 270.791 2019.76 267.064 Q2023.21 263.314 2029.04 263.314 Q2034.27 263.314 2037.3 266.693 Q2040.36 270.05 2040.36 275.837 M2036.1 274.587 Q2036.05 271.092 2034.13 269.008 Q2032.23 266.925 2029.09 266.925 Q2025.52 266.925 2023.37 268.939 Q2021.24 270.953 2020.92 274.61 L2036.1 274.587 Z\" fill=\"#000000\" fill-rule=\"evenodd\" fill-opacity=\"1\" /><path clip-path=\"url(#clip650)\" d=\"M2059.13 276.832 Q2053.97 276.832 2051.98 278.013 Q2049.99 279.193 2049.99 282.041 Q2049.99 284.309 2051.47 285.652 Q2052.98 286.971 2055.54 286.971 Q2059.09 286.971 2061.22 284.471 Q2063.37 281.948 2063.37 277.781 L2063.37 276.832 L2059.13 276.832 M2067.63 275.073 L2067.63 289.865 L2063.37 289.865 L2063.37 285.929 Q2061.91 288.291 2059.73 289.425 Q2057.56 290.536 2054.41 290.536 Q2050.43 290.536 2048.07 288.314 Q2045.73 286.068 2045.73 282.318 Q2045.73 277.943 2048.65 275.721 Q2051.59 273.499 2057.4 273.499 L2063.37 273.499 L2063.37 273.082 Q2063.37 270.143 2061.42 268.545 Q2059.5 266.925 2056.01 266.925 Q2053.79 266.925 2051.68 267.457 Q2049.57 267.99 2047.63 269.055 L2047.63 265.119 Q2049.97 264.217 2052.17 263.777 Q2054.36 263.314 2056.45 263.314 Q2062.07 263.314 2064.85 266.231 Q2067.63 269.147 2067.63 275.073 Z\" fill=\"#000000\" fill-rule=\"evenodd\" fill-opacity=\"1\" /><path clip-path=\"url(#clip650)\" d=\"M2076.4 253.846 L2080.66 253.846 L2080.66 289.865 L2076.4 289.865 L2076.4 253.846 Z\" fill=\"#000000\" fill-rule=\"evenodd\" fill-opacity=\"1\" /><path clip-path=\"url(#clip650)\" d=\"M2111.75 275.837 L2111.75 277.92 L2092.17 277.92 Q2092.44 282.318 2094.8 284.633 Q2097.19 286.925 2101.42 286.925 Q2103.88 286.925 2106.17 286.323 Q2108.48 285.721 2110.75 284.517 L2110.75 288.545 Q2108.46 289.517 2106.05 290.027 Q2103.65 290.536 2101.17 290.536 Q2094.97 290.536 2091.33 286.925 Q2087.72 283.314 2087.72 277.156 Q2087.72 270.791 2091.15 267.064 Q2094.6 263.314 2100.43 263.314 Q2105.66 263.314 2108.69 266.693 Q2111.75 270.05 2111.75 275.837 M2107.49 274.587 Q2107.44 271.092 2105.52 269.008 Q2103.62 266.925 2100.48 266.925 Q2096.91 266.925 2094.76 268.939 Q2092.63 270.953 2092.3 274.61 L2107.49 274.587 Z\" fill=\"#000000\" fill-rule=\"evenodd\" fill-opacity=\"1\" /><path clip-path=\"url(#clip650)\" d=\"M2135.27 264.703 L2135.27 268.731 Q2133.46 267.805 2131.52 267.342 Q2129.57 266.879 2127.49 266.879 Q2124.32 266.879 2122.72 267.851 Q2121.15 268.823 2121.15 270.768 Q2121.15 272.249 2122.28 273.105 Q2123.41 273.939 2126.84 274.703 L2128.3 275.027 Q2132.84 275.999 2134.73 277.781 Q2136.66 279.541 2136.66 282.712 Q2136.66 286.323 2133.79 288.429 Q2130.94 290.536 2125.94 290.536 Q2123.85 290.536 2121.59 290.119 Q2119.34 289.726 2116.84 288.916 L2116.84 284.517 Q2119.2 285.744 2121.49 286.369 Q2123.79 286.971 2126.03 286.971 Q2129.04 286.971 2130.66 285.953 Q2132.28 284.911 2132.28 283.036 Q2132.28 281.3 2131.1 280.374 Q2129.94 279.448 2125.98 278.592 L2124.5 278.244 Q2120.54 277.411 2118.79 275.698 Q2117.03 273.962 2117.03 270.953 Q2117.03 267.295 2119.62 265.305 Q2122.21 263.314 2126.98 263.314 Q2129.34 263.314 2131.42 263.661 Q2133.51 264.008 2135.27 264.703 Z\" fill=\"#000000\" fill-rule=\"evenodd\" fill-opacity=\"1\" /></svg>\n"
      ]
     },
     "execution_count": 8,
     "metadata": {},
     "output_type": "execute_result"
    }
   ],
   "source": [
    "# Este dato lo puede cambiar el usuario. Es el grado del polinomio que \n",
    "# vamos a usar para ajustar\n",
    "n = 19\n",
    "g = PolyModel(n,t,y)\n",
    "\n",
    "plot(t,[g,y], title =  n, label=[\"Modelo obtenido\" \"Datos reales\" ] )"
   ]
  },
  {
   "cell_type": "markdown",
   "id": "a332b2c6",
   "metadata": {},
   "source": [
    "# Problema 4\n",
    "\n",
    "Lo mismo pero ahora usando la facotorización $QR$ en lugar de las ecuaciones normales."
   ]
  },
  {
   "cell_type": "code",
   "execution_count": 9,
   "id": "55267594",
   "metadata": {},
   "outputs": [
    {
     "data": {
      "text/plain": [
       "QRHouseholder (generic function with 1 method)"
      ]
     },
     "execution_count": 9,
     "metadata": {},
     "output_type": "execute_result"
    }
   ],
   "source": [
    "#Esta función toma como argumento una matriz A y regresa la matriz de Householder H tal que\n",
    "# HA es una matriz cuya primera columna tiene puros ceros debajo de la diagonal\n",
    "function Householder(A)\n",
    "    (m,n)=size(A)\n",
    "\n",
    "    x = A[:,1]\n",
    "\n",
    "    e1 = zeros(m)\n",
    "    e1[1] = 1.0\n",
    "\n",
    "    v = x+sign(A[1,1])*norm(x)*e1\n",
    "    v = v/norm(v)\n",
    "\n",
    "    H = I -2*v*v'\n",
    "end\n",
    "\n",
    "#Esta función toma como argumento una matriz A de mxn. Regresa una tupla (Q,R) donde Q es una matriz ortogonal y\n",
    "# R es una matriz triangular superior tales que QR = A.\n",
    "function QRHouseholder(A)\n",
    "    (m,n) = size(A)\n",
    "    Q = Matrix(1.0*I,m,m)\n",
    "    R = A\n",
    "\n",
    "    for i = 1:n\n",
    "        HTild = Householder(R[i:m,i:n] )\n",
    "    \n",
    "        H = Matrix(1.0*I,m,m)\n",
    "        H[i:m,i:m] = HTild\n",
    "    \n",
    "        R = H*R\n",
    "        Q = H*Q\n",
    "    end\n",
    "    Q = Q'\n",
    "    return(Q,R)\n",
    "end"
   ]
  },
  {
   "cell_type": "code",
   "execution_count": 2,
   "id": "b75ae1cb",
   "metadata": {},
   "outputs": [
    {
     "data": {
      "text/plain": [
       "PolyModelQR (generic function with 1 method)"
      ]
     },
     "execution_count": 2,
     "metadata": {},
     "output_type": "execute_result"
    }
   ],
   "source": [
    "function PolyModelQR(n,t,y)\n",
    "    #Número de observaciones\n",
    "    m = length(t) \n",
    "    \n",
    "    #Calculamos la matriz de diseño A. Esta es una matriz de  mx(n+1). La entrada A_{ij} = t_i^{j-1}\n",
    "    A = zeros(m,n+1);\n",
    "    for i = 1:m\n",
    "        for j = 1:n+1\n",
    "            A[i,j] = t[i]^(j-1)\n",
    "        end\n",
    "    end\n",
    "    \n",
    "    \n",
    "    #Queremos resolver la ecuación  A c = y. Para esto encontramos la factorización QR de A:\n",
    "    (Q,R) = QRHouseholder(A)\n",
    "    \n",
    "    # La ecuación se convierte en Rc= Q^Ty. Como R es triangular superior, esto lo podemos resolver por sustitución\n",
    "    # hacia atrás\n",
    "    \n",
    "    #c0= SolBwd(R,Q'*y)\n",
    "    \n",
    "    #R tiene dimensiones mxn+1\n",
    "    s = min(m,n+1)\n",
    "    R2 = R[1:s,1:s]\n",
    "    c0 = SolBwd(R2,Q'*y)        \n",
    "    \n",
    "    #Aquí construimos la función polinomial PolyFun(x) = c0^T * (1,x, ... , x^n)^T\n",
    "    function PolyFun(x)\n",
    "        b = zeros(s)\n",
    "        for i = 1:s\n",
    "            b[i] = x^(i-1)\n",
    "        end\n",
    "        return c0'*b\n",
    "    end\n",
    "    \n",
    "    return(PolyFun)\n",
    "end"
   ]
  },
  {
   "cell_type": "code",
   "execution_count": 3,
   "id": "0a55c183",
   "metadata": {},
   "outputs": [
    {
     "ename": "LoadError",
     "evalue": "UndefVarError: t not defined",
     "output_type": "error",
     "traceback": [
      "UndefVarError: t not defined",
      "",
      "Stacktrace:",
      " [1] top-level scope",
      "   @ In[3]:12",
      " [2] eval",
      "   @ ./boot.jl:360 [inlined]",
      " [3] include_string(mapexpr::typeof(REPL.softscope), mod::Module, code::String, filename::String)",
      "   @ Base ./loading.jl:1116"
     ]
    }
   ],
   "source": [
    "#Ahora vamos a plotear los datos reales (t_i,y_i), los datos modelados mediante el algoritmo QR (t_i,h(t_i)) y\n",
    "# los datos modelados mediante ecuaciones normales (t_i,g(t_i)).\n",
    "\n",
    "# Este dato lo puede cambiar el usuario. Es el grado del polinomio que \n",
    "# vamos a usar para ajustar. Necesitas m > n\n",
    "n = 19\n",
    "\n",
    "#Modelo a partir de ecuaciones normales\n",
    "#g = PolyModel(n,t,y)\n",
    "\n",
    "#Modelo a partir de algoritmo QR\n",
    "h = PolyModelQR(n,t,y)\n",
    "\n",
    "\n",
    "plot(t,[y,h], title =  n, label=[\"Datos reales\" \"Modelo factorización QR Householder\" ] )\n",
    "\n",
    "#plot(t,[y,g,h], title =  n, label=[\"Datos reales\" \"g(t) ecuaciones normales\" \"h(t) algoritmo QR\" ] )\n",
    "   "
   ]
  },
  {
   "cell_type": "markdown",
   "id": "c9c1b908",
   "metadata": {},
   "source": [
    "Observemos que los datos se ajustan muy bien al modelo.\n",
    "¿Cuál es el número de condición de R?"
   ]
  },
  {
   "cell_type": "code",
   "execution_count": 12,
   "id": "0285afe9",
   "metadata": {},
   "outputs": [
    {
     "name": "stdout",
     "output_type": "stream",
     "text": [
      "(\"n = \", 1, \"cond(R)=\", 187.25029863335945, \"cond(A^T*A) = \", 35062.67433828433)\n",
      "(\"n = \", 2, \"cond(R)=\", 34918.52335869614, \"cond(A^T*A) = \", 1.2193032735740993e9)\n",
      "(\"n = \", 3, \"cond(R)=\", 6.261546153092644e6, \"cond(A^T*A) = \", 3.92069609137215e13)\n",
      "(\"n = \", 4, \"cond(R)=\", 1.1261969033630772e9, \"cond(A^T*A) = \", 1.2682213500233848e18)\n",
      "(\"n = \", 5, \"cond(R)=\", 2.0774101372219263e11, \"cond(A^T*A) = \", 1.5373901344564632e23)\n",
      "(\"n = \", 6, \"cond(R)=\", 3.871924646072298e13, \"cond(A^T*A) = \", 2.1068354153073705e26)\n",
      "(\"n = \", 7, \"cond(R)=\", 8.107708514361775e15, \"cond(A^T*A) = \", 6.615572427374224e29)\n",
      "(\"n = \", 8, \"cond(R)=\", 1.471594394070287e18, \"cond(A^T*A) = \", 1.4763598407746939e34)\n",
      "(\"n = \", 9, \"cond(R)=\", 7.762495610404213e20, \"cond(A^T*A) = \", 1.8564396390630998e37)\n",
      "(\"n = \", 10, \"cond(R)=\", 1.1385290757354841e25, \"cond(A^T*A) = \", 1.759474976951025e41)\n",
      "(\"n = \", 11, \"cond(R)=\", 1.0331067176441162e27, \"cond(A^T*A) = \", 2.8154417452613565e45)\n",
      "(\"n = \", 12, \"cond(R)=\", 3.5852064747051696e28, \"cond(A^T*A) = \", 1.3037370407111056e47)\n",
      "(\"n = \", 13, \"cond(R)=\", 1.2007225119784896e31, \"cond(A^T*A) = \", 1.2227978374097504e52)\n",
      "(\"n = \", 14, \"cond(R)=\", 1.1743276017330145e34, \"cond(A^T*A) = \", 4.6182823185956895e54)\n",
      "(\"n = \", 15, \"cond(R)=\", 9.097797082544422e36, \"cond(A^T*A) = \", 8.396470942652052e57)\n",
      "(\"n = \", 16, \"cond(R)=\", 5.2900274683857616e39, \"cond(A^T*A) = \", 1.4016749297356005e61)\n",
      "(\"n = \", 17, \"cond(R)=\", 1.8767350905081065e42, \"cond(A^T*A) = \", 2.2727191837443505e64)\n",
      "(\"n = \", 18, \"cond(R)=\", 1.224429137043985e46, \"cond(A^T*A) = \", 6.003779878524312e66)\n",
      "(\"n = \", 19, \"cond(R)=\", 3.2558873635130327e49, \"cond(A^T*A) = \", 1.942622974415792e70)\n"
     ]
    }
   ],
   "source": [
    "m = length(t) \n",
    "    \n",
    "for n = 1:19\n",
    "    #Calculamos la matriz de diseño A. Esta es una matriz de  mx(n+1). La entrada A_{ij} = t_i^{j-1}\n",
    "    A = zeros(m,n+1);\n",
    "    for i = 1:m\n",
    "        for j = 1:n+1\n",
    "            A[i,j] = t[i]^(j-1)\n",
    "        end\n",
    "    end\n",
    "    (Q,R) = QRHouseholder(A)\n",
    "    println( (\"n = \",n,\"cond(R)=\",cond(R), \"cond(A^T*A) = \", cond(A'*A)))\n",
    "end"
   ]
  },
  {
   "cell_type": "markdown",
   "id": "b7aeb950",
   "metadata": {},
   "source": [
    "Podemos observar que tanto $R$ como $A^TA$ están muy mal condicionadas, pero $A^TA$ está mucho peor condicionada."
   ]
  },
  {
   "cell_type": "markdown",
   "id": "961e5cd3",
   "metadata": {},
   "source": [
    "# Problema 5\n",
    "\n",
    "Considere los siguientes datos, obtenidos de un experimento a intervalos de un segundo, con la primera observación en el tiempo $t = 1.0$:\n",
    "\n",
    "t: 1 - 9                \n",
    "5.0291                    \n",
    "6.5009                   \n",
    "5.3666                   \n",
    "4.1272                   \n",
    "4.2948                   \n",
    "6.1261                   \n",
    "12.5140                  \n",
    "10.0502         \n",
    "9.1614         \n",
    "\n",
    "t: 10 -18 \n",
    "7.5677 \n",
    "7.2920\n",
    "10.0357\n",
    "11.0708\n",
    "13.4045\n",
    "12.8415\n",
    "11.9666 \n",
    "11.0765\n",
    "11.7774 \n",
    "\n",
    "t: 19 - 25  \n",
    "14.5701\n",
    "17.0440 \n",
    "17.0398 \n",
    "15.9069 \n",
    "15.4850\n",
    "15.5112\n",
    "17.6572\n",
    "\n"
   ]
  },
  {
   "cell_type": "markdown",
   "id": "a07b2f68",
   "metadata": {},
   "source": [
    "1. Utilizando las ecuaciones normales, ajuste los datos por una línea recta $y(t) = \\beta_1 + \\beta_2 t$ y grafique los residuales $y(t_k)-y_k$. Observe que uno de los datos tiene un residual mucho mayor que el resto. Sospechamos que no encaja con el resto de los datos, es decir, es un valor atípico."
   ]
  }
 ],
 "metadata": {
  "kernelspec": {
   "display_name": "Julia 1.6.2",
   "language": "julia",
   "name": "julia-1.6"
  },
  "language_info": {
   "file_extension": ".jl",
   "mimetype": "application/julia",
   "name": "julia",
   "version": "1.6.3"
  }
 },
 "nbformat": 4,
 "nbformat_minor": 5
}
